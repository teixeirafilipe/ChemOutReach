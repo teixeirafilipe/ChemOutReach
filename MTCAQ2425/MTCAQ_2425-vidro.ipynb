{
 "cells": [
  {
   "cell_type": "markdown",
   "metadata": {
    "id": "HUdTZXGEuUGt"
   },
   "source": [
    "# Aplicação Prática I: Classificação de Vidros"
   ]
  },
  {
   "cell_type": "code",
   "execution_count": null,
   "metadata": {
    "id": "LFZbZm7TB0q9"
   },
   "outputs": [],
   "source": [
    "# recolha dos dados\n",
    "!wget https://tinyurl.com/fvkedcjd\n",
    "!mv fvkedcjd exemplo_1_dados.xlsx\n",
    "# carregar dados usando o pandas\n",
    "import pandas as pd\n",
    "\n",
    "dados = pd.read_excel('exemplo_1_dados.xlsx')"
   ]
  },
  {
   "cell_type": "code",
   "execution_count": null,
   "metadata": {
    "id": "0hfNWq9nCdHT"
   },
   "outputs": [],
   "source": [
    "# observar os dados\n",
    "dados"
   ]
  },
  {
   "cell_type": "code",
   "execution_count": null,
   "metadata": {
    "id": "ekFdcqZ4Cgdu"
   },
   "outputs": [],
   "source": [
    "# criar um sumário dos dados\n",
    "dados.describe()"
   ]
  },
  {
   "cell_type": "code",
   "execution_count": null,
   "metadata": {
    "id": "t7XQi_4BC-DT"
   },
   "outputs": [],
   "source": [
    "# divisão entre dados de treino e de teste\n",
    "from sklearn import model_selection\n",
    "\n",
    "treino, teste = model_selection.train_test_split(dados, train_size=0.6, stratify=dados['Is_musk'], random_state=42)\n",
    "\n",
    "target='Is_musk'\n",
    "features=[f\"f{x:d}\" for x in range(1,167)]\n",
    "print(features)"
   ]
  },
  {
   "cell_type": "markdown",
   "metadata": {
    "id": "RAiSUNB2JyrF"
   },
   "source": [
    "### Primeira abordagem: PCA\n",
    "\n",
    "O PCA aparece como método de redução de dimensionalidade que permite identificar agrupamentos nos dados. Caso a localização ao longo de um dado PC permita estabelelecer uma divisão entre casos positivos e negativos, podemos usar esse PC como parte de um modelo classificador."
   ]
  },
  {
   "cell_type": "code",
   "execution_count": null,
   "metadata": {
    "id": "-Q_ALW3rF7bk"
   },
   "outputs": [],
   "source": [
    "from sklearn import decomposition\n",
    "\n",
    "pca = decomposition.PCA(n_components=10)\n",
    "#treinamos o modelo PCA\n",
    "pca.fit_transform(treino[features])\n",
    "print(pca.explained_variance_ratio_)"
   ]
  },
  {
   "cell_type": "code",
   "execution_count": null,
   "metadata": {
    "id": "kmDXcuAAHyFb"
   },
   "outputs": [],
   "source": [
    "scores_treino = pca.transform(treino[features])\n",
    "scores_teste = pca.transform(teste[features])\n",
    "\n",
    "import matplotlib.pyplot as plt\n",
    "\n",
    "fg, ax = plt.subplots()\n",
    "s1 = ax.scatter(scores_treino[:,0], scores_treino[:,1], c=treino[target], cmap='bwr', label='Treino', marker='o')\n",
    "s2 = ax.scatter(scores_teste[:,0], scores_teste[:,1], c=teste[target], cmap='PuOr', label='Treino', marker='v')\n",
    "ax.set_xlabel(\"PC1 (35 %)\")\n",
    "ax.set_ylabel(\"PC2 (20 %)\")\n",
    "\n",
    "ax.legend()\n",
    "plt.show()"
   ]
  },
  {
   "cell_type": "markdown",
   "metadata": {
    "id": "GDJpIhBrN-7V"
   },
   "source": [
    "### Segunda Abordagem: Regressão Logística\n",
    "Apesar do seu nome, a regressão logística é um método de classificação supervisionada."
   ]
  },
  {
   "cell_type": "code",
   "execution_count": null,
   "metadata": {
    "id": "lnv81lzhONH1"
   },
   "outputs": [],
   "source": [
    "from sklearn import linear_model\n",
    "\n",
    "clf = linear_model.LogisticRegression(max_iter=5000)\n",
    "clf.fit(treino[features], treino[target])\n",
    "\n",
    "# calculamos o score (excatidão) para o treino e para o teste\n",
    "s_treino = clf.score(treino[features], treino[target])\n",
    "s_teste = clf.score(teste[features], teste[target])\n",
    "\n",
    "print(f\"Score no treino: {s_treino:6.4f}\")\n",
    "print(f\"Score no teste : {s_teste:6.4f}\")"
   ]
  },
  {
   "cell_type": "markdown",
   "metadata": {
    "id": "eC8LqxatmZIH"
   },
   "source": [
    "Para avaliar o sistema, usamos uma ou mais métricas."
   ]
  },
  {
   "cell_type": "code",
   "execution_count": null,
   "metadata": {
    "id": "CFyjoMbwmYxl"
   },
   "outputs": [],
   "source": [
    "from sklearn import metrics\n",
    "acc_treino = metrics.accuracy_score(treino[target],clf.predict(treino[features]))\n",
    "acc_teste = metrics.accuracy_score(teste[target],clf.predict(teste[features]))\n",
    "print(f\"Exatidão no treino: {acc_treino:0.4f}\")\n",
    "print(f\"Exatidão no teste: {acc_teste:0.4f}\")"
   ]
  },
  {
   "cell_type": "code",
   "execution_count": null,
   "metadata": {
    "id": "s8AvftPUsP1o"
   },
   "outputs": [],
   "source": [
    "acc_treino = metrics.precision_score(treino[target],clf.predict(treino[features]))\n",
    "acc_teste = metrics.precision_score(teste[target],clf.predict(teste[features]))\n",
    "print(f\"Precisão no treino: {acc_treino:0.4f}\")\n",
    "print(f\"Precisão no teste: {acc_teste:0.4f}\")"
   ]
  },
  {
   "cell_type": "code",
   "execution_count": null,
   "metadata": {
    "id": "83KivAzguAws"
   },
   "outputs": [],
   "source": [
    "acc_treino = metrics.recall_score(treino[target],clf.predict(treino[features]))\n",
    "acc_teste = metrics.recall_score(teste[target],clf.predict(teste[features]))\n",
    "print(f\"Recall no treino: {acc_treino:0.4f}\")\n",
    "print(f\"Recall no teste: {acc_teste:0.4f}\")"
   ]
  },
  {
   "cell_type": "code",
   "execution_count": null,
   "metadata": {
    "id": "rM_oHHuowInq"
   },
   "outputs": [],
   "source": [
    "fig, axs = plt.subplots(1,2,figsize=(8,3))\n",
    "axs[0].set_title(\"ROC AUC com os dados de treino\")\n",
    "metrics.RocCurveDisplay.from_estimator(clf,treino[features],treino[target],ax=axs[0])\n",
    "axs[1].set_title(\"ROC AUC com os dados de teste\")\n",
    "metrics.RocCurveDisplay.from_estimator(clf,teste[features],teste[target],ax=axs[1])\n",
    "plt.show()"
   ]
  },
  {
   "cell_type": "code",
   "execution_count": null,
   "metadata": {
    "id": "xc-OdCpIy_eU"
   },
   "outputs": [],
   "source": [
    "fig, axs = plt.subplots(1,2,figsize=(12,4))\n",
    "axs[0].set_title(\"Matriz de confusão com os dados de treino\")\n",
    "metrics.ConfusionMatrixDisplay.from_estimator(clf,treino[features],treino[target],normalize='true',ax=axs[0], cmap=\"summer\")\n",
    "axs[1].set_title(\"Matriz de confusão com os dados de teste\")\n",
    "metrics.ConfusionMatrixDisplay.from_estimator(clf,teste[features],teste[target],normalize='true',ax=axs[1], cmap=\"summer\")\n",
    "plt.show()"
   ]
  },
  {
   "cell_type": "code",
   "execution_count": null,
   "metadata": {
    "id": "xMcAzu-3uhv6"
   },
   "outputs": [],
   "source": [
    "# recolha dos dados\n",
    "!wget https://tinyurl.com/4yzbe8h9\n",
    "!mv 4yzbe8h9 exemplo_2_dados.xlsx\n",
    "# carregar dados usando o pandas\n",
    "import pandas as pd\n",
    "\n",
    "dados = pd.read_excel('exemplo_2_dados.xlsx')"
   ]
  },
  {
   "cell_type": "code",
   "execution_count": null,
   "metadata": {
    "id": "TzX3Qb_43qaG"
   },
   "outputs": [],
   "source": [
    "dados.describe()"
   ]
  },
  {
   "cell_type": "code",
   "execution_count": null,
   "metadata": {
    "id": "EPgAgdOx4KXU"
   },
   "outputs": [],
   "source": [
    "target='Type'\n",
    "features=['RI','Na','Mg','Al','Si','K','Ca','Ba','Fe']\n",
    "\n",
    "treino, teste = model_selection.train_test_split(dados, train_size=0.6, stratify=dados[target], random_state=42)"
   ]
  },
  {
   "cell_type": "markdown",
   "metadata": {
    "id": "oqimrycf3zPl"
   },
   "source": [
    "### Classificação por Árvore de Decisão"
   ]
  },
  {
   "cell_type": "code",
   "execution_count": null,
   "metadata": {
    "id": "gIkZ0cP23wuH"
   },
   "outputs": [],
   "source": [
    "from sklearn import tree\n",
    "\n",
    "clf = tree.DecisionTreeClassifier()\n",
    "clf.fit(treino[features], treino[target])"
   ]
  },
  {
   "cell_type": "code",
   "execution_count": null,
   "metadata": {
    "id": "YFPooNUb4tvR"
   },
   "outputs": [],
   "source": [
    "# Nem todas as métricas são diretamente aplicávais a casos não binários..\n",
    "acc_treino = metrics.accuracy_score(treino[target],clf.predict(treino[features]))\n",
    "acc_teste = metrics.accuracy_score(teste[target],clf.predict(teste[features]))\n",
    "print(f\"Exatidão no treino: {acc_treino:0.4f}\")\n",
    "print(f\"Exatidão no teste: {acc_teste:0.4f}\")\n",
    "\n",
    "\n",
    "\n",
    "fig, axs = plt.subplots(1,2,figsize=(12,4))\n",
    "axs[0].set_title(\"Matriz de confusão com os dados de treino\")\n",
    "metrics.ConfusionMatrixDisplay.from_estimator(clf,treino[features],treino[target],normalize='true',ax=axs[0], cmap=\"summer\")\n",
    "axs[1].set_title(\"Matriz de confusão com os dados de teste\")\n",
    "metrics.ConfusionMatrixDisplay.from_estimator(clf,teste[features],teste[target],normalize='true',ax=axs[1], cmap=\"summer\")\n",
    "plt.show()"
   ]
  },
  {
   "cell_type": "code",
   "execution_count": null,
   "metadata": {
    "id": "XbBafd7BydA1"
   },
   "outputs": [],
   "source": [
    "fig,ax = plt.subplots(figsize=(15,7))\n",
    "tree.plot_tree(clf, max_depth=3,feature_names=features, class_names=['1','2','3','5','6','7'], label='root', filled=True, ax=ax, fontsize=9, rounded=True)\n",
    "plt.show()"
   ]
  },
  {
   "cell_type": "markdown",
   "metadata": {},
   "source": [
    "### Classificação por Random Forest"
   ]
  },
  {
   "cell_type": "code",
   "execution_count": null,
   "metadata": {
    "id": "WJ08tQ862rbg"
   },
   "outputs": [],
   "source": [
    "from sklearn import ensemble\n",
    "\n",
    "clf = ensemble.RandomForestClassifier(random_state=42)\n",
    "clf.fit(treino[features], treino[target])\n",
    "\n",
    "acc_treino = metrics.accuracy_score(treino[target],clf.predict(treino[features]))\n",
    "acc_teste = metrics.accuracy_score(teste[target],clf.predict(teste[features]))\n",
    "print(f\"Exatidão no treino: {acc_treino:0.4f}\")\n",
    "print(f\"Exatidão no teste: {acc_teste:0.4f}\")\n",
    "\n",
    "fig, axs = plt.subplots(1,2,figsize=(12,4))\n",
    "axs[0].set_title(\"Matriz de confusão com os dados de treino\")\n",
    "metrics.ConfusionMatrixDisplay.from_estimator(clf,treino[features],treino[target],normalize='true',ax=axs[0], cmap=\"summer\")\n",
    "axs[1].set_title(\"Matriz de confusão com os dados de teste\")\n",
    "metrics.ConfusionMatrixDisplay.from_estimator(clf,teste[features],teste[target],normalize='true',ax=axs[1], cmap=\"summer\")\n",
    "plt.show()"
   ]
  },
  {
   "cell_type": "markdown",
   "metadata": {},
   "source": [
    "### Optimização dos Hiper-parâmetros de uma Random Forest"
   ]
  },
  {
   "cell_type": "code",
   "execution_count": null,
   "metadata": {
    "id": "k9wEg3rv8nHE"
   },
   "outputs": [],
   "source": [
    "# optimizacao dos hiper-parametros\n",
    "\n",
    "clf_base = ensemble.RandomForestClassifier(random_state=42)\n",
    "\n",
    "# criamos um dicionario com os valores a dar a cada hiper-parametro\n",
    "params = {'n_estimators': [10, 25, 50, 100, 150, 200],\n",
    "          'max_samples': [0.10, 0.25, 0.5, 0.75, 1.0],\n",
    "          'max_features': [0.10, 0.25, 0.5, 0.75, 1.0]}\n",
    "\n",
    "clf = model_selection.GridSearchCV(clf_base, params, refit=True)\n",
    "\n",
    "clf.fit(treino[features],treino[target])"
   ]
  },
  {
   "cell_type": "code",
   "execution_count": null,
   "metadata": {
    "id": "1rr9MEpG-U-J"
   },
   "outputs": [],
   "source": [
    "import seaborn as sns\n",
    "cv_data = pd.DataFrame(clf.cv_results_)\n",
    "sns.boxplot(x='param_n_estimators', y='mean_test_score', data=cv_data)\n"
   ]
  },
  {
   "cell_type": "code",
   "execution_count": null,
   "metadata": {
    "id": "T4mbp9gX_zJA"
   },
   "outputs": [],
   "source": [
    "sns.boxplot(x='param_max_features', y='mean_test_score', data=cv_data)"
   ]
  },
  {
   "cell_type": "code",
   "execution_count": null,
   "metadata": {
    "id": "dbGlJ0bI_3nE"
   },
   "outputs": [],
   "source": [
    "sns.boxplot(x='param_max_samples', y='mean_test_score', data=cv_data)"
   ]
  },
  {
   "cell_type": "code",
   "execution_count": null,
   "metadata": {
    "id": "v8R2xKwF_7aF"
   },
   "outputs": [],
   "source": [
    "print(clf.best_params_)"
   ]
  },
  {
   "cell_type": "code",
   "execution_count": null,
   "metadata": {
    "id": "b5AVLGljAYen"
   },
   "outputs": [],
   "source": [
    "acc_treino = metrics.accuracy_score(treino[target],clf.predict(treino[features]))\n",
    "acc_teste = metrics.accuracy_score(teste[target],clf.predict(teste[features]))\n",
    "print(f\"Exatidão no treino: {acc_treino:0.4f}\")\n",
    "print(f\"Exatidão no teste: {acc_teste:0.4f}\")\n",
    "\n",
    "fig, axs = plt.subplots(1,2,figsize=(12,4))\n",
    "axs[0].set_title(\"Matriz de confusão com os dados de treino\")\n",
    "metrics.ConfusionMatrixDisplay.from_estimator(clf,treino[features],treino[target],normalize='true',ax=axs[0], cmap=\"summer\")\n",
    "axs[1].set_title(\"Matriz de confusão com os dados de teste\")\n",
    "metrics.ConfusionMatrixDisplay.from_estimator(clf,teste[features],teste[target],normalize='true',ax=axs[1], cmap=\"summer\")\n",
    "plt.show()"
   ]
  },
  {
   "cell_type": "code",
   "execution_count": null,
   "metadata": {
    "id": "7tQAJ_yuBTBQ"
   },
   "outputs": [],
   "source": []
  }
 ],
 "metadata": {
  "colab": {
   "provenance": []
  },
  "kernelspec": {
   "display_name": "Python 3 (ipykernel)",
   "language": "python",
   "name": "python3"
  },
  "language_info": {
   "codemirror_mode": {
    "name": "ipython",
    "version": 3
   },
   "file_extension": ".py",
   "mimetype": "text/x-python",
   "name": "python",
   "nbconvert_exporter": "python",
   "pygments_lexer": "ipython3",
   "version": "3.13.1"
  }
 },
 "nbformat": 4,
 "nbformat_minor": 4
}

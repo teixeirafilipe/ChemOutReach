{
 "cells": [
  {
   "cell_type": "markdown",
   "id": "14c4284b-ad81-4fe6-9ab7-4e7a0ac5db69",
   "metadata": {},
   "source": [
    "# _Machine Learning_ e Automatização a partir de Imagens\n",
    "\n",
    "Este _notebook_ contém uma demonstração de aplicação de _Machine Learning_ na deteção de anomalias a partir de imagens.\n",
    "\n",
    "## Objectivos\n",
    "Esta demonstação usa uma coleção de fotografias de sete bananas e tenciona treinar um modelo básico de deteção de anomalias visuais em frutos. Isto é feito em duas etapas:\n",
    "1. Identificação do fruto contra o fundo da imagem, usando um método de redução da dimnesionalidade.\n",
    "2. Identificação de anomalias em regiões da imangen identificadas como contendo o fruto, usando um método de aprendizagem não supervisionada.\n",
    "\n",
    "## Resumo da Metodologia\n",
    "As fotos usadas nesta demonstração têm todas uma dimensão de 1920 por 1080 pixeis (aproximadamente 2 MPixeis) de uma banana contra um fundo branco, e uma única fonte de iluminação colocada à frente e acima de máquina. Com excepção da banana nº 1 (a qual só tem duas fotografias: A e B), existem tês fotografias (A, B, e C) por banana. As fotografias das bananas 1 e 2 serão reservadas para aplicação do modelo final. Cada uma das outras fotos é processada da seguinte forma:\n",
    "1. São recolhidas `a_nummber` alícotas de cada imagem, cada uma com 64x64 pixeis, em posições aleatórias,e gravadas numa tabela.\n",
    "2. As alícotas das fotografias A e B de cada uma das bananas 3 a 7 são usadas para \"treinar\" um modelo de Análise de Componentes Principais.\n",
    "3. As alícotas das fotografias C das bananas 3 a 7 são então usadas para aferir a capacidade do modelo PCA de identificar a banana contra o fundo, em imagens novas.\n",
    "4. Cada fotografia A e B das bananas 3 a 7 é então \"varrida\" sistematicamente, de forma a identificar as regiões que retratam a banana em cada imagem. A localização dessas regiões é então gravada numa nova tabela.\n",
    "5. As regiões encontradas no ponto anterior são usadas para treinar um modelo de _Support Vector Machine_ de forma a identificar anomalias visuais.\n",
    "6. Os dois modelos são usados de forma conjugada para identificar a percentage de anomalias visuais detetadas em cada banana."
   ]
  },
  {
   "cell_type": "markdown",
   "id": "76321e4a-6fd7-4d61-bbeb-cfb7173aad61",
   "metadata": {},
   "source": [
    "# Parâmetros da Demonstração\n",
    "\n",
    "A célula abaixo define parâmetros que serão usados como constantes ao longo do trabalho."
   ]
  },
  {
   "cell_type": "code",
   "execution_count": null,
   "id": "ea2e33e7-8e2c-4854-8664-84cd9671c425",
   "metadata": {},
   "outputs": [],
   "source": [
    "# tamanho de cada alicota (64 por 64 pixeis)\n",
    "a_size = (64,64)\n",
    "# numero de alicotas por imagem\n",
    "a_number = 50\n",
    "\n",
    "# pasta com as fotos\n",
    "src_dir='./fotos/'\n",
    "\n",
    "# estas fotos são reservadas para a demonstração final do modelo\n",
    "reserve_files=['banana_1_A.png','banana_1_B.png',\n",
    "               'banana_2_A.png','banana_2_B.png','banana_2_C.png']"
   ]
  },
  {
   "cell_type": "markdown",
   "id": "1e2e4348-760d-4a9d-81f6-598c621ca7f9",
   "metadata": {},
   "source": [
    "## Bibliotecas de Funções Auxiliares\n",
    "A célula abaixo carrega as bibliotecas e funções necessárias para o trabalho prático."
   ]
  },
  {
   "cell_type": "code",
   "execution_count": null,
   "id": "14280f49-dc18-4ac6-889d-21b1e7e71541",
   "metadata": {},
   "outputs": [],
   "source": [
    "from pathlib import Path\n",
    "import numpy as np\n",
    "import pandas as pd\n",
    "import matplotlib.pyplot as plt\n",
    "from matplotlib import image\n",
    "%matplotlib inline\n",
    "\n",
    "# criar um gerador de números aleatórios para a amostragem\n",
    "my_rng = np.random.default_rng(seed=20250521)\n",
    "\n",
    "def amostragem_aleatoria(fn):\n",
    "    \"\"\"Gera as posições de a_number alicotas na imagen do ficheiro fn e retorna\n",
    "    uma lista de dicionarios (um por alicota) com nome do ficheiro, identificacao\n",
    "    da banana e da fotografia, URI da foto e posicao (x e y) da alicota.\"\"\"\n",
    "    output = list()\n",
    "    img = image.imread(fn)\n",
    "    l=fn.name[:-4].split('_')[1:]\n",
    "    # calculate the max values of x and y to draw an aliquot\n",
    "    max_x = img.shape[1] - a_size[0]\n",
    "    max_y = img.shape[0] - a_size[1]\n",
    "    for n in range(a_number):\n",
    "        o={}\n",
    "        o['filename']=fn.name\n",
    "        o['uri']=fn.absolute().as_uri()\n",
    "        o['banana']=l[0]\n",
    "        o['fotografia']=l[1]\n",
    "        o['alicota']=n+1\n",
    "        o['x']=my_rng.integers(max_x-1)\n",
    "        o['y']=my_rng.integers(max_y-1)\n",
    "        output.append(o)\n",
    "    return output\n",
    "\n",
    "def amostragem_em_grelha(fn):\n",
    "    \"\"\"Divide a imagem em fn numa grelha de alicotas e retorna uma lista de dicionarios\n",
    "    (um por alicota) com nome do ficheiro, identificacao\n",
    "    da banana e da fotografia, URI da foto e posicao (x e y) da alicota.\"\"\"\n",
    "    output = list()\n",
    "    img = image.imread(fn)\n",
    "    l=fn.name[:-4].split('_')[1:]\n",
    "    # calculate the max values of x and y to draw an aliquot\n",
    "    n = 0\n",
    "    for x in np.arange(img.shape[1],step=a_size[0]):\n",
    "        if x+a_size[0] < img.shape[1]:\n",
    "            for y in np.arange(img.shape[0],step=a_size[1]):\n",
    "                if y+a_size[1] < img.shape[0]:\n",
    "                    o={}\n",
    "                    o['filename']=fn.name\n",
    "                    o['uri']=fn.absolute().as_uri()\n",
    "                    o['banana']=l[0]\n",
    "                    o['fotografia']=l[1]\n",
    "                    o['alicota']=n+1\n",
    "                    o['x']=x\n",
    "                    o['y']=y\n",
    "                    output.append(o)\n",
    "                    n += 1\n",
    "    return output\n",
    "\n",
    "def normalizar_imagem(m):\n",
    "    m -= m.min()\n",
    "    m /= m.max()\n",
    "    return m\n",
    "\n",
    "def mostrar_imagem(fn, normalizar=False):\n",
    "    f_img=image.imread(fn)\n",
    "    if normalizar:\n",
    "        f_img = normalizar_imagem(f_img)\n",
    "    plt.matshow(f_img)\n",
    "\n",
    "def mostrar_alicotas(a_list, banana, foto):\n",
    "    have_img = False\n",
    "    for a in a_list:\n",
    "        if (int(a['banana'])==banana) and (a['fotografia']==foto.upper()):\n",
    "            if not have_img:\n",
    "                img = image.imread(Path.from_uri(a['uri']))\n",
    "                img = normalizar_imagem(img)\n",
    "                mask = np.ones(img.shape)\n",
    "                have_img=True\n",
    "            x=a['x']\n",
    "            y=a['y']\n",
    "            mask[y:y+a_size[1],x:x+a_size[0],:] *= 0.9\n",
    "    plt.matshow(normalizar_imagem(mask*img))\n",
    "\n",
    "def criar_X(a_list):\n",
    "    \"\"\"Cria uma array com as alicotas lidas a partir de a_list\"\"\"\n",
    "    l=[]\n",
    "    for a in a_list:\n",
    "        img=image.imread(Path.from_uri(a['uri']))\n",
    "        x = a['x']\n",
    "        y = a['y']\n",
    "        l.append(img[y:y+a_size[1],x:x+a_size[0],:].reshape(-1))\n",
    "    return np.array(l)\n",
    "\n",
    "def aplicar_modelo(modelo, a_list, X=None):\n",
    "    \"\"\"Aplica o modelo a uma lista de alicotas e devolve uma pandas.DataFrame\n",
    "    com a resposta do modelo na coluna RESP\"\"\"\n",
    "    if X is None:\n",
    "        X = criar_X(a_list)\n",
    "    if 'predict' in dir(modelo):\n",
    "        resp = modelo.predict(X)\n",
    "    elif 'transform' in dir(modelo):\n",
    "        resp = modelo.transform(X)[:,0]\n",
    "    else:\n",
    "        raise NotImplementedError(\"Modelo desconhecido!\")\n",
    "    o=pd.DataFrame(a_list)\n",
    "    o['RESP']=resp\n",
    "    return o\n",
    "\n",
    "def mostrar_resposta(r_df):\n",
    "    \"\"\"Lê uma DataFrame com a resposta de um modelo (coluna RESP) e \n",
    "    cria uma representação visual\"\"\"\n",
    "    has_img = False\n",
    "    for a in r_df.iterrows():\n",
    "        if not has_img:\n",
    "            img = image.imread(Path.from_uri(a[1]['uri']))\n",
    "            mask = np.zeros(img.shape)\n",
    "            has_img=True\n",
    "        x=a[1]['x']\n",
    "        y=a[1]['y']\n",
    "        mask[y:y+a_size[1],x:x+a_size[0],0] += a[1]['RESP']\n",
    "    plt.matshow(normalizar_imagem(mask))\n",
    "    plt.matshow(normalizar_imagem(img*mask))\n"
   ]
  },
  {
   "cell_type": "markdown",
   "id": "0b6f0ad1-e176-457b-aead-1e2096785ce4",
   "metadata": {},
   "source": [
    "## Parte 1: Recolha das Alícotas"
   ]
  },
  {
   "cell_type": "code",
   "execution_count": null,
   "id": "085f926f-c5e2-4d12-807b-5e1c9a49cee5",
   "metadata": {},
   "outputs": [],
   "source": [
    "alicotas = list()\n",
    "\n",
    "for banana in range(3,8):\n",
    "    for foto in ['A','B']:\n",
    "        fn= Path(src_dir) / f\"banana_{banana}_{foto}.png\"\n",
    "        alicotas += amostragem_aleatoria(fn)\n",
    "\n",
    "print(f\"Foram recolhidas {len(alicotas)} alicotas!\")"
   ]
  },
  {
   "cell_type": "code",
   "execution_count": null,
   "id": "d5a5f459-9f8f-4a86-baa1-fe747d2a3f11",
   "metadata": {},
   "outputs": [],
   "source": [
    "# mostrar as alicotas recolhidas da fotografia 'B' da banana no 4\n",
    "mostrar_alicotas(alicotas,4,'B')"
   ]
  },
  {
   "cell_type": "markdown",
   "id": "53706950-c4e7-4623-beb8-11f14d40673a",
   "metadata": {},
   "source": [
    "## Parte 2: Detetar Bananas com PCA"
   ]
  },
  {
   "cell_type": "code",
   "execution_count": null,
   "id": "64724ec1-38b6-47bb-8aee-b8f149016848",
   "metadata": {},
   "outputs": [],
   "source": [
    "from sklearn.decomposition import PCA\n",
    "\n",
    "X = criar_X(alicotas)\n",
    "m_pca = PCA(n_components=3)\n",
    "m_pca.fit(X)\n",
    "print(m_pca.explained_variance_ratio_)"
   ]
  },
  {
   "cell_type": "code",
   "execution_count": null,
   "id": "d703a5dd-2307-4a0f-aca4-2ed0c0ee1078",
   "metadata": {},
   "outputs": [],
   "source": [
    "r_pca = aplicar_modelo(m_pca,alicotas,X)"
   ]
  },
  {
   "cell_type": "code",
   "execution_count": null,
   "id": "86d11690-42cd-447e-a3df-c9bbd30cd6c9",
   "metadata": {},
   "outputs": [],
   "source": [
    "mostrar_resposta(r_pca[r_pca['filename']=='banana_4_A.png'])"
   ]
  },
  {
   "cell_type": "code",
   "execution_count": null,
   "id": "3bca4de4-2bbc-479c-ae2c-57272533aaef",
   "metadata": {},
   "outputs": [],
   "source": [
    "grelha = amostragem_em_grelha(Path(src_dir)/'banana_3_C.png')\n",
    "print(f\"A grelha contém {len(grelha)} alicotas.\")\n",
    "r_grelha = aplicar_modelo(m_pca,grelha)\n",
    "mostrar_resposta(r_grelha)"
   ]
  },
  {
   "cell_type": "markdown",
   "id": "64fe1bf2-c48d-41b9-b462-4cc392814f92",
   "metadata": {},
   "source": [
    "## Parte 2: Deteção de Anomalias Visuais em Bananas\n",
    "\n",
    "Em primeiro lugar, vamos aplicar o modelo PCA a uma amostragem de grelha de todas as fotografias A e B das bananas 3 a 7, e selecionar apenas as alícotas com PC1 < 0 (no exemplo acima as bananas são manchadas a ciano, o que implica que o canal vermelho foi reduzido pela máscara)."
   ]
  },
  {
   "cell_type": "code",
   "execution_count": null,
   "id": "11a9843f-b5e5-4ef3-9724-59fb1048c559",
   "metadata": {},
   "outputs": [],
   "source": [
    "alicotas2 = list()\n",
    "\n",
    "for banana in range(3,8):\n",
    "    for foto in ['A','B']:\n",
    "        fn= Path(src_dir) / f\"banana_{banana}_{foto}.png\"\n",
    "        alicotas2 += amostragem_aleatoria(fn)\n",
    "\n",
    "print(f\"Foram recolhidas {len(alicotas2)} alicotas!\")"
   ]
  },
  {
   "cell_type": "markdown",
   "id": "bb7a3308-0074-4cfe-8f54-5bcb6773af76",
   "metadata": {},
   "source": [
    "A próxima célula pode demorar um tempo considerável a correr."
   ]
  },
  {
   "cell_type": "code",
   "execution_count": null,
   "id": "212609e3-2809-482d-af88-deee159925fc",
   "metadata": {},
   "outputs": [],
   "source": [
    "resultado = aplicar_modelo(m_pca,alicotas2)"
   ]
  },
  {
   "cell_type": "code",
   "execution_count": null,
   "id": "6bcc13f8-cb33-49c8-bdde-df4989794426",
   "metadata": {},
   "outputs": [],
   "source": [
    "filtrado = resultado[resultado['RESP']<0]\n",
    "# remover a coluna 'RESP' e converter numa lista de dicionarios para aplicar novo modelo\n",
    "bananas = filtrado.drop(columns=['RESP']).to_dict('records')\n",
    "print(f\"Temos {len(bananas)} alicotas de banana! :)\")"
   ]
  },
  {
   "cell_type": "markdown",
   "id": "349fcc91-47cd-420b-aa12-b777442c7741",
   "metadata": {},
   "source": [
    "Agora, criamos um modelo de Isolation Forest para detacção de anomalias. Mais uma vez, a célula seguinte pode demorar algum tempo a correr."
   ]
  },
  {
   "cell_type": "code",
   "execution_count": null,
   "id": "a91076d2-aa69-4628-9d37-c0b6529d4292",
   "metadata": {},
   "outputs": [],
   "source": [
    "#from sklearn.ensemble import IsolationForest\n",
    "\n",
    "#m_if = IsolationForest()\n",
    "X=criar_X(bananas)\n",
    "#m_if.fit(X)\n",
    "\n",
    "from sklearn.svm import OneClassSVM\n",
    "m_svm = OneClassSVM()\n",
    "m_svm.fit(X)"
   ]
  },
  {
   "cell_type": "code",
   "execution_count": null,
   "id": "5b337e5d-62f0-463e-a35a-292f532e96d9",
   "metadata": {},
   "outputs": [],
   "source": [
    "#r_if = aplicar_modelo(m_if,bananas,X)\n",
    "r_svm = aplicar_modelo(m_svm,bananas,X)"
   ]
  },
  {
   "cell_type": "code",
   "execution_count": null,
   "id": "7cd330a3-db98-4771-889b-7c4c1c0b8c82",
   "metadata": {},
   "outputs": [],
   "source": [
    "mostrar_resposta(r_svm[r_svm['filename']=='banana_7_A.png'])"
   ]
  },
  {
   "cell_type": "markdown",
   "id": "a92a5138-b3ad-4f56-8a2e-719bb69b85b0",
   "metadata": {},
   "source": [
    "## Parte 3: Aplicação dos modelos.\n",
    "\n",
    "Finalmente, vamos aplicar os modelos a duas bananas \"novas\": banana 1 e 2. para isso defiimos uma nova função que condensa a análise e toma como entrada apenas o nome do ficheiro, e devolve, para além das imagens, a perentagem de banana classificada pelo SVM como parte da classe \"+1\"."
   ]
  },
  {
   "cell_type": "code",
   "execution_count": null,
   "id": "2ff4e820-b617-4121-94c4-8b26246e63f9",
   "metadata": {},
   "outputs": [],
   "source": [
    "ficheiro=Path(src_dir) / 'banana_1_A.png'\n",
    "def analisar_banana(ficheiro):\n",
    "    grelha1=amostragem_em_grelha(ficheiro)\n",
    "    print(f\"A grelha tem {len(grelha1)} alicotas\")\n",
    "    r1=aplicar_modelo(m_pca,grelha1,criar_X(grelha1))\n",
    "    mostrar_resposta(r1)\n",
    "    f1 = r1[r1['RESP']<0]\n",
    "    # remover a coluna 'RESP' e converter numa lista de dicionarios para aplicar novo modelo\n",
    "    b1 = f1.drop(columns=['RESP']).to_dict('records')\n",
    "    print(f\"Temos {len(b1)} alicotas de banana! :)\")\n",
    "    r2 = aplicar_modelo(m_svm,b1,criar_X(b1))\n",
    "    mostrar_resposta(r2)\n",
    "    return 100.0*(len(r2[r2['RESP'] == 1])/len(b1))\n"
   ]
  },
  {
   "cell_type": "code",
   "execution_count": null,
   "id": "b308fc92-2ffd-484a-8852-4a18e0033e46",
   "metadata": {},
   "outputs": [],
   "source": [
    "analisar_banana(Path(src_dir) / 'banana_1_A.png')"
   ]
  },
  {
   "cell_type": "code",
   "execution_count": null,
   "id": "82d71b36-a814-467b-92bf-744f78dc650c",
   "metadata": {},
   "outputs": [],
   "source": [
    "analisar_banana(Path(src_dir) / 'banana_1_B.png')"
   ]
  },
  {
   "cell_type": "code",
   "execution_count": null,
   "id": "84278eb3-dc63-4c49-99b6-52dff8d7db19",
   "metadata": {},
   "outputs": [],
   "source": [
    "analisar_banana(Path(src_dir) / 'banana_2_A.png')"
   ]
  },
  {
   "cell_type": "code",
   "execution_count": null,
   "id": "409a11e6-868a-415a-8a93-8b6f31b4dda4",
   "metadata": {},
   "outputs": [],
   "source": [
    "analisar_banana(Path(src_dir) / 'banana_2_B.png')"
   ]
  },
  {
   "cell_type": "code",
   "execution_count": null,
   "id": "51d6dac8-5124-4f71-ad0a-3df3850ead7c",
   "metadata": {},
   "outputs": [],
   "source": []
  }
 ],
 "metadata": {
  "kernelspec": {
   "display_name": "Python 3 (ipykernel)",
   "language": "python",
   "name": "python3"
  },
  "language_info": {
   "codemirror_mode": {
    "name": "ipython",
    "version": 3
   },
   "file_extension": ".py",
   "mimetype": "text/x-python",
   "name": "python",
   "nbconvert_exporter": "python",
   "pygments_lexer": "ipython3",
   "version": "3.13.1"
  }
 },
 "nbformat": 4,
 "nbformat_minor": 5
}

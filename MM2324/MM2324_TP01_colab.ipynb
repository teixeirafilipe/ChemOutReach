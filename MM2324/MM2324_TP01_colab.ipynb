{
  "nbformat": 4,
  "nbformat_minor": 0,
  "metadata": {
    "colab": {
      "provenance": [],
      "toc_visible": true
    },
    "kernelspec": {
      "name": "python3",
      "display_name": "Python 3"
    },
    "language_info": {
      "name": "python"
    }
  },
  "cells": [
    {
      "cell_type": "markdown",
      "source": [
        "# Modelação Molecular\n",
        "\n",
        "## TP1 - Introdução ao Python\n",
        "\n"
      ],
      "metadata": {
        "id": "MfaJSN26RA85"
      }
    },
    {
      "cell_type": "markdown",
      "source": [
        "# Fundamentos de Python"
      ],
      "metadata": {
        "id": "A7S_CX2rRssj"
      }
    },
    {
      "cell_type": "markdown",
      "source": [
        "Isto é uma célula de texto!"
      ],
      "metadata": {
        "id": "JqS4YTMPD62c"
      }
    },
    {
      "cell_type": "code",
      "source": [
        "2 + 2 # enter\n",
        "3+4 # shift + enter"
      ],
      "metadata": {
        "id": "EGexZbo6EApA"
      },
      "execution_count": null,
      "outputs": []
    },
    {
      "cell_type": "markdown",
      "source": [
        "## Python como calculadora"
      ],
      "metadata": {
        "id": "pbQD1yqN8FVl"
      }
    },
    {
      "cell_type": "code",
      "source": [
        "a = 34.5\n",
        "b = 42"
      ],
      "metadata": {
        "id": "e2bY7qRg_LPV"
      },
      "execution_count": null,
      "outputs": []
    },
    {
      "cell_type": "code",
      "source": [
        "b*b"
      ],
      "metadata": {
        "id": "0ZjivJ0Z88Yj"
      },
      "execution_count": null,
      "outputs": []
    },
    {
      "cell_type": "code",
      "source": [
        "print(f\" Se a é {a} e b for {b}:\")\n",
        "print(\"O resultado de a + b é: \",a+b)\n",
        "print(\"O resultado de a - b é: \",a-b)\n",
        "print(\"O resultado de a * b é: \",a*b)\n",
        "print(\"O resultado de a / b é: \",a/b)\n",
        "print(\"O resultado de b ** a é: \",b**a)\n",
        "print(\"O resultado de b // a é: \",b//a)\n",
        "print(\"O resultado de b % a é: \",b%a)"
      ],
      "metadata": {
        "id": "vGhhFbeG9F2s"
      },
      "execution_count": null,
      "outputs": []
    },
    {
      "cell_type": "code",
      "source": [
        "2**(0.5)"
      ],
      "metadata": {
        "id": "ZH597nvaFQtV"
      },
      "execution_count": null,
      "outputs": []
    },
    {
      "cell_type": "code",
      "source": [
        "print(2+4*3) # 14\n",
        "print((2+4)*3) # 18"
      ],
      "metadata": {
        "id": "sRGsfK7KFZKp"
      },
      "execution_count": null,
      "outputs": []
    },
    {
      "cell_type": "markdown",
      "source": [
        "## Objetos e métodos\n",
        "Em python tudo (ou quase tudo) é um objeto!\n",
        "Um **objeto** é um conjunto de **dados** aos quais estão associados alguns **métodos** para a sua manipulação (métodos ou funções)"
      ],
      "metadata": {
        "id": "zvNv4-jL-bjJ"
      }
    },
    {
      "cell_type": "code",
      "source": [
        "# exemplo de objecto\n",
        "a = 34.5\n",
        "dir(a)"
      ],
      "metadata": {
        "id": "Y0PLskwo-g-Q"
      },
      "execution_count": null,
      "outputs": []
    },
    {
      "cell_type": "code",
      "source": [
        "a.is_integer()"
      ],
      "metadata": {
        "id": "7UFHS7WbqscV"
      },
      "execution_count": null,
      "outputs": []
    },
    {
      "cell_type": "code",
      "source": [
        "b=42.\n",
        "b.is_integer()"
      ],
      "metadata": {
        "id": "qFPBsLmeGF_Y"
      },
      "execution_count": null,
      "outputs": []
    },
    {
      "cell_type": "code",
      "source": [
        "a.as_integer_ratio()"
      ],
      "metadata": {
        "id": "3Nk4Ye9equTy"
      },
      "execution_count": null,
      "outputs": []
    },
    {
      "cell_type": "code",
      "source": [
        "oMeuTexto=\"Olá a todos!\""
      ],
      "metadata": {
        "id": "KmM_0ZQvqyMR"
      },
      "execution_count": null,
      "outputs": []
    },
    {
      "cell_type": "code",
      "source": [
        "dir(oMeuTexto)"
      ],
      "metadata": {
        "id": "fKVEPq3Nq2kn"
      },
      "execution_count": null,
      "outputs": []
    },
    {
      "cell_type": "code",
      "source": [
        "print(oMeuTexto)\n",
        "print(oMeuTexto.lower())\n",
        "print(oMeuTexto.upper())\n",
        "print(oMeuTexto.split())\n",
        "print(oMeuTexto.split('o'))"
      ],
      "metadata": {
        "id": "cPm7w4_z_PXn"
      },
      "execution_count": null,
      "outputs": []
    },
    {
      "cell_type": "code",
      "source": [
        "help(oMeuTexto.upper)"
      ],
      "metadata": {
        "id": "tsyZs4V1_tm_"
      },
      "execution_count": null,
      "outputs": []
    },
    {
      "cell_type": "markdown",
      "source": [
        "### Listas"
      ],
      "metadata": {
        "id": "3zTh19fTrBQh"
      }
    },
    {
      "cell_type": "code",
      "source": [
        "aMinhaLista=[5,6,7]"
      ],
      "metadata": {
        "id": "Ht7J5XDnrDOh"
      },
      "execution_count": null,
      "outputs": []
    },
    {
      "cell_type": "code",
      "source": [
        "print(aMinhaLista)"
      ],
      "metadata": {
        "id": "Gt_DTqVLIu7Z"
      },
      "execution_count": null,
      "outputs": []
    },
    {
      "cell_type": "code",
      "source": [
        "print(dir(aMinhaLista))"
      ],
      "metadata": {
        "id": "hLiEEXPsIzZ3"
      },
      "execution_count": null,
      "outputs": []
    },
    {
      "cell_type": "code",
      "source": [
        "aMinhaLista.reverse()\n",
        "print(aMinhaLista)"
      ],
      "metadata": {
        "id": "h7qBxjxkJEiv"
      },
      "execution_count": null,
      "outputs": []
    },
    {
      "cell_type": "code",
      "source": [
        "aMinhaLista.append(10)\n",
        "print(aMinhaLista)"
      ],
      "metadata": {
        "id": "QrDvD0u-JNJv"
      },
      "execution_count": null,
      "outputs": []
    },
    {
      "cell_type": "code",
      "source": [
        "aMinhaLista.index(6)"
      ],
      "metadata": {
        "id": "EJVOyfwmJWCA"
      },
      "execution_count": null,
      "outputs": []
    },
    {
      "cell_type": "code",
      "source": [
        "print(aMinhaLista[0])"
      ],
      "metadata": {
        "id": "sM8ouUkeJjEe"
      },
      "execution_count": null,
      "outputs": []
    },
    {
      "cell_type": "code",
      "source": [
        "print(aMinhaLista[-1])"
      ],
      "metadata": {
        "id": "qsNFvCQ2Jmxd"
      },
      "execution_count": null,
      "outputs": []
    },
    {
      "cell_type": "code",
      "source": [
        "aMinhaLista.sort()\n",
        "print(aMinhaLista)"
      ],
      "metadata": {
        "id": "E9deuVdXJwKZ"
      },
      "execution_count": null,
      "outputs": []
    },
    {
      "cell_type": "code",
      "source": [
        "help(aMinhaLista.extend)"
      ],
      "metadata": {
        "id": "XMay3HnHJ4Et"
      },
      "execution_count": null,
      "outputs": []
    },
    {
      "cell_type": "code",
      "source": [
        "aMinhaLista.extend(['ola','a','todos'])\n",
        "print(aMinhaLista)"
      ],
      "metadata": {
        "id": "kTXUHtxnKBqq"
      },
      "execution_count": null,
      "outputs": []
    },
    {
      "cell_type": "markdown",
      "source": [
        "### Dicionários"
      ],
      "metadata": {
        "id": "GqSIUbnqrLoB"
      }
    },
    {
      "cell_type": "code",
      "source": [
        "we = {'monday': 2, 'sunday':4}\n",
        "print(we)"
      ],
      "metadata": {
        "id": "v9Xoyj8PrNs5"
      },
      "execution_count": null,
      "outputs": []
    },
    {
      "cell_type": "code",
      "source": [
        "print(we['sunday'])"
      ],
      "metadata": {
        "id": "SWt13Rm8KdSl"
      },
      "execution_count": null,
      "outputs": []
    },
    {
      "cell_type": "code",
      "source": [
        " we['tuesday'] = 3 # cria ou re-define o elemento 'tuesday'\n",
        " print(we)"
      ],
      "metadata": {
        "id": "hfCbKz21rQji"
      },
      "execution_count": null,
      "outputs": []
    },
    {
      "cell_type": "code",
      "source": [
        "dados = {'x' : [1,2,3,4,5,6],\n",
        "         'y' : [9.0, 7.0, 6.5, 6.0, 5.70, 5.5] }"
      ],
      "metadata": {
        "id": "JXboxLwPrTGJ"
      },
      "execution_count": null,
      "outputs": []
    },
    {
      "cell_type": "code",
      "source": [
        "print(dados)"
      ],
      "metadata": {
        "id": "-XUNY0ajrX9w"
      },
      "execution_count": null,
      "outputs": []
    },
    {
      "cell_type": "code",
      "source": [
        "dir(we)"
      ],
      "metadata": {
        "id": "LB9XINsRKy1H"
      },
      "execution_count": null,
      "outputs": []
    },
    {
      "cell_type": "code",
      "source": [
        "we.keys()"
      ],
      "metadata": {
        "id": "twP0fZDWK5C2"
      },
      "execution_count": null,
      "outputs": []
    },
    {
      "cell_type": "code",
      "source": [
        "'saturday' in we.keys()"
      ],
      "metadata": {
        "id": "5CzuEdy0K7-k"
      },
      "execution_count": null,
      "outputs": []
    },
    {
      "cell_type": "code",
      "source": [
        "# definir uma função\n",
        "def quadrado(x):\n",
        "  return x**2"
      ],
      "metadata": {
        "id": "COaJ3h6W_7eA"
      },
      "execution_count": null,
      "outputs": []
    },
    {
      "cell_type": "code",
      "source": [
        "quadrado"
      ],
      "metadata": {
        "id": "Fd4tZ6diLp-N"
      },
      "execution_count": null,
      "outputs": []
    },
    {
      "cell_type": "code",
      "source": [
        "quadrado(20)"
      ],
      "metadata": {
        "id": "piE5s79mAQzl"
      },
      "execution_count": null,
      "outputs": []
    },
    {
      "cell_type": "code",
      "source": [
        "def factorial(n):\n",
        "  if (n == 1):\n",
        "    return 1\n",
        "  else:\n",
        "    return n*factorial(n-1)"
      ],
      "metadata": {
        "id": "-upgKdSHAa-U"
      },
      "execution_count": null,
      "outputs": []
    },
    {
      "cell_type": "code",
      "source": [
        "factorial(100)"
      ],
      "metadata": {
        "id": "w3semGL_BA71"
      },
      "execution_count": null,
      "outputs": []
    },
    {
      "cell_type": "markdown",
      "source": [
        "### Módulos"
      ],
      "metadata": {
        "id": "cwXwwlDVCBGO"
      }
    },
    {
      "cell_type": "code",
      "source": [
        "import time\n",
        "agora = time.time()\n",
        "print(agora)"
      ],
      "metadata": {
        "id": "5CzJrE3dCA2J"
      },
      "execution_count": null,
      "outputs": []
    },
    {
      "cell_type": "code",
      "source": [
        "help(time.time)"
      ],
      "metadata": {
        "id": "NeujW8s4M4zK"
      },
      "execution_count": null,
      "outputs": []
    },
    {
      "cell_type": "code",
      "source": [
        "mais_tarde=time.time()\n",
        "print(f\"Passaram {mais_tarde-agora} segundos.\")"
      ],
      "metadata": {
        "id": "0l900Mz0EFsB"
      },
      "execution_count": null,
      "outputs": []
    },
    {
      "cell_type": "code",
      "source": [
        "import math\n",
        "print(dir(math))"
      ],
      "metadata": {
        "id": "2LaARPZWEfiA"
      },
      "execution_count": null,
      "outputs": []
    },
    {
      "cell_type": "code",
      "source": [
        "print(math.ceil(4.3)) # 5\n",
        "print(math.floor(4.9999999)) #4\n",
        "print(math.factorial(5))\n",
        "print(math.sqrt(25))"
      ],
      "metadata": {
        "id": "v8k6uaAJEpPR"
      },
      "execution_count": null,
      "outputs": []
    },
    {
      "cell_type": "code",
      "source": [
        "# pandas -> leitura e manipulação de dados\n",
        "import pandas as pd"
      ],
      "metadata": {
        "id": "7M92Tr_iFaDf"
      },
      "execution_count": null,
      "outputs": []
    },
    {
      "cell_type": "code",
      "source": [
        "dados = pd.DataFrame({'A':[1,2,3,4,5,6,7,8,9],'B':[6.2,2.3,2.5,1.4,2.6,6.4,4.5,7.8,9.1]})"
      ],
      "metadata": {
        "id": "gXZqABKKFl52"
      },
      "execution_count": null,
      "outputs": []
    },
    {
      "cell_type": "code",
      "source": [
        "dados"
      ],
      "metadata": {
        "id": "yKHE2GLoF4QH"
      },
      "execution_count": null,
      "outputs": []
    },
    {
      "cell_type": "code",
      "source": [
        "dados.loc[dados['B']>dados['B'].mean()]"
      ],
      "metadata": {
        "id": "yJg9vCA3F_DY"
      },
      "execution_count": null,
      "outputs": []
    },
    {
      "cell_type": "code",
      "source": [
        "dados.to_excel('dados_de_exemplo.xlsx',index=False)"
      ],
      "metadata": {
        "id": "OAyXc0QIGkdO"
      },
      "execution_count": null,
      "outputs": []
    },
    {
      "cell_type": "code",
      "source": [
        "dados.plot.box()"
      ],
      "metadata": {
        "id": "gLnAdLubHFhT"
      },
      "execution_count": null,
      "outputs": []
    },
    {
      "cell_type": "code",
      "source": [
        "# numpy -> métodos numéricos\n",
        "# scipy -> métodos compostos\n"
      ],
      "metadata": {
        "id": "FmWpf39PHd9d"
      },
      "execution_count": null,
      "outputs": []
    },
    {
      "cell_type": "code",
      "source": [
        "#  sympy -> calculo simbólico\n",
        "import sympy"
      ],
      "metadata": {
        "id": "LLTuSLDFISZb"
      },
      "execution_count": null,
      "outputs": []
    },
    {
      "cell_type": "code",
      "source": [
        "C , n, p = sympy.symbols('C n p')\n",
        "expr_C = 2*n +23*p+12.5*(p-n)**2\n",
        "print(expr_C)"
      ],
      "metadata": {
        "id": "iu0Y8efcIcyK"
      },
      "execution_count": null,
      "outputs": []
    },
    {
      "cell_type": "code",
      "source": [
        "sympy.diff(expr_C,p)"
      ],
      "metadata": {
        "id": "631r6PzFJXan"
      },
      "execution_count": null,
      "outputs": []
    },
    {
      "cell_type": "code",
      "source": [
        "sympy.diff(expr_C,n)"
      ],
      "metadata": {
        "id": "0HRO7L2qJej5"
      },
      "execution_count": null,
      "outputs": []
    },
    {
      "cell_type": "code",
      "source": [
        "# matplotlib e seaborn -> graficos"
      ],
      "metadata": {
        "id": "ISaJxfdHJmlc"
      },
      "execution_count": null,
      "outputs": []
    },
    {
      "cell_type": "markdown",
      "source": [
        "## Execução condicionada: if, elif, else"
      ],
      "metadata": {
        "id": "LUsWytOVKRKu"
      }
    },
    {
      "cell_type": "code",
      "source": [
        "a = 1\n",
        "if a < 5:\n",
        "  print(\"a é menor que 5\")\n",
        "elif a < 2:\n",
        "  print(\"a é menor que 2\")\n",
        "elif a > 10:\n",
        "  print(\"a é maior que 10\")\n",
        "else:\n",
        "  print(\"a está entre 5 e 10, inclusive\")"
      ],
      "metadata": {
        "id": "opJcEG2gKWvZ"
      },
      "execution_count": null,
      "outputs": []
    },
    {
      "cell_type": "markdown",
      "source": [
        "## Execução repetida: ciclos for e while\n",
        "ciclos for -> quando sabemos a priori quantas vezes vamos repetir o código\n",
        "\n",
        "ciclos while -> quando o código deve ser repetido até que uma dada condição seja verdadeira"
      ],
      "metadata": {
        "id": "FmggsLm6K1gq"
      }
    },
    {
      "cell_type": "markdown",
      "source": [
        "### Ciclos for"
      ],
      "metadata": {
        "id": "pv7xMcL_sCEa"
      }
    },
    {
      "cell_type": "code",
      "source": [
        "lst_objetos = ['livro', 'estojo', 'carro'] # lista de objectos"
      ],
      "metadata": {
        "id": "HyPB2AKjrp7A"
      },
      "execution_count": null,
      "outputs": []
    },
    {
      "cell_type": "code",
      "source": [
        "for objecto in lst_objetos:\n",
        "  print(\"O objecto agora é um\", objecto)"
      ],
      "metadata": {
        "id": "cXuNTNBnrrwB"
      },
      "execution_count": null,
      "outputs": []
    },
    {
      "cell_type": "markdown",
      "source": [
        "### A função range()"
      ],
      "metadata": {
        "id": "qVnNXjObrxXA"
      }
    },
    {
      "cell_type": "code",
      "source": [
        "for i in range(3):\n",
        "  print(i)"
      ],
      "metadata": {
        "id": "_0_fZIN3rwZf"
      },
      "execution_count": null,
      "outputs": []
    },
    {
      "cell_type": "code",
      "source": [
        "for i in range(4,10):\n",
        "  print(i)"
      ],
      "metadata": {
        "id": "3fedeHDgr10p"
      },
      "execution_count": null,
      "outputs": []
    },
    {
      "cell_type": "code",
      "source": [
        "for i in range(-10,10,2):\n",
        "  print(i)"
      ],
      "metadata": {
        "id": "euuvOdRgr3bQ"
      },
      "execution_count": null,
      "outputs": []
    },
    {
      "cell_type": "markdown",
      "source": [
        "### Ciclos while\n",
        "Exemplo: determinar o primeiro nº inteiro cujo inverso é menor que 0.025"
      ],
      "metadata": {
        "id": "8KH3z5a4r-Ar"
      }
    },
    {
      "cell_type": "code",
      "source": [
        "for n in range(1,1000):\n",
        "  if 1/n < 0.025:\n",
        "    break\n",
        "print(n, 1/n)"
      ],
      "metadata": {
        "id": "8gx33baTsIcX"
      },
      "execution_count": null,
      "outputs": []
    },
    {
      "cell_type": "code",
      "source": [
        "n=1\n",
        "while 1/n >= 0.025:\n",
        "  n = n+1 # vamos incrementando o valor de n\n",
        "print(n,1/n)"
      ],
      "metadata": {
        "id": "eXveEVrPsMgH"
      },
      "execution_count": null,
      "outputs": []
    },
    {
      "cell_type": "markdown",
      "source": [
        "## Funções"
      ],
      "metadata": {
        "id": "PjKbHsrGsSNf"
      }
    },
    {
      "cell_type": "code",
      "source": [
        "def euDigoOla():\n",
        "  print(\"Olá!\\nEu sou a funçao que diz olá!\")"
      ],
      "metadata": {
        "id": "7ffrMrH2sswv"
      },
      "execution_count": null,
      "outputs": []
    },
    {
      "cell_type": "code",
      "source": [
        "euDigoOla()"
      ],
      "metadata": {
        "id": "vPzjqEqeQMyd"
      },
      "execution_count": null,
      "outputs": []
    },
    {
      "cell_type": "code",
      "source": [
        "def imprimeQuadrado(n):\n",
        "  print(f\"O quadrado de {n} é {n**2}\")"
      ],
      "metadata": {
        "id": "4NiRSkCBsvcO"
      },
      "execution_count": null,
      "outputs": []
    },
    {
      "cell_type": "code",
      "source": [
        "imprimeQuadrado(2)"
      ],
      "metadata": {
        "id": "KQiLNccxQWM2"
      },
      "execution_count": null,
      "outputs": []
    },
    {
      "cell_type": "code",
      "source": [
        "def media(lista):\n",
        "  \"Devolve a média dos valores de uma lista\"\n",
        "  n = len(lista)\n",
        "  return sum(lista)/n"
      ],
      "metadata": {
        "id": "vRUYXggksx33"
      },
      "execution_count": null,
      "outputs": []
    },
    {
      "cell_type": "code",
      "source": [
        "x = media([2,3,6,9,8,4,12,3])\n",
        "print(x)\n",
        "print(x**2)"
      ],
      "metadata": {
        "id": "R041DTO-QiE9"
      },
      "execution_count": null,
      "outputs": []
    },
    {
      "cell_type": "code",
      "source": [
        "def minMedMax(lista):\n",
        "  \"Devolve o mínimo, média e máximo de uma lista\"\n",
        "  return (min(lista), media(lista), max(lista))\n"
      ],
      "metadata": {
        "id": "N2cS8mWgs1YJ"
      },
      "execution_count": null,
      "outputs": []
    },
    {
      "cell_type": "code",
      "source": [
        "minMedMax([2,3,6,9,8,4,12,3])"
      ],
      "metadata": {
        "id": "6xaSEQPlQ46I"
      },
      "execution_count": null,
      "outputs": []
    },
    {
      "cell_type": "code",
      "source": [
        "help(media)"
      ],
      "metadata": {
        "id": "1ySbtFsfs4aH"
      },
      "execution_count": null,
      "outputs": []
    },
    {
      "cell_type": "code",
      "source": [
        "def factorial_for(n):\n",
        "  r = 1\n",
        "  for i in range(1,n+1):\n",
        "    r = r * i\n",
        "  return r"
      ],
      "metadata": {
        "id": "gY92eDtwK1Hx"
      },
      "execution_count": null,
      "outputs": []
    },
    {
      "cell_type": "markdown",
      "source": [
        "## O Módulo Numpy"
      ],
      "metadata": {
        "id": "orK4vQFjPayd"
      }
    },
    {
      "cell_type": "code",
      "source": [
        "import numpy as np"
      ],
      "metadata": {
        "id": "uqgjRXyvtLjn"
      },
      "execution_count": null,
      "outputs": []
    },
    {
      "cell_type": "code",
      "source": [
        "a = np.array([5.2, 4.6, 3.2])"
      ],
      "metadata": {
        "id": "NmH-Z60FtM_m"
      },
      "execution_count": null,
      "outputs": []
    },
    {
      "cell_type": "code",
      "source": [
        "a"
      ],
      "metadata": {
        "id": "j0E8cX7hRlvE"
      },
      "execution_count": null,
      "outputs": []
    },
    {
      "cell_type": "code",
      "source": [
        "dir(a)"
      ],
      "metadata": {
        "id": "Vd2kpNAYRpCd"
      },
      "execution_count": null,
      "outputs": []
    },
    {
      "cell_type": "code",
      "source": [
        "a.shape"
      ],
      "metadata": {
        "id": "o0F6FWqvtOAt"
      },
      "execution_count": null,
      "outputs": []
    },
    {
      "cell_type": "code",
      "source": [
        "a.size"
      ],
      "metadata": {
        "id": "hCElsLLGtQge"
      },
      "execution_count": null,
      "outputs": []
    },
    {
      "cell_type": "code",
      "source": [
        "a.min()"
      ],
      "metadata": {
        "id": "slKDMuBPtR0e"
      },
      "execution_count": null,
      "outputs": []
    },
    {
      "cell_type": "code",
      "source": [
        "a.argmin() # localização do mínimo"
      ],
      "metadata": {
        "id": "CI_sH1ZZtS9G"
      },
      "execution_count": null,
      "outputs": []
    },
    {
      "cell_type": "code",
      "source": [
        "a"
      ],
      "metadata": {
        "id": "0pl7DSxESFEL"
      },
      "execution_count": null,
      "outputs": []
    },
    {
      "cell_type": "markdown",
      "source": [
        "### Algebra Linear"
      ],
      "metadata": {
        "id": "A-Dz3vjItXiq"
      }
    },
    {
      "cell_type": "code",
      "source": [
        "v1 = np.array([8.2,6.1,3.0])\n",
        "v2 = np.array([1.0, 0.0, 0.0])\n",
        "np.linalg.norm(v1)"
      ],
      "metadata": {
        "id": "O3acFLIGtUXH"
      },
      "execution_count": null,
      "outputs": []
    },
    {
      "cell_type": "code",
      "source": [
        "np.dot(v1,v2)/np.linalg.norm(v2)"
      ],
      "metadata": {
        "id": "dUc2q2uztdvd"
      },
      "execution_count": null,
      "outputs": []
    },
    {
      "cell_type": "markdown",
      "source": [
        "### Números Aleatórios\n",
        "\n",
        "Gerar números aleatórios é vital em várias aplicações da modelação molecular.\n",
        "No entanto, se usarmos números totalmente aleatórios, nenhuma simulação será reproduzivel, já que o gerador de números aleatórios não vai gerar duas vezes a mesma sequência de valores aleatórios."
      ],
      "metadata": {
        "id": "fA1fU7OIKbFz"
      }
    },
    {
      "cell_type": "code",
      "source": [
        "# import numpy as np\n",
        "x = np.random.random()\n",
        "print(\"Um número aleatório entre 0 e 1\",x)\n",
        "x = np.random.random(3)\n",
        "print(\"Uma array com 3 números aleatórios entre 0 e 1\",x)\n",
        "x = np.random.normal()\n",
        "print(\"Um número aleatório extraído de uma distribuição normal de média 0 e desvio padrão 1\",x)\n",
        "x = np.random.normal(5,0.5,10)\n",
        "print(\"Uma array com 10 números aleatórios extraídos de uma distribuição normal de média 5 e desvio padrão 0.5\",x)"
      ],
      "metadata": {
        "id": "UbnqCNTTOLMX"
      },
      "execution_count": null,
      "outputs": []
    },
    {
      "cell_type": "markdown",
      "source": [
        "Sempre que corremos a célula acima vamos encontrar números diferentes. Mesmo que retiremos o comentário à primeira linha (i.e. caregar o módulo na memória sempre que pedirmos para correr a célula), os números vão ser diferentes. Isto traz uma desvantagem em Modelação Molecular: a falta de reprodutibilidade!\n",
        "\n",
        "Para termos resultados reproduzíveis devemos ter uma fonte (gerador) de números aleatórios previsível (ou seja, os números devem ser aleatórios, mas ser gerados numa sequência repetível). Para isso, criamos um gerador de números aleatórios (com a função ``numpy.random.default_rng()`` fornecendo-lhe um número inteiro que sirva de semente). O objecto gerador de núeros aleatórios tem os mesmos métodos para gerar números aleatórios que o sub-módulo ``numpy.random``."
      ],
      "metadata": {
        "id": "9y-mUYBgO1rJ"
      }
    },
    {
      "cell_type": "code",
      "source": [
        "gerador = np.random.default_rng(42)\n",
        "x = gerador.random()\n",
        "print(\"Um número aleatório entre 0 e 1\",x)\n",
        "x = gerador.random(3)\n",
        "print(\"Uma array com 3 números aleatórios entre 0 e 1\",x)\n",
        "x = gerador.normal()\n",
        "print(\"Um número aleatório extraído de uma distribuição normal de média 0 e desvio padrão 1\",x)\n",
        "x = gerador.normal(5,0.5,10)\n",
        "print(\"Uma array com 10 números aleatórios extraídos de uma distribuição normal de média 5 e desvio padrão 0.5\",x)"
      ],
      "metadata": {
        "id": "9hwSelYFPvmJ"
      },
      "execution_count": null,
      "outputs": []
    },
    {
      "cell_type": "markdown",
      "source": [
        "Agora sempre que corrermos a célula acima, os números aleatórios serão sempre iguais!"
      ],
      "metadata": {
        "id": "L4ruy-I2QGTH"
      }
    },
    {
      "cell_type": "markdown",
      "source": [
        "## O Módulo Sympy"
      ],
      "metadata": {
        "id": "csDzPdS4tj1N"
      }
    },
    {
      "cell_type": "code",
      "source": [
        "import sympy"
      ],
      "metadata": {
        "id": "7xP67GbGtoL1"
      },
      "execution_count": null,
      "outputs": []
    },
    {
      "cell_type": "code",
      "source": [
        "x, y = sympy.symbols(\"x y\")"
      ],
      "metadata": {
        "id": "Xyw_Kv1ytpcN"
      },
      "execution_count": null,
      "outputs": []
    },
    {
      "cell_type": "code",
      "source": [
        "expr = sympy.sqrt(x / sympy.log(y))"
      ],
      "metadata": {
        "id": "BO-_luA_tqk1"
      },
      "execution_count": null,
      "outputs": []
    },
    {
      "cell_type": "code",
      "source": [
        "print(expr)"
      ],
      "metadata": {
        "id": "ob3Hv6o6trdl"
      },
      "execution_count": null,
      "outputs": []
    },
    {
      "cell_type": "code",
      "source": [
        "expr"
      ],
      "metadata": {
        "id": "rBNV7c4STEKK"
      },
      "execution_count": null,
      "outputs": []
    },
    {
      "cell_type": "code",
      "source": [
        "sympy.diff(expr,x)"
      ],
      "metadata": {
        "id": "ot8cVnxGtsSd"
      },
      "execution_count": null,
      "outputs": []
    },
    {
      "cell_type": "code",
      "source": [
        "sympy.integrate(expr,x)"
      ],
      "metadata": {
        "id": "SkeQwoj6ttYp"
      },
      "execution_count": null,
      "outputs": []
    },
    {
      "cell_type": "code",
      "source": [
        "sympy.print_fcode(sympy.integrate(expr,x))"
      ],
      "metadata": {
        "id": "IvmKc7oqTfiZ"
      },
      "execution_count": null,
      "outputs": []
    },
    {
      "cell_type": "markdown",
      "source": [
        "## Módulos Matplotlib e Seaborn"
      ],
      "metadata": {
        "id": "xxHzYDhat0JS"
      }
    },
    {
      "cell_type": "code",
      "source": [
        "import matplotlib.pyplot as plt"
      ],
      "metadata": {
        "id": "HpR5WC_zt4-l"
      },
      "execution_count": null,
      "outputs": []
    },
    {
      "cell_type": "code",
      "source": [
        "dados = {'x' : [1,     2,   3,   4,   5,    6,],\n",
        "         'y' : [9.0, 7.0, 6.5, 6.0, 5.70, 5.5] }\n",
        "\n",
        "print(dados)"
      ],
      "metadata": {
        "id": "lDkWzv3pt6Pt"
      },
      "execution_count": null,
      "outputs": []
    },
    {
      "cell_type": "code",
      "source": [
        "plt.plot(dados['x'],dados['y'])\n",
        "plt.show()"
      ],
      "metadata": {
        "id": "Z-TkuEKit7Ne"
      },
      "execution_count": null,
      "outputs": []
    },
    {
      "cell_type": "code",
      "source": [
        "plt.clf()"
      ],
      "metadata": {
        "id": "KpreZ--Nt_oM"
      },
      "execution_count": null,
      "outputs": []
    },
    {
      "cell_type": "code",
      "source": [
        "# array com todos os numeros entre 0 e 5 com intervalos de 0.2\n",
        "x = np.arange(0.0, 5.0, 0.2)\n",
        "plt.plot(x, x, \"r--\", x, np.cos(x), \"bs\", x, np.sqrt(x), \"g^\")\n",
        "plt.show()"
      ],
      "metadata": {
        "id": "cBw2IYTWuCl3"
      },
      "execution_count": null,
      "outputs": []
    },
    {
      "cell_type": "markdown",
      "source": [
        "### O Módulo Seaborn"
      ],
      "metadata": {
        "id": "SjzsfNp_uMvA"
      }
    },
    {
      "cell_type": "code",
      "source": [
        "import seaborn as sns\n",
        "#sns.set_theme()"
      ],
      "metadata": {
        "id": "Djk1ndVTuLZG"
      },
      "execution_count": null,
      "outputs": []
    },
    {
      "cell_type": "code",
      "source": [
        "penguins = sns.load_dataset(\"penguins\")"
      ],
      "metadata": {
        "id": "Xci9vFY5uRsE"
      },
      "execution_count": null,
      "outputs": []
    },
    {
      "cell_type": "code",
      "source": [
        "sns.jointplot(data=penguins, x=\"flipper_length_mm\", y=\"bill_length_mm\",\n",
        "hue=\"species\")\n",
        "plt.show()"
      ],
      "metadata": {
        "id": "NfNFVT6zuSml"
      },
      "execution_count": null,
      "outputs": []
    },
    {
      "cell_type": "markdown",
      "source": [
        "## O Módulo Pandas"
      ],
      "metadata": {
        "id": "zWk5JmoZuXK8"
      }
    },
    {
      "cell_type": "code",
      "source": [
        "import pandas as pd"
      ],
      "metadata": {
        "id": "kKBsAzjpucxM"
      },
      "execution_count": null,
      "outputs": []
    },
    {
      "cell_type": "code",
      "source": [
        "print(dados)"
      ],
      "metadata": {
        "id": "ZknPzwV-ud59"
      },
      "execution_count": null,
      "outputs": []
    },
    {
      "cell_type": "code",
      "source": [
        "d = pd.DataFrame(dados)"
      ],
      "metadata": {
        "id": "Hb43QCzquenM"
      },
      "execution_count": null,
      "outputs": []
    },
    {
      "cell_type": "code",
      "source": [
        "d"
      ],
      "metadata": {
        "id": "-q3Ik5qpWcqN"
      },
      "execution_count": null,
      "outputs": []
    },
    {
      "cell_type": "code",
      "source": [
        "d.mean().mean()"
      ],
      "metadata": {
        "id": "YIYN5Evgufd0"
      },
      "execution_count": null,
      "outputs": []
    },
    {
      "cell_type": "code",
      "source": [
        "d.loc[d['x']>=d['x'].mean()] # pesquisa por linhas cujo x >= média(x)"
      ],
      "metadata": {
        "id": "wdO9T7PJuhck"
      },
      "execution_count": null,
      "outputs": []
    },
    {
      "cell_type": "code",
      "source": [
        "d.to_numpy() # converte numa array do numpy"
      ],
      "metadata": {
        "id": "8F7bua08uj3T"
      },
      "execution_count": null,
      "outputs": []
    },
    {
      "cell_type": "code",
      "source": [
        "d.to_csv('teste.csv',index=False)"
      ],
      "metadata": {
        "id": "7gTyUk4QuqBd"
      },
      "execution_count": null,
      "outputs": []
    },
    {
      "cell_type": "code",
      "source": [
        "d.to_excel('teste.xlsx', index=False)"
      ],
      "metadata": {
        "id": "MZl3CV7kuuFM"
      },
      "execution_count": null,
      "outputs": []
    },
    {
      "cell_type": "code",
      "source": [
        "novos_dados = pd.read_excel('teste.xlsx')"
      ],
      "metadata": {
        "id": "vVmr5ZlBXVxl"
      },
      "execution_count": null,
      "outputs": []
    },
    {
      "cell_type": "code",
      "source": [
        "novos_dados"
      ],
      "metadata": {
        "id": "FMmXeFokXdU3"
      },
      "execution_count": null,
      "outputs": []
    },
    {
      "cell_type": "markdown",
      "source": [
        "## O Módulo Scikit-learn"
      ],
      "metadata": {
        "id": "TPRoEyC1u1Jr"
      }
    },
    {
      "cell_type": "code",
      "source": [
        "penguins.head()"
      ],
      "metadata": {
        "id": "h-ZWiu0ou73L"
      },
      "execution_count": null,
      "outputs": []
    },
    {
      "cell_type": "code",
      "source": [
        "p = penguins.dropna()"
      ],
      "metadata": {
        "id": "5ndwWAmvu9R8"
      },
      "execution_count": null,
      "outputs": []
    },
    {
      "cell_type": "code",
      "source": [
        "from sklearn import linear_model\n",
        "reg = linear_model.LinearRegression()\n",
        "reg.fit(p[['flipper_length_mm','body_mass_g']],\n",
        "        p['bill_length_mm']) # ajusta o modelo"
      ],
      "metadata": {
        "id": "f6SITeuWu-ek"
      },
      "execution_count": null,
      "outputs": []
    },
    {
      "cell_type": "code",
      "source": [
        "reg.score(p[['flipper_length_mm','body_mass_g']],p['bill_length_mm'])"
      ],
      "metadata": {
        "id": "MUoK08BLvFiU"
      },
      "execution_count": null,
      "outputs": []
    },
    {
      "cell_type": "code",
      "source": [
        "plt.clf()\n",
        "x = np.linspace(p['bill_length_mm'].min(),p['bill_length_mm'].max(),100)\n",
        "preds = reg.predict(p[['flipper_length_mm','body_mass_g']]) #previsões\n",
        "\n",
        "fig, ax = plt.subplots()\n",
        "ax.scatter(p['bill_length_mm'],preds, label=\"Linear Model Prediction\")\n",
        "ax.plot(x,x)\n",
        "ax.set_xlabel(\"Observed\")\n",
        "ax.set_ylabel(\"Predicted\")\n",
        "ax.legend()\n",
        "plt.show()"
      ],
      "metadata": {
        "id": "aOmGHyvrvIUD"
      },
      "execution_count": null,
      "outputs": []
    },
    {
      "cell_type": "code",
      "source": [
        "p.head()"
      ],
      "metadata": {
        "id": "BcJ2Q5wIY3M-"
      },
      "execution_count": null,
      "outputs": []
    },
    {
      "cell_type": "code",
      "source": [
        "from sklearn import pipeline\n",
        "from sklearn import preprocessing\n",
        "from sklearn import compose\n",
        "from sklearn import model_selection\n",
        "from sklearn import ensemble\n",
        "tratador_numeros = pipeline.Pipeline(steps=\n",
        "[('normalizar', preprocessing.StandardScaler()),\n",
        "('polinomial', preprocessing.PolynomialFeatures(degree=2))])\n",
        "\n",
        "tratador_texto = preprocessing.OneHotEncoder(drop='if_binary',\n",
        "handle_unknown='ignore')\n",
        "\n",
        "filtro = compose.ColumnTransformer([\n",
        "('cats', tratador_texto,\n",
        "compose.make_column_selector(dtype_include=object)),\n",
        "('nums', tratador_numeros,\n",
        "compose.make_column_selector(dtype_include=np.number))],\n",
        "remainder='passthrough')\n",
        "\n",
        "modelo = pipeline.Pipeline(steps=[\n",
        "('Pre-tratamento', filtro),\n",
        "('Regressão', ensemble.AdaBoostRegressor() )])\n",
        "\n",
        "# divisão dos dados ente treino e teste:\n",
        "treino, teste = model_selection.train_test_split(p,test_size=0.30)\n",
        "\n",
        "features=['species', 'island', 'bill_depth_mm', 'flipper_length_mm',\n",
        "'body_mass_g', 'sex'] # variaveis explicativas\n",
        "target=['bill_length_mm'] # variável-alvo\n",
        "\n",
        "X_train = treino[features]\n",
        "y_train = treino[target]\n",
        "\n",
        "modelo.fit(X_train,y_train)\n"
      ],
      "metadata": {
        "id": "izr2ln78vVu7"
      },
      "execution_count": null,
      "outputs": []
    },
    {
      "cell_type": "code",
      "source": [
        "modelo.score(X_train,y_train)"
      ],
      "metadata": {
        "id": "2CjWdCgQvmDy"
      },
      "execution_count": null,
      "outputs": []
    },
    {
      "cell_type": "code",
      "source": [
        "# agora para o conjunto de teste...\n",
        "X_test = teste[features]\n",
        "y_test = teste[target]\n",
        "modelo.score(X_test,y_test)"
      ],
      "metadata": {
        "id": "7L8cYQKmvmoS"
      },
      "execution_count": null,
      "outputs": []
    },
    {
      "cell_type": "code",
      "source": [
        "plt.clf()\n",
        "previsoes_treino = modelo.predict(X_train)\n",
        "previsoes_teste = modelo.predict(X_test)\n",
        "fig, ax = plt.subplots()\n",
        "ax.scatter(y_train,previsoes_treino,c='blue',label='Dados de Treino')\n",
        "ax.scatter(y_test,previsoes_teste,c='red',label='Dados de Teste')\n",
        "ax.plot(x,x) # fazer uma linha de identidade\n",
        "ax.set_xlabel(\"Observed\")\n",
        "ax.set_ylabel(\"Predicted\")\n",
        "ax.legend()\n",
        "plt.show()"
      ],
      "metadata": {
        "id": "ntV0o4movsea"
      },
      "execution_count": null,
      "outputs": []
    }
  ]
}
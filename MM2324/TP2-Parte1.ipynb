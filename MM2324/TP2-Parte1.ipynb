{
 "cells": [
  {
   "cell_type": "markdown",
   "id": "ac9f4439-4f5a-436b-bbe4-556a428442e2",
   "metadata": {},
   "source": [
    "# Modelação Molecular 2023/24\n",
    "## TP2: Modelação de uma Reacção Química: Parte I\n",
    "\n",
    "A Substituição nucleófilica bimolecular (SN2) é uma das reacções mais importantes em química orgânica, não só pelas possibilidades sintéticas que abre, mas também enquanto passo elementar de várias reacções mais complexas.\n",
    "\n",
    "Neste trabalho estudar-se-á uma série de reacções SN2 com diferentes nucleófilos e grupos de saída usando métodos de Mecânica Quântica. Este trabalho encontra-se dividido em duas partes. Na primeira parte será realizado o estudo da SN2 usando um método rápido (xTB). A energia correspondente aos estados estacionários de cada reacção (reagentes, produtos e estados de transição) será refinada usando cálculos DFT, os quais irão correr num servidor no período entre aulas práticas. Na segunda parte do trabalho serão compilados e interpretados os resultados deses cálculos. \n",
    "\n",
    "Este trabalho poderá correr tanto nos computadores da Universidade do Minho."
   ]
  },
  {
   "cell_type": "code",
   "execution_count": null,
   "id": "57881fbe-f94c-42b6-ac57-6c1aa1911051",
   "metadata": {},
   "outputs": [],
   "source": [
    "platform='UMINHO' # ou 'COLLAB'"
   ]
  },
  {
   "cell_type": "code",
   "execution_count": null,
   "id": "85b60026-1c94-4f7f-89a0-2e1d614b51d0",
   "metadata": {},
   "outputs": [],
   "source": [
    "# preparação do ambiente python\n",
    "import subprocess\n",
    "import numpy as np\n",
    "import matplotlib.pyplot as plt\n",
    "\n",
    "atomic_symbols=['XX','H','He','Li','Be','B','C','N','O','F','Ne',\n",
    "                'Na','Mg','Al','Si','P','S','Cl','Ar'\n",
    "                'K','Ca','Sc','Ti','V','Cr','Mn','Fe','Co','Ni','Cu','Zn','Ga','Ge','As','Se','Br','Kr',\n",
    "                'Rb','Sr','Y','Zr','Nb','Mo','Tc','Ru','Rh','Pd','Ag','Cd','In','Sn','Sb','Te','I','Xe'                \n",
    "               ]\n",
    "\n",
    "def shell(cmd):\n",
    "    p=subprocess.Popen(cmd,stdin=subprocess.PIPE,stdout=subprocess.PIPE,stderr=subprocess.PIPE,shell=True)\n",
    "    output, error = p.communicate()\n",
    "    return output,error\n",
    "\n",
    "def plot_trj_energy(fn):\n",
    "  data=open(fn,'r').readlines()\n",
    "  e=list()\n",
    "  for line in data:\n",
    "    if 'energy:' in line:\n",
    "      l=line.split()\n",
    "      for i,token in enumerate(l):\n",
    "        if token=='energy:':\n",
    "          e.append(float(l[i+1]))\n",
    "  e = np.array(e)\n",
    "  e = 2625.5*(e-e.min())\n",
    "  fig,ax = plt.subplots()\n",
    "  ax.scatter(np.arange(1,len(e)+1),e)\n",
    "  ax.set_xlabel(\"Passo (n)\")\n",
    "  ax.set_ylabel(\"Energia Relativa (kJ/mol)\")\n",
    "  plt.show()\n",
    "\n",
    "def extract_geo(ifn, n, ofn):\n",
    "  \"\"\"Extrai a geometria n de um ficheiro do tipo xtb*.log (começando em 1) e \n",
    "  guarda essa geometria num ficheiro chamod ofn\"\"\"\n",
    "  with open(ifn,'r') as f:\n",
    "    data=f.readlines()\n",
    "  natoms = int(data[0])\n",
    "  start = (natoms+2)*(n-1)\n",
    "  end = start + natoms + 2\n",
    "  with open(ofn,'w') as f:\n",
    "    for line in data[start:end]:\n",
    "      f.write(line)\n",
    "\n",
    "def g98_animate_mode(fn,n_vib,ofn,scale=1.0):\n",
    "    data = open(fn,'r').readlines()\n",
    "    ZZ = list()\n",
    "    geo = list()\n",
    "    displ = list()\n",
    "    # ler a geometria\n",
    "    geo_start=100000000000000\n",
    "    geo_end = -1\n",
    "    for n,line in enumerate(data):\n",
    "        if 'Coordinates' in line:\n",
    "            geo_start = n+3\n",
    "        if (n>geo_start) and '--------' in line:\n",
    "            geo_end = n\n",
    "            break\n",
    "    for n in range(geo_start,geo_end):\n",
    "        l =  data[n].split()\n",
    "        ZZ.append(int(l[1]))\n",
    "        geo.append(list(map(float,l[-3:])))\n",
    "    geo=np.array(geo)\n",
    "    symbols = [atomic_symbols[z] for z in ZZ]\n",
    "    natoms = len(symbols)\n",
    "    vib_start = geo_end + 7\n",
    "    vib_step = 9 + natoms\n",
    "    for i in range(vib_start,len(data),vib_step):\n",
    "        if n_vib in list(map(int,data[i].split())):\n",
    "            v_ind = list(map(int,data[i].split())).index(n_vib)\n",
    "            v_start = i + 9\n",
    "            v_end = i + vib_step\n",
    "            for j in range(v_start,v_end):\n",
    "                l = data[j].split()\n",
    "                displ.append(list(map(float,l[2+(3*v_ind):5+(3*v_ind)])))\n",
    "            break\n",
    "    displ=np.array(displ)*scale\n",
    "    delta = np.sin(np.linspace(0,6.28,20))\n",
    "    xyz=''\n",
    "    for dl in delta:\n",
    "        this_geo=geo+(dl*displ)\n",
    "        xyz+=f\"{natoms}\\n* (null), Energy   -1000.0000000\\n\"\n",
    "        for n in range(natoms):\n",
    "            xyz += f\"{symbols[n]:3s}\"\n",
    "            for j in range(3):\n",
    "                xyz += f\" {this_geo[n][j]:10.6f}\"\n",
    "            #for j in range(3):\n",
    "            #    xyz += f\" {displ[n][j]}\"\n",
    "            xyz += '\\n'\n",
    "    print(xyz,file=open(ofn,'w'))  \n",
    "\n",
    "if platform.upper()=='HOME':\n",
    "    def run_xtb(args):\n",
    "        return shell(f\"ulimit -s unlimited; OMP_STACKSIZE=12G; OMP_MAX_ACTIVE_LEVELS=1 xtb {args}\")[0].decode()\n",
    "    \n",
    "if platform.upper()=='UMINHO':\n",
    "    def run_xtb(args):\n",
    "        return shell(r'C:\\Users\\Public\\Documents\\xtb-6.6.1-windows-x86_64\\xtb-6.6.1\\bin\\xtb '+f\"{args}\")[0].decode()\n",
    "\n",
    "if platform.upper()=='COLLAB':\n",
    "    !wget -c https://github.com/grimme-lab/xtb/releases/download/v6.5.1/xtb-6.5.1-linux-x86_64.tar.xz\n",
    "    !tar xf xtb-6.5.1-linux-x86_64.tar.xz\n",
    "    !export PATH=/content/xtb-6.5.1/bin:${PATH}\n",
    "    def run_xtb(args):\n",
    "        return shell(f\"ulimit -s unlimited; OMP_STACKSIZE=12G; OMP_MAX_ACTIVE_LEVELS=1 /content/xtb-6.5.1/bin/xtb {args}\")[0].decode()"
   ]
  },
  {
   "cell_type": "markdown",
   "id": "b2915349-edf1-4e88-ab97-871f3c08b195",
   "metadata": {},
   "source": [
    "## Sistemas a estudar\n",
    "\n",
    "Cada aluno deve optar por uma das seguintes opções:\n",
    "\n",
    "#### Opção I: estudo do efeito do grupo de saída\n",
    "Nesta opção será estudada a SN2 entre a etilamina e os seguintes compostos: fluorometano, clorometano, bromometano e iodometano. Todas as reacções serão estudadas em diclorometano.\n",
    "\n",
    "#### Opção II: estudo da influência do solvente\n",
    "Nesta opção será estuda a SN2 entre a etilamina e o bromometano, nos seguintes solventes: diclorometano, hexano, acetonitrilo e água.\n",
    "\n",
    "Em todos os casos, serão calculados dados termodinâmicos (variação de energia, entalpia e energia de Gibbs) e cinéticos (energia de activação e energia de Gibbs de activação) a 298 K.\n",
    "\n",
    "A reacção SN2 entre a metilamina e o bromometano em diclorometano é comum a ambas as opções, pelo que será usada como tutorial."
   ]
  },
  {
   "cell_type": "markdown",
   "id": "c9570e97-ba62-4092-8986-107c34dc13fe",
   "metadata": {},
   "source": [
    "## Procedimento Geral\n",
    "\n",
    "O estudo do perfil de uma reacção elementar começa pela optimização da geometria do sistema num dos estados iniciais (reagentes) ou finais (produtos): podemos chamar esse estado genericamante como o nosso estado de partida. Isto é feito com um cálculo do tipo optimização de geoemtria. A observação da geoemtria de equílibrio no estado de partida permite deteminar duas coisas:\n",
    "* As aproximações ou os afastametnos entre átomos que devem ocorrer para que a reacção se dê, e\n",
    "* Os constrangimentos que poderão ser aplicados ao sistema de forma a evitar seguir por caminhos alternativos\n",
    "\n",
    "Após essa análise, preparam-se um ou mais cálculos nos quais as distâncias entre os átomos de interesse são fixadas em valores determinados. Chamamos a este tipo de cálculos de varrimento (_scan_). No final destes cálculos podemos usar um programa de visualização para verificar se o scan for bem sucedido em ligar o ponto de partida ao ponto de chegada desejado. Também deverá ser possível identificar um máximo da energia ao longo do caminho que corresponde ao **Estado de Transição** que governa esta reacção.\n",
    "\n",
    "Normalmente, a geometria do estado de trnasição é optimizada de forma a minimizar a energia em relação a todos os outros movimentos atómicos que não façam parte da coordenada de reacção. Em certos casos, um _scan_ suficientemente fino e com critérios de optimização apertados pode ser suficiente para se obter uma boa aproximação ao estado de transição (o que será feito neste trabalho). Um estado de transição deve ter as seguintes características:\n",
    "* **Geometria próxima do equilíbrio** isto pode ser verificado por um valor baixo da norma do gradiente (GRADIENT NORM), e\n",
    "* **Uma (e apenas uma) frequência vibracional negativa ou imaginária** Esta \"vibração\" imaginária corresponde ao movimento ao longo da coordenada de reacção.\n",
    "Se distorcermos ligeiramente o estado de transição para um e outro lado da coordenada de reacção, e optimizarmos cada uma das geometrias distorcidas, deveremos chegar aos reagentes e produtos da reacção estudada, _na sua conformação mais próxima à do caminho reaccional_. Este procediemnto é uma de várias ferramentas usadas para garantir que o estado de transição efectivamente medeia o processo em estudo.\n",
    "\n",
    "Finalmente, devem-se recolher os valores absolutos da energia, entalpia e função de Gibbs de cada um dos três estados (reagentes, prodtos e estado de transição) de forma a poderem ser calculadas as respectivas variações."
   ]
  },
  {
   "cell_type": "markdown",
   "id": "ada5ef57-f6b4-4bd9-bd6d-a41ed2f1dd43",
   "metadata": {},
   "source": [
    "## Reacção SN2 entre a etilamina e o bromometano em diclorometano"
   ]
  },
  {
   "cell_type": "code",
   "execution_count": null,
   "id": "7d76ebe9-cb39-4802-a02e-bf663d754408",
   "metadata": {},
   "outputs": [],
   "source": [
    "# o seguinte codigo python escreve um ficherio XYZ com o sistema na sua configuração inicial (reagentes)\n",
    "# depois de correr esta célula pode (deve!) usar o vmd ou jmol para visualizar o sistema e identificar os átomos que vão participar na reacção.\n",
    "\n",
    "xyz=\"\"\"   15\n",
    " Sn2 template\n",
    " C    -1.786579     1.250095    -0.026275\n",
    " C    -0.481434     0.560416    -0.424879\n",
    " N     0.186750    -0.148934     0.659731\n",
    " H    -1.602525     2.006507     0.734340\n",
    " H    -2.494881     0.524788     0.370369\n",
    " H    -2.233935     1.731766    -0.891000\n",
    " H     0.221190     1.302229    -0.813197\n",
    " H    -0.679704    -0.165200    -1.217936\n",
    " H     0.383415     0.500091     1.415768\n",
    " H    -0.439078    -0.855871     1.034188\n",
    " C     2.275898    -1.169264    -0.063920\n",
    " Br    4.166021    -2.092157    -0.718571\n",
    " H     2.087334    -1.559952     0.920787\n",
    " H     2.454211    -0.108394    -0.070302\n",
    " H     1.540423    -1.475307    -0.787118\n",
    "\"\"\"\n",
    "\n",
    "open(\"etilamina-mebr-dcm-react-guess.xyz\",'w').write(xyz)"
   ]
  },
  {
   "cell_type": "markdown",
   "id": "f423c15a-66f8-4db1-8ea8-d818b1fa4bf9",
   "metadata": {},
   "source": [
    "Num trabalho de Modelação Molecular é importante manter os ficheiros organizados. Neste trabalho, todos os ficheiros contém a seguinte informação, separada por hifens (e **sempre sem espaços, acentos ou cedilhas!**): nucleofilo-electrofilo-solvente-estado-outra_informação_relevante. Os cálculos xTB serão levados a cabo por um programa chamado ```xtb```, o qual corre normalmente na linha de comandos e usa argumentos e opções para controlar o seu comportamento. Para correr o xtb, foi definida acima uma função do python que trata das diferenças entre plataformas, sendo necessário apenas fornecer uma cadeia de carateres (_string_) com as opções e argumetnos necessários a cada cálculo. "
   ]
  },
  {
   "cell_type": "code",
   "execution_count": null,
   "id": "41dba53c-162d-4501-bb11-fad540d192ef",
   "metadata": {
    "tags": []
   },
   "outputs": [],
   "source": [
    "# exemplo para correr o xtb\n",
    "# calcula a energia electronia do sistema inicial\n",
    "# o output do xtb \n",
    "print(run_xtb(\"etilamina-mebr-dcm-react-guess.xyz --scc\"))"
   ]
  },
  {
   "cell_type": "markdown",
   "id": "b5868d69-ee08-4617-b174-5ecc420f4d42",
   "metadata": {},
   "source": [
    "### Optimização da geometria do estado de partida\n",
    "O cálculo abaixo é semelhante ao anterior, mas é pedida uma optimização da geometria (```--opt```), indicamos o solvente (```--açpb```) também definimos um nome comum para todos os ficheiros que o xtb produz (```--namespace```, neste caso, todos os ficheiros irão começar por etilamina-mebr-dcm-react-opt). Para além disso, também usamos a opção ```file``` da função ```print()``` para colocar o output do xtb num ficheiro de texto, em vez de aparece no notebook."
   ]
  },
  {
   "cell_type": "code",
   "execution_count": null,
   "id": "8dd777c9-0989-4e75-a39a-ddca73c97e10",
   "metadata": {},
   "outputs": [],
   "source": [
    "print(run_xtb(\"etilamina-mebr-dcm-react-guess.xyz --opt --namespace etilamina-mebr-dcm-react-opt --alpb CH2Cl2\"), file=open('etilamina-mebr-dcm-react-opt.out','w'))"
   ]
  },
  {
   "cell_type": "markdown",
   "id": "e534c970-52eb-46fc-8563-32685c50bd79",
   "metadata": {},
   "source": [
    "Dos ficheiros criados neste cálculo, destacam-se os seguintes ficheiros:\n",
    "* ```etilamina-mebr-dcm-react-opt.out```: contém o output do xtb\n",
    "* ```etilamina-mebr-dcm-react-opt.xtbopt.xyz```: contém a geometria de equílibrio, necessário para cálculos futuros.\n",
    "* ```etilamina-mebr-dcm-react-opt.xtbopt.log```: contém as geometrias (e respectivas energias) pelas quais o sistema passou desde a geometria inicial até à geometria de equilíbrio. Para visualizar este ficheiro no VMD, é nessário indicar que se trata de um ficheiro XYZ na caixa de texto \"Determine File Type\" da janela \"Molecule File Browser\" onde carregamos os ficheiros. Podemos também ver como varia a energia do sistema ao longo da optimização com a função ```plot_trj_energy()``` definida acima."
   ]
  },
  {
   "cell_type": "code",
   "execution_count": null,
   "id": "e58b41fd-7957-471a-8862-7a911e060648",
   "metadata": {},
   "outputs": [],
   "source": [
    "plot_trj_energy('etilamina-mebr-dcm-react-opt.xtbopt.log')"
   ]
  },
  {
   "cell_type": "markdown",
   "id": "a8e363e4-89e9-4c36-8340-65967c0131cb",
   "metadata": {},
   "source": [
    "### Scan ao longo do caminho reacional\n",
    "Da análise deste sistema, verificamos que para a reacção SN2 ter lugar, é necessário aproximar os átomos N3 e C11 (no VMD, o indice dos átomos começa em 0, pelo que é necessário somar 1 ao resultado de uma Query). Também é necessário manter o átomo de Br orientado de forma a que o ângullo N2-C11-Br seja próximo de 180º. \n",
    "\n",
    "Precisamos então de configurar o xtb para que faça um varrimento da aproximação destes átomos, mantendo a orientação relativa do Br. Isto é feito num ficheiro de configraçao que pode ser reutilizados para outros cálculos semelhantes."
   ]
  },
  {
   "cell_type": "code",
   "execution_count": null,
   "id": "a65b30b8-6ef3-433b-a1a3-1e03f5a39956",
   "metadata": {
    "tags": []
   },
   "outputs": [],
   "source": [
    "config=\"\"\"$cma\n",
    "\n",
    "$constrain\n",
    " force constant=6.0\n",
    " distance: 3, 11, auto\n",
    " angle: 3, 11, 12, 180\n",
    "$end\n",
    "\n",
    "$scan\n",
    " 1: 4.0, 1.2, 200\n",
    "end\n",
    "\n",
    "\"\"\"\n",
    "\n",
    "print(config,file=open('scan.cfg','w'))\n",
    "\n",
    "print(run_xtb(\"etilamina-mebr-dcm-react-opt.xtbopt.xyz --opt --input scan.cfg --namespace etilamina-mebr-dcm-react-scan --alpb CH2Cl2\"), file=open('etilamina-mebr-dcm-react-scan.out','w'))"
   ]
  },
  {
   "cell_type": "markdown",
   "id": "62be9e52-39e5-49ae-bf06-ea0b62b256b2",
   "metadata": {},
   "source": [
    "Poderá agora verificar a trajectória ao longo do varrimento (```etilamina-mebr-dcm-react-scan.xtbscan.log```) e fazer o gráfico da variação de energia ao longo da mesma"
   ]
  },
  {
   "cell_type": "code",
   "execution_count": null,
   "id": "68994500-098d-49c4-9a49-463c8d3ba208",
   "metadata": {},
   "outputs": [],
   "source": [
    "plot_trj_energy('etilamina-mebr-dcm-react-scan.xtbscan.log')"
   ]
  },
  {
   "cell_type": "markdown",
   "id": "df61d796-84b8-4946-ac54-0cfec678283c",
   "metadata": {},
   "source": [
    "O ponto 137 parece ser o máximo da energia ao lonog da trajectória (descondando os últimos pontos, nos quais a compressão da ligação CN está a aumentar a energia do sistema. Devemos então extrair o mesmo da trajectória e realizar a análise de frequências."
   ]
  },
  {
   "cell_type": "code",
   "execution_count": null,
   "id": "e406d32f-d374-4a24-9491-eb0c2b73ded3",
   "metadata": {},
   "outputs": [],
   "source": [
    "extract_geo('etilamina-mebr-dcm-react-scan.xtbscan.log',137,'etilamina-mebr-dcm-ts-geo.xyz')"
   ]
  },
  {
   "cell_type": "code",
   "execution_count": null,
   "id": "69dfeb7f-d0b7-4fdb-9102-5f65be0f5da7",
   "metadata": {},
   "outputs": [],
   "source": [
    "print(run_xtb(\"etilamina-mebr-dcm-ts-geo.xyz --hess --namespace etilamina-mebr-dcm-ts-freq --alpb CH2Cl2\"), file=open('etilamina-mebr-dcm-ts-freq.out','w'))"
   ]
  },
  {
   "cell_type": "markdown",
   "id": "fa68cd4e-b35f-42a6-a020-f340d546265e",
   "metadata": {},
   "source": [
    "Embora o xtb avise sobre a possibilidade de não estarmos numa geometria de equilibrio, a norma do gradiente é sufcientemente pequena para este trabalho. Os cálculos de freqências geram alguns ficheiros interessantes:\n",
    "* Ficheiros `.out`  contém o output principal do programa (incluindo os valores das propriedades termoquímicas).\n",
    "* Ficheiros `.g98.out` contém os dados das vibrações no formato do software Gaussian 98, o qual pode ser usado por vários pacotes de visualização, tais como o molden ou o avogadro.\n",
    "* Ficheiros `.charges` com a carga de Muliken de cada átomo no sistema\n",
    "* Ficheiros `.wbo` com a ordem de ligação de Widberg entre os átomos do sistema.\n",
    "* Fihcheiros `.vibspectrum` com o sumário do espectro de Infravermelho e Raman (números de onda, intensidades e aplicação das regras de selecção).\n",
    "\n",
    "No nosso caso, vamos usar uma função definida no início do _notebook_ para animar o modo de vibração correspondente à coordenada de reacção, a partir do ficheiro `g98.out`). Olhando para o conteúdo do ficheiro `etilamina-mebr-dcm-ts-freq.g98.out`, podemos ver que o modo vibracional com frequência assciada negativa (imaginária) é o modo número 1. A função ```g98_animate_mode()``` converte a informação vibracional num ficheiro XYZ com várias _frames_ com a animação do modo vibracional, o qual pode ser observado no VMD.\n",
    "\n",
    "O ficheiro ```etilamina-mebr-dcm-ts-freq.out``` contém também os valores absolutos de energia, entalpia e função de Gibbs para o estado de transição."
   ]
  },
  {
   "cell_type": "code",
   "execution_count": null,
   "id": "c3608b11-c532-4f77-913f-593856fe679d",
   "metadata": {},
   "outputs": [],
   "source": [
    "g98_animate_mode('etilamina-mebr-dcm-ts-freq.g98.out',1,'etilamina-mebr-dcm-ts-animate.xyz')"
   ]
  },
  {
   "cell_type": "markdown",
   "id": "1af18f19-3364-456b-b9d7-ef21e49714b2",
   "metadata": {},
   "source": [
    "Por fim, extraimos os pontos 15 e 5 da animação da coordenada de reacção, e usamos como geometria inicial para optimizar as geoemtrias de reagentes e produtos. **É importante verificar na animação da coordenada de reacção qual destes pontos representa uma aproximação aos produtos e qual deles representa uma apriximação aos produtos!** O xtb permite fazer o cálculo das frequências automaticamente após a optimização da geometria (`--ohess`). Mais uma vez, atente à nomenclatura dos ficheiros e anote os valores absolutos de energia, entalpia e função de Gibbs para produtos e reagentes."
   ]
  },
  {
   "cell_type": "code",
   "execution_count": null,
   "id": "3a913093-ce24-4e52-91fe-e705ab6b91f8",
   "metadata": {},
   "outputs": [],
   "source": [
    "extract_geo('etilamina-mebr-dcm-ts-animate.xyz',15,'etilamina-mebr-dcm-react-newguess.xyz')\n",
    "extract_geo('etilamina-mebr-dcm-ts-animate.xyz',5,'etilamina-mebr-dcm-prod-newguess.xyz')\n",
    "print(run_xtb(\"etilamina-mebr-dcm-react-newguess.xyz --ohess --namespace etilamina-mebr-dcm-react-ohess --alpb CH2Cl2\"), file=open('etilamina-mebr-dcm-react-ohess.out','w'))\n",
    "print(run_xtb(\"etilamina-mebr-dcm-prod-newguess.xyz --ohess --namespace etilamina-mebr-dcm-prod-ohess --alpb CH2Cl2\"), file=open('etilamina-mebr-dcm-prod-ohess.out','w'))"
   ]
  },
  {
   "cell_type": "markdown",
   "id": "ccebc157-a3fb-4310-ae7f-69d8e61c9007",
   "metadata": {},
   "source": [
    "Aplique o procedimento acima descrito para estudar as outras três reacções da opção escolhida:\n",
    "* Opção I: deverá modificar o átomo de halogénio na geometria inicial, e substituir mebr por meX (X sendo o halogénio) nos nomes dos ficheiros.\n",
    "* Opção II: deverá substituir o solvente em `--alpb ch2cl2` por `hexane`, `acetonitrlie`, ou `water`. Nos nomes dos ficheiros, deverá substituir dcm por uma abreviatura adequada para o nome do solvente (ex: hex, actn e water).\n",
    "\n",
    "Em ambos os casos, recomenda-se que faça copiar e colar do conteúdo das células de código da parte tutorial para novas células de código (abaixo) e modifique conforme necessário."
   ]
  },
  {
   "cell_type": "markdown",
   "id": "1cf8e432-7ed8-45de-a8f2-20187742b40b",
   "metadata": {},
   "source": [
    "Em ambos os casos, deverá fazer uma tabela (recomenda-se uma folha de cálculo) com os valores de $\\Delta E$, $\\Delta H$ e,  $\\Delta G$ para cada reacção, assim como as correspondentes energias de activação e variação da função de Gibbs na activação.\n",
    "\n",
    "No final da aula, deverá enviar ao docente os ficheiros xtbopt.xyz do cálculo `ohess` de todos os reagentes e produtos, assim como os ficheiros xtbhess.xyz de todos os estados de transição."
   ]
  }
 ],
 "metadata": {
  "kernelspec": {
   "display_name": "Python 3 (ipykernel)",
   "language": "python",
   "name": "python3"
  },
  "language_info": {
   "codemirror_mode": {
    "name": "ipython",
    "version": 3
   },
   "file_extension": ".py",
   "mimetype": "text/x-python",
   "name": "python",
   "nbconvert_exporter": "python",
   "pygments_lexer": "ipython3",
   "version": "3.10.8"
  }
 },
 "nbformat": 4,
 "nbformat_minor": 5
}

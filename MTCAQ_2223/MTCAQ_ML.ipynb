{
  "nbformat": 4,
  "nbformat_minor": 0,
  "metadata": {
    "colab": {
      "provenance": []
    },
    "kernelspec": {
      "name": "python3",
      "display_name": "Python 3"
    },
    "language_info": {
      "name": "python"
    }
  },
  "cells": [
    {
      "cell_type": "markdown",
      "source": [
        "# Machine Learning em Química"
      ],
      "metadata": {
        "id": "HUdTZXGEuUGt"
      }
    },
    {
      "cell_type": "markdown",
      "source": [
        "## Caso de estudo 1: Classificação\n",
        "\n",
        "O primeiro caso de estudo tem por objectivo criar um modelo classificador para moléculas com potencial odor a almíscar."
      ],
      "metadata": {
        "id": "MBkyrSVFuYw_"
      }
    },
    {
      "cell_type": "code",
      "source": [
        "# recolha dos dados\n",
        "!wget https://tinyurl.com/fvkedcjd\n",
        "!mv fvkedcjd exemplo_1_dados.xlsx\n",
        "# carregar dados usando o pandas\n",
        "import pandas as pd\n",
        "\n",
        "dados = pd.read_excel('exemplo_1_dados.xlsx')"
      ],
      "metadata": {
        "id": "LFZbZm7TB0q9"
      },
      "execution_count": null,
      "outputs": []
    },
    {
      "cell_type": "code",
      "source": [
        "# observar os dados\n",
        "dados"
      ],
      "metadata": {
        "id": "0hfNWq9nCdHT"
      },
      "execution_count": null,
      "outputs": []
    },
    {
      "cell_type": "code",
      "source": [
        "# criar um sumário dos dados\n",
        "dados.describe()"
      ],
      "metadata": {
        "id": "ekFdcqZ4Cgdu"
      },
      "execution_count": null,
      "outputs": []
    },
    {
      "cell_type": "code",
      "source": [
        "# divisão entre dados de treino e de teste\n",
        "from sklearn import model_selection\n",
        "\n",
        "treino, teste = model_selection.train_test_split(dados, train_size=0.6, stratify=dados['Is_musk'], random_state=42)\n",
        "\n",
        "target='Is_musk'\n",
        "features=[f\"f{x:d}\" for x in range(1,167)]\n",
        "print(features)"
      ],
      "metadata": {
        "id": "t7XQi_4BC-DT"
      },
      "execution_count": null,
      "outputs": []
    },
    {
      "cell_type": "markdown",
      "source": [
        "### Primeira abordagem: PCA\n",
        "\n",
        "O PCA aparece como método de redução de dimensionalidade que permite identificar agrupamentos nos dados. Caso a localização ao longo de um dado PC permita estabelelecer uma divisão entre casos positivos e negativos, podemos usar esse PC como parte de um modelo classificador."
      ],
      "metadata": {
        "id": "RAiSUNB2JyrF"
      }
    },
    {
      "cell_type": "code",
      "source": [
        "from sklearn import decomposition\n",
        "\n",
        "pca = decomposition.PCA(n_components=10)\n",
        "#treinamos o modelo PCA\n",
        "pca.fit_transform(treino[features])\n",
        "print(pca.explained_variance_ratio_)"
      ],
      "metadata": {
        "id": "-Q_ALW3rF7bk"
      },
      "execution_count": null,
      "outputs": []
    },
    {
      "cell_type": "code",
      "source": [
        "scores_treino = pca.transform(treino[features])\n",
        "scores_teste = pca.transform(teste[features])\n",
        "\n",
        "import matplotlib.pyplot as plt\n",
        "\n",
        "fg, ax = plt.subplots()\n",
        "s1 = ax.scatter(scores_treino[:,0], scores_treino[:,1], c=treino[target], cmap='bwr', label='Treino', marker='o')\n",
        "s2 = ax.scatter(scores_teste[:,0], scores_teste[:,1], c=teste[target], cmap='PuOr', label='Treino', marker='v')\n",
        "ax.set_xlabel(\"PC1 (35 %)\")\n",
        "ax.set_ylabel(\"PC2 (20 %)\")\n",
        "\n",
        "ax.legend()\n",
        "plt.show()"
      ],
      "metadata": {
        "id": "kmDXcuAAHyFb"
      },
      "execution_count": null,
      "outputs": []
    },
    {
      "cell_type": "markdown",
      "source": [
        "### Segunda Abordagem: Regressão Logística\n",
        "Apesar do seu nome, a regressão logística é um método de classificação supervisionada."
      ],
      "metadata": {
        "id": "GDJpIhBrN-7V"
      }
    },
    {
      "cell_type": "code",
      "source": [
        "from sklearn import linear_model\n",
        "\n",
        "clf = linear_model.LogisticRegression(max_iter=5000)\n",
        "clf.fit(treino[features], treino[target])\n",
        "\n",
        "# calculamos o score (excatidão) para o treino e para o teste\n",
        "s_treino = clf.score(treino[features], treino[target])\n",
        "s_teste = clf.score(teste[features], teste[target])\n",
        "\n",
        "print(f\"Score no treino: {s_treino:6.4f}\")\n",
        "print(f\"Score no teste : {s_teste:6.4f}\")"
      ],
      "metadata": {
        "id": "lnv81lzhONH1"
      },
      "execution_count": null,
      "outputs": []
    },
    {
      "cell_type": "markdown",
      "source": [
        "Para avaliar o sistema, usamos uma ou mais métricas."
      ],
      "metadata": {
        "id": "eC8LqxatmZIH"
      }
    },
    {
      "cell_type": "code",
      "source": [
        "from sklearn import metrics\n",
        "acc_treino = metrics.accuracy_score(treino[target],clf.predict(treino[features]))\n",
        "acc_teste = metrics.accuracy_score(teste[target],clf.predict(teste[features]))\n",
        "print(f\"Exatidão no treino: {acc_treino:0.4f}\")\n",
        "print(f\"Exatidão no teste: {acc_teste:0.4f}\")"
      ],
      "metadata": {
        "id": "CFyjoMbwmYxl"
      },
      "execution_count": null,
      "outputs": []
    },
    {
      "cell_type": "code",
      "source": [
        "acc_treino = metrics.precision_score(treino[target],clf.predict(treino[features]))\n",
        "acc_teste = metrics.precision_score(teste[target],clf.predict(teste[features]))\n",
        "print(f\"Precisão no treino: {acc_treino:0.4f}\")\n",
        "print(f\"Precisão no teste: {acc_teste:0.4f}\")"
      ],
      "metadata": {
        "id": "s8AvftPUsP1o"
      },
      "execution_count": null,
      "outputs": []
    },
    {
      "cell_type": "code",
      "execution_count": null,
      "metadata": {
        "id": "83KivAzguAws"
      },
      "outputs": [],
      "source": [
        "acc_treino = metrics.recall_score(treino[target],clf.predict(treino[features]))\n",
        "acc_teste = metrics.recall_score(teste[target],clf.predict(teste[features]))\n",
        "print(f\"Recall no treino: {acc_treino:0.4f}\")\n",
        "print(f\"Recall no teste: {acc_teste:0.4f}\")"
      ]
    },
    {
      "cell_type": "code",
      "source": [
        "fig, axs = plt.subplots(1,2,figsize=(8,3))\n",
        "axs[0].set_title(\"ROC AUC com os dados de treino\")\n",
        "metrics.RocCurveDisplay.from_estimator(clf,treino[features],treino[target],ax=axs[0])\n",
        "axs[1].set_title(\"ROC AUC com os dados de teste\")\n",
        "metrics.RocCurveDisplay.from_estimator(clf,teste[features],teste[target],ax=axs[1])\n",
        "plt.show()"
      ],
      "metadata": {
        "id": "rM_oHHuowInq"
      },
      "execution_count": null,
      "outputs": []
    },
    {
      "cell_type": "code",
      "source": [
        "fig, axs = plt.subplots(1,2,figsize=(12,4))\n",
        "axs[0].set_title(\"Matriz de confusão com os dados de treino\")\n",
        "metrics.ConfusionMatrixDisplay.from_estimator(clf,treino[features],treino[target],normalize='true',ax=axs[0], cmap=\"summer\")\n",
        "axs[1].set_title(\"Matriz de confusão com os dados de teste\")\n",
        "metrics.ConfusionMatrixDisplay.from_estimator(clf,teste[features],teste[target],normalize='true',ax=axs[1], cmap=\"summer\")\n",
        "plt.show()"
      ],
      "metadata": {
        "id": "xc-OdCpIy_eU"
      },
      "execution_count": null,
      "outputs": []
    },
    {
      "cell_type": "markdown",
      "source": [
        "## Caso de estudo 2: Classificação Multicategórica\n"
      ],
      "metadata": {
        "id": "ug7L-R-fufDd"
      }
    },
    {
      "cell_type": "code",
      "source": [
        "# recolha dos dados\n",
        "!wget https://tinyurl.com/4yzbe8h9\n",
        "!mv 4yzbe8h9 exemplo_2_dados.xlsx\n",
        "# carregar dados usando o pandas\n",
        "import pandas as pd\n",
        "\n",
        "dados = pd.read_excel('exemplo_2_dados.xlsx')"
      ],
      "metadata": {
        "id": "xMcAzu-3uhv6"
      },
      "execution_count": null,
      "outputs": []
    },
    {
      "cell_type": "code",
      "source": [
        "dados.describe()"
      ],
      "metadata": {
        "id": "TzX3Qb_43qaG"
      },
      "execution_count": null,
      "outputs": []
    },
    {
      "cell_type": "code",
      "source": [
        "target='Type'\n",
        "features=['RI','Na','Mg','Al','Si','K','Ca','Ba','Fe']\n",
        "\n",
        "treino, teste = model_selection.train_test_split(dados, train_size=0.6, stratify=dados[target], random_state=42)"
      ],
      "metadata": {
        "id": "EPgAgdOx4KXU"
      },
      "execution_count": null,
      "outputs": []
    },
    {
      "cell_type": "markdown",
      "source": [
        "### Classificação por Árvore de Decisão"
      ],
      "metadata": {
        "id": "oqimrycf3zPl"
      }
    },
    {
      "cell_type": "code",
      "source": [
        "from sklearn import tree\n",
        "\n",
        "clf = tree.DecisionTreeClassifier()\n",
        "clf.fit(treino[features], treino[target])"
      ],
      "metadata": {
        "id": "gIkZ0cP23wuH"
      },
      "execution_count": null,
      "outputs": []
    },
    {
      "cell_type": "code",
      "source": [
        "# Nem todas as métricas são diretamente aplicávais a casos não binários..\n",
        "acc_treino = metrics.accuracy_score(treino[target],clf.predict(treino[features]))\n",
        "acc_teste = metrics.accuracy_score(teste[target],clf.predict(teste[features]))\n",
        "print(f\"Exatidão no treino: {acc_treino:0.4f}\")\n",
        "print(f\"Exatidão no teste: {acc_teste:0.4f}\")\n",
        "\n",
        "\n",
        "\n",
        "fig, axs = plt.subplots(1,2,figsize=(12,4))\n",
        "axs[0].set_title(\"Matriz de confusão com os dados de treino\")\n",
        "metrics.ConfusionMatrixDisplay.from_estimator(clf,treino[features],treino[target],normalize='true',ax=axs[0], cmap=\"summer\")\n",
        "axs[1].set_title(\"Matriz de confusão com os dados de teste\")\n",
        "metrics.ConfusionMatrixDisplay.from_estimator(clf,teste[features],teste[target],normalize='true',ax=axs[1], cmap=\"summer\")\n",
        "plt.show()"
      ],
      "metadata": {
        "id": "YFPooNUb4tvR"
      },
      "execution_count": null,
      "outputs": []
    },
    {
      "cell_type": "code",
      "source": [
        "fig,ax = plt.subplots(figsize=(15,7))\n",
        "tree.plot_tree(clf, max_depth=3,feature_names=features, class_names=['1','2','3','5','6','7'], label='root', filled=True, ax=ax, fontsize=9, rounded=True)\n",
        "plt.show()"
      ],
      "metadata": {
        "id": "XbBafd7BydA1"
      },
      "execution_count": null,
      "outputs": []
    },
    {
      "cell_type": "code",
      "source": [
        "from sklearn import ensemble\n",
        "\n",
        "clf = ensemble.RandomForestClassifier(random_state=42)\n",
        "clf.fit(treino[features], treino[target])\n",
        "\n",
        "acc_treino = metrics.accuracy_score(treino[target],clf.predict(treino[features]))\n",
        "acc_teste = metrics.accuracy_score(teste[target],clf.predict(teste[features]))\n",
        "print(f\"Exatidão no treino: {acc_treino:0.4f}\")\n",
        "print(f\"Exatidão no teste: {acc_teste:0.4f}\")\n",
        "\n",
        "fig, axs = plt.subplots(1,2,figsize=(12,4))\n",
        "axs[0].set_title(\"Matriz de confusão com os dados de treino\")\n",
        "metrics.ConfusionMatrixDisplay.from_estimator(clf,treino[features],treino[target],normalize='true',ax=axs[0], cmap=\"summer\")\n",
        "axs[1].set_title(\"Matriz de confusão com os dados de teste\")\n",
        "metrics.ConfusionMatrixDisplay.from_estimator(clf,teste[features],teste[target],normalize='true',ax=axs[1], cmap=\"summer\")\n",
        "plt.show()"
      ],
      "metadata": {
        "id": "WJ08tQ862rbg"
      },
      "execution_count": null,
      "outputs": []
    },
    {
      "cell_type": "code",
      "source": [
        "# optimizacao dos hiper-parametros\n",
        "\n",
        "clf_base = ensemble.RandomForestClassifier(random_state=42)\n",
        "\n",
        "# criamos um dicionario com os valores a dar a cada hiper-parametro\n",
        "params = {'n_estimators': [10, 25, 50, 100, 150, 200],\n",
        "          'max_samples': [0.10, 0.25, 0.5, 0.75, 1.0],\n",
        "          'max_features': [0.10, 0.25, 0.5, 0.75, 1.0]}\n",
        "\n",
        "clf = model_selection.GridSearchCV(clf_base, params, refit=True)\n",
        "\n",
        "clf.fit(treino[features],treino[target])"
      ],
      "metadata": {
        "id": "k9wEg3rv8nHE"
      },
      "execution_count": null,
      "outputs": []
    },
    {
      "cell_type": "code",
      "source": [
        "import seaborn as sns\n",
        "cv_data = pd.DataFrame(clf.cv_results_)\n",
        "sns.boxplot(x='param_n_estimators', y='mean_test_score', data=cv_data)\n"
      ],
      "metadata": {
        "id": "1rr9MEpG-U-J"
      },
      "execution_count": null,
      "outputs": []
    },
    {
      "cell_type": "code",
      "source": [
        "sns.boxplot(x='param_max_features', y='mean_test_score', data=cv_data)"
      ],
      "metadata": {
        "id": "T4mbp9gX_zJA"
      },
      "execution_count": null,
      "outputs": []
    },
    {
      "cell_type": "code",
      "source": [
        "sns.boxplot(x='param_max_samples', y='mean_test_score', data=cv_data)"
      ],
      "metadata": {
        "id": "dbGlJ0bI_3nE"
      },
      "execution_count": null,
      "outputs": []
    },
    {
      "cell_type": "code",
      "source": [
        "print(clf.best_params_)"
      ],
      "metadata": {
        "id": "v8R2xKwF_7aF"
      },
      "execution_count": null,
      "outputs": []
    },
    {
      "cell_type": "code",
      "source": [
        "acc_treino = metrics.accuracy_score(treino[target],clf.predict(treino[features]))\n",
        "acc_teste = metrics.accuracy_score(teste[target],clf.predict(teste[features]))\n",
        "print(f\"Exatidão no treino: {acc_treino:0.4f}\")\n",
        "print(f\"Exatidão no teste: {acc_teste:0.4f}\")\n",
        "\n",
        "fig, axs = plt.subplots(1,2,figsize=(12,4))\n",
        "axs[0].set_title(\"Matriz de confusão com os dados de treino\")\n",
        "metrics.ConfusionMatrixDisplay.from_estimator(clf,treino[features],treino[target],normalize='true',ax=axs[0], cmap=\"summer\")\n",
        "axs[1].set_title(\"Matriz de confusão com os dados de teste\")\n",
        "metrics.ConfusionMatrixDisplay.from_estimator(clf,teste[features],teste[target],normalize='true',ax=axs[1], cmap=\"summer\")\n",
        "plt.show()"
      ],
      "metadata": {
        "id": "b5AVLGljAYen"
      },
      "execution_count": null,
      "outputs": []
    },
    {
      "cell_type": "code",
      "source": [],
      "metadata": {
        "id": "7tQAJ_yuBTBQ"
      },
      "execution_count": null,
      "outputs": []
    }
  ]
}
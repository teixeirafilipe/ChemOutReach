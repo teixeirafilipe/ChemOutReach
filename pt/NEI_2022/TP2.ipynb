{
 "cells": [
  {
   "cell_type": "markdown",
   "id": "d6bff32e-4b00-41b4-a79d-5efc6f28ec8e",
   "metadata": {},
   "source": [
    "# TP2 - Equações do Movimento e Trajectórias\n",
    "\n",
    "O trabalho da segunda aula prática é dedicado ao estudo do movimento de partículas sob potenciais clássicos como seja o potencial harmónico (massas unidas por molas). Os métodos e técnicas apresentadas neste tutorial/exercício são semelhantes às técnicas usadas em vários trabalhos de Modelação Molecular, no entanto, as expressões matemáticas que governam estes sistemas são bastante mais simples.\n",
    "\n"
   ]
  },
  {
   "cell_type": "markdown",
   "id": "0e30ff98-757d-46f0-b2c9-7998db252da4",
   "metadata": {},
   "source": [
    "## Preparação do Ambiente Python\n",
    "\n",
    "O _notebook_ usado como protocolo e folha de excercício deste trabalho é uma tecnologia que permite combinar texto formatado com código Python. Existem várias implementações desta tecnologia:\n",
    "* **Jupyter Notebooks**: esta é provavelmente a implementação mais antiga do conceito de _notebook_. Encontra-se disponível para Windows, Mac e Linux em https://jupyter.org/ . Normalmente, o servidor do jupyter notebook é lançado na linha de comandos ou usando uma entrada no Finder ou menu Iniciar, e o utilizador deve usar um browser para navegar para o URL indicado de forma a poder abrir o notebook.\n",
    "* **Jupyter Lab** é uma implementação mais recente e completa do jupyter notebook original. Tal como o jupyter notebook clássico, o programa em si funciona numa linha de comandos, e é acedido através de um URL que deve ser copiado para o browser (preferencialmente uma versão recente do Chrome, Chromium, ou Firefox).\n",
    "* **Google Colab** é uma implementação de cálculo na _cloud_ desenvolvida pela Google e disponível em https://colab.research.google.com/ . Possui algumas vantagens relativamente ao uso de notebooks da Jupyter: os cálculos correm numa máquina remota da Google, não há nececidade de instalar software no computador local (basta um browser recente) e é gratuito, para o nível de acesso mais básico.\n",
    "\n",
    "Este notebook deverá correr igualmente em qualquer destas três plataformas, mas as células de código abaixo poderão ter de ser executadas, dependendo da plataforma escolhida. Cada caso de utilização é apresentado individualmente. Deverá executar **apenas** a célula de código que corresponde à sua situação específica."
   ]
  },
  {
   "cell_type": "markdown",
   "id": "5da774cf-72c0-4630-bfcc-18f9d11c8e3e",
   "metadata": {},
   "source": [
    "### Caso 1: Jupyter Lab nos computadores da ECUM\n",
    "\n",
    "Os computadores da ECUM correm Windows num servidor e o perfil do utilizador é limpo no final da sessão. Por causa disso, a célula de código a seguir deve ser executada **uma vez após cada início de sessão no computador**."
   ]
  },
  {
   "cell_type": "code",
   "execution_count": null,
   "id": "429e8787-ef92-4962-83d4-2cdf0c50bc93",
   "metadata": {
    "tags": []
   },
   "outputs": [],
   "source": [
    "!pip install --user numpy\n",
    "!pip install --user pandas\n",
    "!pip install --user matplotlib"
   ]
  },
  {
   "cell_type": "markdown",
   "id": "da4234f0-de7b-4a42-b98b-d1b740a765d7",
   "metadata": {},
   "source": [
    "### Caso 2: Jupyter Lab ou Jupyter Notebook instalado com o Miniconda num computador pessoal\n",
    "O gestor de pacotes miniconda instala uma versão minimalista do Python. A célula seguinte deve ser executada **apenas uma vez por utilizador**, já que os pacotes instalados permanecem disponíveis no ambiente do utilizador."
   ]
  },
  {
   "cell_type": "code",
   "execution_count": null,
   "id": "386b74dd-97e5-4461-976f-79c7f50be538",
   "metadata": {},
   "outputs": [],
   "source": [
    "!pip install --user numpy\n",
    "!pip install --user pandas\n",
    "!pip install --user matplotlib"
   ]
  },
  {
   "cell_type": "markdown",
   "id": "d5d61614-e73e-476c-a30e-c6b1250bf34e",
   "metadata": {},
   "source": [
    "### Caso 3: Jupyter Lab ou Jupyter Notebook numa instalação \"normal\" de Python num computador pessoal.\n",
    "\n",
    "O instalador do Python apenas instala interpretador Python e os pacotes da biblioteca-padrão. Pacotes adicionais, tais como o `numpy` devem ser instalados à parte, usando o pip. Esta operação deve ser executadada **apenas uma vez por utilizador**, tal como no caso acima."
   ]
  },
  {
   "cell_type": "code",
   "execution_count": null,
   "id": "00ef05d0-2211-49ea-9fba-0d0c9ae9dd13",
   "metadata": {},
   "outputs": [],
   "source": [
    "!pip install --user numpy\n",
    "!pip install --user pandas\n",
    "!pip install --user matplotlib"
   ]
  },
  {
   "cell_type": "markdown",
   "id": "b960f5bc-a188-4137-8e01-bca7c0c6c5c9",
   "metadata": {},
   "source": [
    "### Caso 4: Google Colab\n",
    "\n",
    "O ambiente oferecido pelo Google Colab ja inclui vários pacotes necessários para cálculo numérico, gráficos e tratamento de dados. Para este trabalho específico, não é necessário fazer a instalação de quaisquer pacotes adicionais."
   ]
  },
  {
   "cell_type": "markdown",
   "id": "1ff88585-2382-48e0-b46a-607fda4572f6",
   "metadata": {},
   "source": [
    "### Caso 5: Jupyter Lab ou Jupyter Notebook instalado com o Anaconda (completo) num computador pessoal\n",
    "O gestor de ambiente Anaconda normalmente instala os pacotes mais usados, pelo que não será necessário fazer a instalação de pacotes adicionais para este trabalho específico."
   ]
  },
  {
   "cell_type": "markdown",
   "id": "c431c084-4cd7-4c16-85c3-7aab9f0e1386",
   "metadata": {},
   "source": [
    "## Importar pacotes e carregar algumas funções utilitárias\n",
    "\n",
    "Depois de configurar o seu ambiente python, deverá executar a célcula seguinte, de forma a carregar os pacotes necessários (instrução `import`), assim como definir algumas funções e constantes usadas ao longo do trabalho."
   ]
  },
  {
   "cell_type": "code",
   "execution_count": 13,
   "id": "e4c98306-4724-4617-a2b2-40c72b210a17",
   "metadata": {},
   "outputs": [],
   "source": [
    "import time\n",
    "import numpy as np\n",
    "import pandas as pd\n",
    "import matplotlib.pyplot as plt\n",
    "\n",
    "# funcao para a o trabalho 1 pelo metodo de verlet\n",
    "def work1_verlet(m, xi, k, x0, t_max, dt):\n",
    "    omega = np.sqrt(k/m)\n",
    "    print(f\"Omega = {omega:10.5e} rad/s\")\n",
    "    print(f\"Fequência = {omega/(2.0*np.pi):10.5e} Hz\")\n",
    "    #calcular o nº de pontos para o grafico\n",
    "    npoints = int(np.ceil(t_max/dt))\n",
    "    # Solucao analítica\n",
    "    # guardamos os valores de x(t), v(t), V(t), Ec(t) e Etot(t) da solução analítica em vectores (arrays do numpy) com prefixo a_\n",
    "    a_start = time.time()\n",
    "    a_tempo = np.linspace(0,t_max,npoints)\n",
    "    a_x_t = xi*np.cos(omega*a_tempo)\n",
    "    a_v_t = -xi*omega*np.sin(omega*a_tempo)\n",
    "    a_V_t = 0.5*k*((a_x_t-x0)**2)\n",
    "    a_Ec_t = 0.5*m*(a_v_t**2)\n",
    "    a_Et_t = a_V_t+a_Ec_t # energia total em função do tempo\n",
    "    a_calculo = time.time() - a_start # tempo que demorou o calculo\n",
    "    print(f\"Tempo de calculo para a solução analítica: {a_calculo:0.3g} s\")\n",
    "    # Solucao numerica pelo metodo de verlet\n",
    "    # guardamos os valores de x(t), v(t), V(t), Ec(t) e Etot(t) da solução analítica em vectores (arrays do numpy) com prefixo n_\n",
    "    # no estado inicial, estas arrays estão cheias de zeros, excepto a primeira posição, na qual colocamos a posição, velocidade e aceleração iniciais.\n",
    "    # Só depois do cálculo de x(t) e v(t) é que calculamos as energias, usando as mesmas expressões que para a solução analitica\n",
    "    n_start = time.time()\n",
    "    n_tempo = np.zeros(npoints)\n",
    "    n_x_t = np.zeros(npoints)\n",
    "    n_v_t = np.zeros(npoints)\n",
    "    # colocar as condições iniciais\n",
    "    n_x_t[0] = xi\n",
    "    n_v_t[0] = 0.0\n",
    "    # vamos agora iterar do ponto 1 até npoints. Cada passo é o ponto t+delta_t da exposição teórica\n",
    "    for i in range(1,npoints):\n",
    "        n_tempo[i] = n_tempo[i-1]+dt\n",
    "        a=-k*(n_x_t[i-1]-x0)/m\n",
    "        n_v_t[i] = n_v_t[i-1] + a*dt\n",
    "        n_x_t[i] = n_x_t[i-1] + n_v_t[i-1]*dt + 0.5*a*(dt**2)\n",
    "    n_V_t  = 0.5*k*((n_x_t-x0)**2)\n",
    "    n_Ec_t = 0.5*m*(n_v_t**2)\n",
    "    n_Et_t = n_V_t+n_Ec_t\n",
    "    n_calculo = time.time() - n_start\n",
    "    print(f\"Tempo de calculo para a solução numérica: {n_calculo:0.3g} s\")\n",
    "    # gravar dados numa tabela\n",
    "    dados = pd.DataFrame({'A_Tempo (s)':a_tempo,\n",
    "                         'A_x (m)':a_x_t,\n",
    "                         'A_v (m/s)':a_v_t,\n",
    "                         'A_V (J)':a_V_t,\n",
    "                         'A_K (J)':a_Ec_t,\n",
    "                         'A_E (J)':a_Et_t,\n",
    "                         'N_Tempo (s)':n_tempo,\n",
    "                         'N_x (m)':n_x_t,\n",
    "                         'N_v (m/s)':n_v_t,\n",
    "                         'N_V (J)':n_V_t,\n",
    "                         'N_K (J)':n_Ec_t,\n",
    "                         'N_E (J)':n_Et_t,\n",
    "                         })\n",
    "    return(dados)\n",
    "    \n"
   ]
  },
  {
   "cell_type": "markdown",
   "id": "fba84ab9-195a-4d0f-9d48-145f74007683",
   "metadata": {},
   "source": [
    "## Dois corpos unidos por uma mola\n",
    "\n",
    "Este trabalho tem como objectivo estudar o movimento de dois corpos unidos por uma mola clássica. A força de uma mola depende da distância entre as suas extremidades $x$ e dois parâmetros da prórpia mola: a distância de equilíbrio $x_0$ e a constante da mola $k$. A energia potencial deste sistema é:\n",
    "$$ V = (1/2) k (x-x_0)^2 $$ e a força excercida pela mola sobre cada corpo (Lei de Hooke) é $$ F = -k (x-x_0) $$ Se a massa de um dos corpos for muito superior à massa do segundo, o mais pesado pode ser considerado como estando parado. Se iniciarmos o nosso estudo com a partícula mais leve afastada da posição de equílibrio (denominemos a posição inicial por $x_i$) e sem velocidade inicial, o movimento deste corpo é dado pela equação: $$ x(t) = x_i cos(\\omega t) $$ em que $$ \\omega = \\sqrt{k/m} $$ em que $m$ é a massa do corpo mais leve.\n",
    "\n",
    "Nesta parte do trabalho, a trajectória deste corpo vai ser simulada usando um método numérico (algoritmo de Verlet) e comparada com a solução analítica apresentada acima. Ambos os métodos numéricos partem da expressão diferencial da lei de Hooke, combinada com a relação entre força e aceleração ($F=ma$): $$ m \\frac{d^2x}{dt} = -k(x-x_0) $$.\n",
    "\n",
    "A resolução analítica desta equação, para as condições iniciais descritas acima, leva ao seguinte conjunto de equações da posição ($x$), velocidade ($v$), energia cinética ($E_c$) e energia potencial ($V$) em função do tempo ($t$): $$ x(t) = x_i cos(\\omega t) $$ $$ v(t) = -x_i \\omega sen(\\omega t)$$ $$ V(t) = (k/2) (x_i cos(\\omega t) $$ e $$ E_c(t) = (\\frac{-x_i m \\omega}{2}) sen^2(\\omega t) $$ Sendo a energia total to distema a soma de $E_c$ e $V$.\n",
    "\n",
    "Já o método de Verlet considera a aceleração inicial $$a_0 = \\frac{-k(x-x_0)}{m}$$ e a velocidade inicial $v_0 = 0$ para calcular a posição, velocidade e aceleração ao fim de um curto espaço de tempo $\\Delta t$. Para uma sequência de pontos no tempo ($t_n$), a posição é determinada por $$ x(t+\\Delta t) =  x(t) + v(t)\\Delta t + (1/2)a(x(t))(\\Delta t)^2$$ Sendo que a velocidade ($v(t)$) é calculada por propagção da velocidade e aceleração no ponto anterior: $$ v(t+\\Delta t) = v(t) + a(x(t))\\Delta t $$ E a acerelação é calculada a partir da força dada pela Lei de Hooke.\n",
    "\n",
    "A célula abaixo corre uma simulação de um sistema de massa pressa por uma mola, usando o método de  Verlet e compara com a solução analítica dada acima. Os parâmetros da simulação são dados nas primeiras linhas da célula. Após execução da célula (`Shift+Enter` ou no botão `Run` da barra de ferramentas acima), o código devolve a velocidade angular ($\\omega$) e a frequência de vibração do sistema, os tempos de cálculo para cada solução, assim como gráficos da variação da posição, velocidade, energia potencial, energia cinética e energia total ao longo do tempo da simulação. Também é feito o gráfico do espaço de fase Posição/Velocidade. No final também são dados valores médios e descios-padrão para cada uma das componentes da energia. Todos os dados da simulação podem ser gravados em formato csv para tratamento posterior no MS Excel ou LibreOffice Calc. **Deverá alterar os valores dos dados do sistema e da simulação numérica de forma a poder responder às questões colocadas abaixo** Durante este procedimento, tenha em atenção que:\n",
    "* O tempo da simulação deverá ser ajustado de forma a cobrir 3 a 5 ciclos completos da trajectória.\n",
    "* A diminuição abusiva do passo de integração pode levar ao bloqueio do seu sistema, com potencial perda de dados.\n",
    "* A frequência da oscilação é calculada em função de $k$ e de $m$.\n",
    "* Pode gravar cada linha de gráficos como imagens, clicando com o botão direito do rato e selecionando a opção `Save image as...`. A imagem pode depois ser inserida num documento word com as suas respostas, caso considere necessário.\n"
   ]
  },
  {
   "cell_type": "code",
   "execution_count": null,
   "id": "7bb6b4fe-0566-4112-96e7-62eb2d0701f6",
   "metadata": {},
   "outputs": [],
   "source": [
    "# Dados do sistema\n",
    "massa = 0.05              # massa do corpo móvel, em kg\n",
    "posicao_inicial = 1.0     # posição inicial, em m\n",
    "k_mola = 2.0              # constante de força da mola, em N/m\n",
    "k_x0   = 0.0              # comprimento de equilibrio da mola,  em m\n",
    "# Dados da simulação numérica\n",
    "tempo_maximo = 2.0        # tempo da simulação, em s\n",
    "delta_t = 5.0e-3          # amplitude do passo de integração, em s\n",
    "# Ficheiro onde gravar os dados da simulação (a terminação .csv é dada automaticamente)\n",
    "nome_ficheiro = \"simulação_1.1\"\n",
    "\n",
    "### não é necessario editar abaixo desta linha ###\n",
    "### no need to edit past this line ###\n",
    "\n",
    "dados_simul=work1_verlet(massa, posicao_inicial, k_mola, k_x0, tempo_maximo, delta_t)\n",
    "# gravar os dados\n",
    "dados_simul.to_csv(f\"{nome_ficheiro}.csv\", index=False)\n",
    "\n",
    "# grafico das trajectórias\n",
    "fig, ax = plt.subplots(ncols=3,figsize=(16,5))\n",
    "ax[0].plot(dados_simul['A_Tempo (s)'],dados_simul['A_x (m)'], label=\"Solução Analítica\")\n",
    "ax[0].plot(dados_simul['N_Tempo (s)'],dados_simul['N_x (m)'], label=\"Verlet\")\n",
    "ax[0].set_xlabel(\"Tempo (s)\")\n",
    "ax[0].set_ylabel(\"Posição (m)\")\n",
    "ax[0].legend()\n",
    "ax[1].plot(dados_simul['A_Tempo (s)'],dados_simul['A_v (m/s)'], label=\"Solução Analítica\")\n",
    "ax[1].plot(dados_simul['N_Tempo (s)'],dados_simul['N_v (m/s)'], label=\"Verlet\")\n",
    "ax[1].set_xlabel(\"Tempo (s)\")\n",
    "ax[1].set_ylabel(\"Velocidade (m/s)\")\n",
    "ax[1].legend()\n",
    "ax[2].plot(dados_simul['A_x (m)'],dados_simul['A_v (m/s)'], label=\"Solução Analítica\")\n",
    "ax[2].plot(dados_simul['N_x (m)'],dados_simul['N_v (m/s)'], label=\"Verlet\")\n",
    "ax[2].set_xlabel(\"Posição (m)\")\n",
    "ax[2].set_ylabel(\"Velocidade (m/s)\")\n",
    "ax[2].legend()\n",
    "plt.show()\n",
    "\n",
    "# grafico das Energias\n",
    "fig, ax = plt.subplots(ncols=3,figsize=(16,5))\n",
    "ax[0].plot(dados_simul['A_Tempo (s)'],dados_simul['A_V (J)'], label=\"Solução Analítica\")\n",
    "ax[0].plot(dados_simul['N_Tempo (s)'],dados_simul['N_V (J)'], label=\"Verlet\")\n",
    "ax[0].set_xlabel(\"Tempo (s)\")\n",
    "ax[0].set_ylabel(\"Energia Potencial (J)\")\n",
    "ax[0].legend()\n",
    "ax[1].plot(dados_simul['A_Tempo (s)'],dados_simul['A_K (J)'], label=\"Solução Analítica\")\n",
    "ax[1].plot(dados_simul['N_Tempo (s)'],dados_simul['N_K (J)'], label=\"Verlet\")\n",
    "ax[1].set_xlabel(\"Tempo (s)\")\n",
    "ax[1].set_ylabel(\"Energia Cinética (J)\")\n",
    "ax[1].legend()\n",
    "ax[2].plot(dados_simul['A_Tempo (s)'],dados_simul['A_E (J)'], label=\"Solução Analítica\")\n",
    "ax[2].plot(dados_simul['A_Tempo (s)'],dados_simul['N_E (J)'], label=\"Verlet\")\n",
    "ax[2].set_xlabel(\"Posição (m)\")\n",
    "ax[2].set_ylabel(\"Energia Total (J)\")\n",
    "ax[2].legend()\n",
    "plt.show()\n",
    "\n",
    "print(f\"{'Energia':^12s} {'Média (A)':^15s} {'Desvio-padrão (A)':^15s} {'Média (N)':^15s} {'Desvio-padrão (N)':^15s}\")\n",
    "print(f\"{'Potencial':^12s} {dados_simul['A_V (J)'].mean():^15.3f} {dados_simul['A_V (J)'].std():^15.3f}  {dados_simul['N_V (J)'].mean():^15.3f} {dados_simul['N_V (J)'].std():^15.3f}\")\n",
    "print(f\"{'Cinética':^12s} {dados_simul['A_K (J)'].mean():^15.3f} {dados_simul['A_K (J)'].std():^15.3f}  {dados_simul['N_K (J)'].mean():^15.3f} {dados_simul['N_K (J)'].std():^15.3f}\")\n",
    "print(f\"{'Total':^12s} {dados_simul['A_E (J)'].mean():^15.3f} {dados_simul['A_E (J)'].std():^15.3f}  {dados_simul['N_E (J)'].mean():^15.3f} {dados_simul['N_E (J)'].std():^15.3f}\")\n",
    "\n"
   ]
  },
  {
   "cell_type": "markdown",
   "id": "3a4ddaf0",
   "metadata": {},
   "source": [
    "### Questões\n",
    "\n",
    "1. Corra o simulador com as seguintes condições (condições do ficheiro tal como é descarregado):\n",
    "    * massa = 50 g\n",
    "    * posição inicial = 1.0 m\n",
    "    * constante da mola = 2.0 N/m\n",
    "    * posição de equílibrio = 0.0 m\n",
    "    * tempo da simulação: 2 s\n",
    "    * passo de integração: 5.0e-3 s\n",
    "1. Nas condições acima, como compara a evolução da posição ao longo do tempo dada pelo método de Verlet com a solução analítica.\n",
    "1. Ainda nas mesmas condições, caracterize a evolução da energia total e das suas componentes (cinética e potencial) dadas pelo método de Verlet.\n",
    "1. Mantendo as demais condições, como varia a divergência da energia total ($\\Delta E / t_{simulação}$) com o passo de integração? Que conseguências tem esta variação no tempo de cálculo pelo método de Verlet (pode demonstar soba forma de um gráfico do tempo de cálculo em função do tamanho do passo)?\n",
    "1. Mantendo as demais condições (e restaurando o passo de integração para o valor dado acima), como avalia a variação da energia total ao longo da trajéctória com a variação da posição inicial?\n",
    "1. A frequência da oscilação harmónica depende da constante da mola e da massa da partícula. Altere qualquer um desses valores (ou ambos) de forma a alterar a frequência da oscilação para (aproximadamente) 0.5, 1 e 2 Hz. Anote as combinações massa/constante da mola escolhidas.\n",
    "1. Para cada combinação escolhida no ponto anterior, encontre o tamanho máximo aceitável do passo de integração (considere como critério uma variação da energia total ao longo da simulação inferior a 5%). O que pode afirmar sobre a forma como o a frequência da oscilação afecta o passo de integração máximo aceitável?\n",
    "1. (extra) Sugira uma estratégia possível para lidar com as divergências encontradas entre o método de Verlet e a solução analítica."
   ]
  }
 ],
 "metadata": {
  "kernelspec": {
   "display_name": "Python 3 (ipykernel)",
   "language": "python",
   "name": "python3"
  },
  "language_info": {
   "codemirror_mode": {
    "name": "ipython",
    "version": 3
   },
   "file_extension": ".py",
   "mimetype": "text/x-python",
   "name": "python",
   "nbconvert_exporter": "python",
   "pygments_lexer": "ipython3",
   "version": "3.10.5"
  }
 },
 "nbformat": 4,
 "nbformat_minor": 5
}

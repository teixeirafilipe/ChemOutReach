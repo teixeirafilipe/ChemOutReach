{
  "nbformat": 4,
  "nbformat_minor": 0,
  "metadata": {
    "colab": {
      "provenance": [],
      "collapsed_sections": [
        "589_I_6aOC5q",
        "w9m-oNNxiJkm"
      ],
      "toc_visible": true
    },
    "kernelspec": {
      "name": "python3",
      "display_name": "Python 3"
    },
    "language_info": {
      "name": "python"
    }
  },
  "cells": [
    {
      "cell_type": "markdown",
      "metadata": {
        "id": "589_I_6aOC5q"
      },
      "source": [
        "#Química das/nas Nuvens\n",
        "\n",
        "A química da atmosfera oferece novos pontos de vista sobre questões importantes nos dias de hoje, tais como o **aquecimento global**. Este _notebook_ oferece uma forma lúdica e interativa de compreender os fenómenos por detrás do efeito de estufa e de como diferentes tipos de emissões têm um impacto diferenciado no aquecimento global. No final do dia, são apenas moléculas a fazer o seu dia-a-dia, vibrando alegremente na atmosfera ao sabor dos fotões que recebem do Sol. Cabe a nós reflectir sobre o seu impacto nas nossas vidas!"
      ]
    },
    {
      "cell_type": "markdown",
      "source": [
        "## Instruções Básicas\n",
        "\n",
        "Os notebooks do colab oferecem uma forma fácil de correr código Python devidamente anotado. Cada notebokk está divido em células, que podem conter texto (anotações) ou código para executar. Desta forma, a exploração dos conteúdos pode ser feita de forma iterativa, bastando saber algumas regras básicas de manipulação:\n",
        "1. Cada célula é executada clicando no símbolo de \"play\" no canto superior esquerdo, ou com a combinação `Shift + Enter`.\n",
        "1. Algumas células com código demoram tempo a correr, enquanto a célula está a correr, aparece um ícone animado no canto superior esquerdo da mesma.\n",
        "1. se colocarmos várias células a correr, estas são executadas por ordem (uma de cada vez).\n",
        "1. Ao longo do notebook, aparecem sugestões de alterações que podem ser feitas para explorar outros aspectos."
      ],
      "metadata": {
        "id": "4TS77Tu_Z8O9"
      }
    },
    {
      "cell_type": "markdown",
      "source": [
        "### Preparação do _notebook_\n",
        "\n",
        "As duas células abaixo devem ser executadas na primeira vez que abrimos o _notebook_ de forma a preparar o ambiente de trabalho. Após isso, pode clicar na seta para baixo (junto ao título \"Preparação do _notebook_\" para compactar esta secção e passar para a secção seguinte."
      ],
      "metadata": {
        "id": "VTd__zURaFo0"
      }
    },
    {
      "cell_type": "code",
      "metadata": {
        "id": "lrLPTNtfv1jA"
      },
      "source": [
        "%%capture\n",
        "%%bash\n",
        "\n",
        "pip install py3Dmol\n",
        "pip install seaborn\n",
        "\n",
        "# install XTB\n",
        "wget -c https://github.com/grimme-lab/xtb/releases/download/v6.5.1/xtb-6.5.1-linux-x86_64.tar.xz\n",
        "tar xf xtb-6.5.1-linux-x86_64.tar.xz\n",
        "export PATH=/content/xtb-6.5.1/bin:${PATH}\n",
        "# get data\n",
        "wget -c https://raw.githubusercontent.com/teixeirafilipe/ChemOutReach/main/pt/NEI_2022/solar_data.csv\n"
      ],
      "execution_count": 2,
      "outputs": []
    },
    {
      "cell_type": "code",
      "metadata": {
        "id": "7kssawSHxzAq"
      },
      "source": [
        "import sys\n",
        "sys.path.append('/usr/local/lib/python3.7/site-packages/')\n",
        "import os\n",
        "\n",
        "import pandas as pd\n",
        "import numpy as np\n",
        "import time\n",
        "from collections import defaultdict\n",
        "#IPythonConsole.ipython_3d = True\n",
        "\n",
        "import py3Dmol\n",
        "import matplotlib.pyplot as plt\n",
        "import subprocess\n",
        "import seaborn as sb\n",
        "\n",
        "mol_d=dict()\n",
        "mol_d['H2O']=dict()\n",
        "mol_d['H2O']['name']='Água'\n",
        "mol_d['H2O']['geom']=\"\"\" O     0.000000     0.000000     0.000000\n",
        " H     0.000000     0.000000     0.950000\n",
        " H     0.895670     0.000000    -0.316663\n",
        "\"\"\"\n",
        "\n",
        "mol_d['CO']=dict()\n",
        "mol_d['CO']['name']='Monóxido de Carbono'\n",
        "mol_d['CO']['geom']=\"\"\" C 0.0 0.0 0.0\n",
        " O 0.0 0.0 1.2\n",
        "\"\"\"\n",
        "\n",
        "mol_d['CO2']=dict()\n",
        "mol_d['CO2']['name']='Dióxido de Carbono'\n",
        "mol_d['CO2']['geom']=\"\"\" C 0.0 0.0 0.0\n",
        " O 0.0 0.0  1.2\n",
        " O 0.0 0.0 -1.2\n",
        "\"\"\"\n",
        "\n",
        "mol_d['CH4']=dict()\n",
        "mol_d['CH4']['name']='Metano'\n",
        "mol_d['CH4']['geom']=\"\"\" C     0.000000     0.000000     0.000000\n",
        " H     0.000000     0.000000     1.089000\n",
        " H     1.026720     0.000000    -0.362996\n",
        " H    -0.513360    -0.889165    -0.363000\n",
        " H    -0.513360     0.889165    -0.363000\n",
        "\"\"\"\n",
        "\n",
        "mol_d['H2S']=dict()\n",
        "mol_d['H2S']['name']='Sulfureto de Hidrogéio'\n",
        "mol_d['H2S']['geom']=\"\"\" S     0.000000     0.000000     0.000000\n",
        " H     0.000000     0.000000     0.950000\n",
        " H     0.895670     0.000000    -0.316663\n",
        "\"\"\"\n",
        "\n",
        "mol_d['NH3']=dict()\n",
        "mol_d['NH3']['name']='Amoníaco'\n",
        "mol_d['NH3']['geom']=\"\"\" N     0.000000     0.000000     0.000000\n",
        " H     1.026720     0.000000    -0.362996\n",
        " H    -0.513360    -0.889165    -0.363000\n",
        " H    -0.513360     0.889165    -0.363000\n",
        "\"\"\"\n",
        "\n",
        "mol_d['SO2']=dict()\n",
        "mol_d['SO2']['name']='Dióxido de Enxofre'\n",
        "mol_d['SO2']['geom']=\"\"\" S     0.000000     0.000000     0.000000\n",
        " O     0.000000     0.000000     1.510000\n",
        " O     1.307698     0.000000    -0.755000\n",
        "\"\"\"\n",
        "\n",
        "mol_d['SO3']=dict()\n",
        "mol_d['SO3']['name']='Trióxido de Enxofre'\n",
        "mol_d['SO3']['geom']=\"\"\" S     0.000000     0.000000     0.000000\n",
        " O     0.000000     0.000000     1.510000\n",
        " O     1.307698     0.000000    -0.755000\n",
        " O    -1.307698     0.000000    -0.755000\n",
        "\"\"\"\n",
        "\n",
        "mol_d['SF6']=dict()\n",
        "mol_d['SF6']['name']='Hexafluoreto de Enxofre'\n",
        "mol_d['SF6']['geom']=\"\"\" S     0.000000     0.000000     0.000000\n",
        " F     0.000000     0.000000     1.670000\n",
        " F     1.670000     0.000000     0.000000\n",
        " F     0.000000    -1.670000     0.000000\n",
        " F    -1.670000     0.000000     0.000000\n",
        " F     0.000000     1.280000     0.000000\n",
        " F     0.000000     0.000000    -1.670000\n",
        "\"\"\"\n",
        "\n",
        "atomic_symbols=['XX','H','He','Li','Be','B','C','N','O','F','Ne',\n",
        "                'Na','Mg','Al','Si','P','S','Cl','Ar']\n",
        "\n",
        "\n",
        "def shell(cmd, shell=True):\n",
        "  \"runs a command in the linux shell, adapted from Jimmy Kromann.\"\n",
        "  if shell:\n",
        "    p = subprocess.Popen(cmd, shell=True, stdin=subprocess.PIPE, stdout=subprocess.PIPE, stderr=subprocess.PIPE)\n",
        "  else:\n",
        "    p = subprocess.Popen(cmd, shell=True, stdin=subprocess.PIPE, stdout=subprocess.PIPE, stderr=subprocess.PIPE)\n",
        "  output, err = p.communicate()\n",
        "  return output\n",
        "\n",
        "def run_xtb(args):\n",
        "  return shell(f\"ulimit -s unlimited; OMP_STACKSIZE=12G OMP_MAX_ACTIVE_LEVELS=1 /content/xtb-6.5.1/bin/xtb {args}\")\n",
        "\n",
        "def g98_animate_mode(fn,n_vib,scale=1.0):\n",
        "  data = open(fn,'r').readlines()\n",
        "  ZZ = list()\n",
        "  geo = list()\n",
        "  displ = list()\n",
        "  # ler a geometria\n",
        "  geo_start=100000000000000\n",
        "  geo_end = -1\n",
        "  for n,line in enumerate(data):\n",
        "    if 'Coordinates' in line:\n",
        "      geo_start = n+3\n",
        "    if (n>geo_start) and '--------' in line:\n",
        "      geo_end = n\n",
        "      break\n",
        "  for n in range(geo_start,geo_end):\n",
        "    l =  data[n].split()\n",
        "    ZZ.append(int(l[1]))\n",
        "    geo.append(l[-3:])\n",
        "  symbols = [atomic_symbols[z] for z in ZZ]\n",
        "  natoms = len(symbols)\n",
        "  vib_start = geo_end + 7\n",
        "  vib_step = 9 + natoms\n",
        "  freq=0.0\n",
        "  for i in range(vib_start,len(data),vib_step):\n",
        "    if n_vib in list(map(int,data[i].split())):\n",
        "      v_ind = list(map(int,data[i].split())).index(n_vib)\n",
        "      v_start = i + 9\n",
        "      v_end = i + vib_step\n",
        "      freq = float(data[i+2].split()[2+v_ind])\n",
        "      for j in range(v_start,v_end):\n",
        "        l = data[j].split()\n",
        "        displ.append(list(map(float,l[2+(3*v_ind):5+(3*v_ind)])))\n",
        "      break\n",
        "  #print(displ)\n",
        "  #print(freq)\n",
        "  for n in range(natoms):\n",
        "    for j in range(3):\n",
        "      displ[n][j] *= scale\n",
        "  xyz=f\"{natoms}\\n* (null), Energy   -1000.0000000\\n\"\n",
        "  for n in range(natoms):\n",
        "    xyz += f\"{symbols[n]}\"\n",
        "    for j in range(3):\n",
        "      xyz += f\" {geo[n][j]}\"\n",
        "    for j in range(3):\n",
        "      xyz += f\" {displ[n][j]}\"\n",
        "    xyz += '\\n'\n",
        "  xyzview = py3Dmol.view(width=250,height=250)\n",
        "  xyzview.addModel(xyz,'xyz',{'vibrate': {'frames':10,'amplitude':1}})\n",
        "  xyzview.setStyle({'stick':{},'sphere':{'scale':0.3}})\n",
        "  xyzview.setBackgroundColor('0xeeeeee')\n",
        "  #xyzview.addLabel(f\"{freq:0.1f} cm⁻¹\\n{10000000/freq:0.1f} nm\")\n",
        "  xyzview.addLabel(f\"{10000000/freq:0.0f} nm\")\n",
        "  xyzview.animate({'loop': 'backAndForth'})\n",
        "  xyzview.zoomTo()\n",
        "  xyzview.show()\n",
        "\n",
        "def plot_solar_spectrum(cdo_min= 280, cdo_max= 3000, ax=None):\n",
        "  standalone=False\n",
        "  if not ax:\n",
        "    fig, ax = plt.subplots(figsize=(10,7.5))\n",
        "    standalone=True\n",
        "  raw_data = pd.read_csv('/content/solar_data.csv')\n",
        "  data = raw_data.loc[(raw_data['cdo_nm']> cdo_min) & (raw_data['cdo_nm']< cdo_max)]\n",
        "  ax.plot(data['cdo_nm'], data['Em_solar_Wm2nm1'], label=\"Espectro Solar\")\n",
        "  ax.plot(data['cdo_nm'], data['Em_surfaceW2m2nm1'], label=\"Espectro De Emissão da Terra\")\n",
        "  if standalone:\n",
        "    ax.legend()\n",
        "    ax.set_ylabel(\"Emisividade (W.m⁻².nm⁻¹)\")\n",
        "    ax.set_xlabel(\"Comprimento de onda (nm)\")\n",
        "    plt.show()\n",
        "  else:\n",
        "    return max(data['Em_solar_Wm2nm1'].max(),data['Em_surfaceW2m2nm1'].max())\n",
        "\n",
        "def inspecionar(molecula, animar=True):\n",
        "  # definir ficheiro da geometria\n",
        "  if molecula not in mol_d:\n",
        "    raise NotImplementedError(f\"A molécula {molecula} não se encontra definida.\")\n",
        "  mol_name = mol_d[molecula]['name']\n",
        "  geo_i = mol_d[molecula]['geom']\n",
        "  natoms = len(geo_i.split('\\n'))-1\n",
        "  with open(\"mol_guess.xyz\",'w') as f:\n",
        "    f.write(f\"\"\"{natoms}\n",
        "{molecula}\n",
        "{geo_i}\"\"\")\n",
        "  # correr xtb\n",
        "  run_xtb(\"mol_guess.xyz --ohess --namespace mol_ohess > mol_ohess.out\")\n",
        "  # extrair dados do espectro de IR\n",
        "  o_data = open('mol_ohess.out','r').readlines()\n",
        "  linear = False\n",
        "  for line in o_data:\n",
        "    if ':  linear?' in line and 'false' not in line:\n",
        "      linear = True\n",
        "      break\n",
        "  n_freqs = 3*natoms-5 if linear else 3*natoms-6\n",
        "  #print(n_freqs)\n",
        "  # fazer o grafico\n",
        "  freqs = []\n",
        "  ints = []\n",
        "  v_data = open('mol_ohess.vibspectrum','r').readlines()\n",
        "  for line in v_data[-(n_freqs+1):-1]:\n",
        "    l=line.split()\n",
        "    freqs.append(float(l[-4]))\n",
        "    ints.append(float(l[-3]))\n",
        "  cdo=(10000000/np.array(freqs)) #converter para comprimento de onda\n",
        "  #print(freqs)\n",
        "  #print(cdo)\n",
        "  cdo_low = 1500\n",
        "  cdo_high = 4000\n",
        "  npoints= 700\n",
        "  x = np.linspace(cdo_low, cdo_high, npoints)\n",
        "  y = np.zeros(npoints)\n",
        "  for f,i in zip(cdo,ints):\n",
        "    y += i*np.exp((-(x-f)**2)/10000)\n",
        "    #print(f,i)\n",
        "  fig, ax= plt.subplots(figsize=(10,7.5))\n",
        "  top=plot_solar_spectrum(cdo_low, cdo_high, ax=ax)\n",
        "  ax.plot(x,top*(y/y.max()), label=f\"{mol_name}\")\n",
        "  ax.set_ylabel(\"Emisividade/Absortividade (W.m⁻².nm⁻¹)\")\n",
        "  ax.set_xlabel(\"Comprimento de onda (nm)\")\n",
        "  ax.legend()\n",
        "  plt.show()\n",
        "  # mostrar as vibrações\n",
        "  if animar:\n",
        "    for i in range(n_freqs):\n",
        "      if cdo[i]>=cdo_low and cdo[i]<=cdo_high:\n",
        "        g98_animate_mode('mol_ohess.g98.out',i+1)"
      ],
      "execution_count": 136,
      "outputs": []
    },
    {
      "cell_type": "markdown",
      "source": [
        "# Espectro de Emissão do Sol e da Terra\n",
        "\n",
        "O espectro de emissão do Sol é semelhante ao espectro de emissão de um corpo negro, com um máximo de emissão a cerca de 500 nm (Figura abaixo). Uma parte significativa da emissão solar ocorre no infra-vermelho, a comprimentos de onda superiores a 1000 nm."
      ],
      "metadata": {
        "id": "KEgZPAg-Or8v"
      }
    },
    {
      "cell_type": "code",
      "source": [
        "plot_solar_spectrum()"
      ],
      "metadata": {
        "id": "4_qEnOCNPszy"
      },
      "execution_count": null,
      "outputs": []
    },
    {
      "cell_type": "markdown",
      "source": [
        "Quando medimos a emissão do Sol reflectido pela Terra notamos a aussência de algumas bandas. Estas aussências são causadas pela absorção da radiação solar por certos elementos da atmosfera, tais como o vapor de água.\n",
        "\n",
        "A absorção de radiação no infravermelho deve-se à vibração dos átomos que constituem as moléculas, pelo que moléculas diferentes vão absorver radiação a comprimentos de onda diferentes. Quando as moléculas absorvem fotões infravermelhos, ficam mais agitadas e notamos um aumento da temperatura. Portanto, toda a radiação absorvida acaba por contribuir para um aumento da temperatura. As moléculas estão sempre a vibrar, a emitir e a absorver fotões no infravermelho.\n",
        "\n",
        "No entanto, há regiões onde a Terra reflete quase tanto quanto recebe. Estas regiões são como \"janelas\" numa estufa, pois permitem que a radiação infravermelha vá escapando para o espaço."
      ],
      "metadata": {
        "id": "oPJaj2zhQFy7"
      }
    },
    {
      "cell_type": "markdown",
      "source": [
        "## Influência da Água\n",
        "\n",
        "Para avaliar a influencia da água na radiação devolvida pela Terra ao espaço, podemos calcular o seu espectro no infravermelho. \n",
        "\n",
        "A célula abaixo trata de fazer esse cálculo na *cloud* da Google, e mostra o espectro de absorção da água no infravermelho sobreposto aos espectros de emissão solar e reflexão da Terra. Para além disso, também mostra animações da forma como a água vibra quando absorve a radiação indicada no espectro.\n"
      ],
      "metadata": {
        "id": "Xgi0PewmQrvv"
      }
    },
    {
      "cell_type": "code",
      "source": [
        "inspecionar('H2O')"
      ],
      "metadata": {
        "id": "u0X4cpSH9Pss"
      },
      "execution_count": null,
      "outputs": []
    },
    {
      "cell_type": "markdown",
      "source": [
        "Como podemos ver, a molécula de água vibra de duas formas diferentes a cerca de 2740 nmm e estas vibrações são responsáveis pela aussência de radiação emitida pela Terra entre os 2500 e os 3000 nm ."
      ],
      "metadata": {
        "id": "NJSQlrKdSn2j"
      }
    },
    {
      "cell_type": "markdown",
      "source": [
        "# Ação do Dióxido de Carbono\n",
        "\n",
        "Na célula abaixo, podemos inspecionar o efeito do $CO_2$ no espectro de emissão da terra."
      ],
      "metadata": {
        "id": "5vYam7hBUAes"
      }
    },
    {
      "cell_type": "code",
      "source": [
        "inspecionar('CO2')"
      ],
      "metadata": {
        "id": "5NKVDvfEUNfo"
      },
      "execution_count": null,
      "outputs": []
    },
    {
      "cell_type": "markdown",
      "source": [
        "O dióxido de carbono tem uma banda de absorção a cerca de 3859 nm. Relativamente ao resto do espectro, esta é uma zona onde a energia emitida e recebida não é muita, no entanto esta é uma das maiores \"janelas\" que a Terra tem para deixar escapar o calor!"
      ],
      "metadata": {
        "id": "FCfNKwkGUY6D"
      }
    },
    {
      "cell_type": "markdown",
      "source": [
        "# Ação do Metano\n",
        "\n",
        "O Metano ($CH_4$) é um componente do gás natural, mas também é uma emissão resultante da agro-pecuária. Na célula abaixo podemos ver o seu impacto no efeito de estufa."
      ],
      "metadata": {
        "id": "7vEl0b7NUw-n"
      }
    },
    {
      "cell_type": "code",
      "source": [
        "inspecionar('CH4')"
      ],
      "metadata": {
        "id": "1-nXWsAFUufu"
      },
      "execution_count": null,
      "outputs": []
    },
    {
      "cell_type": "markdown",
      "source": [
        "# New Section"
      ],
      "metadata": {
        "id": "VOY5lE7bXnMx"
      }
    },
    {
      "cell_type": "markdown",
      "source": [
        "O metano tem várias formas de vibrar que envolvem a absorção de radiação entre os 3000 e os 3500 nm. Junto com o dióxido de carbono, o metano ajuda a fechar completamente a \"janela\" que temos para deixar escapar o calor que a água absorve entre os 2500 e os 3000 nm!"
      ],
      "metadata": {
        "id": "AhuTBFYGVLhZ"
      }
    },
    {
      "cell_type": "markdown",
      "source": [
        "# Outros Gases\n",
        "\n",
        "Nas pŕoximas células podes experimentar ver o impacto de outros gases no efeito de estufa. Clica no "
      ],
      "metadata": {
        "id": "EqnYLFkLV2-4"
      }
    },
    {
      "cell_type": "code",
      "source": [
        "inspecionar('CO')"
      ],
      "metadata": {
        "id": "gDZAOiBuVFeM"
      },
      "execution_count": null,
      "outputs": []
    },
    {
      "cell_type": "code",
      "source": [
        "inspecionar('NH3')"
      ],
      "metadata": {
        "id": "jAG-K68BWdbU"
      },
      "execution_count": null,
      "outputs": []
    },
    {
      "cell_type": "code",
      "source": [
        "inspecionar('H2S')"
      ],
      "metadata": {
        "id": "2_l4AGM7XaBK"
      },
      "execution_count": null,
      "outputs": []
    }
  ]
}
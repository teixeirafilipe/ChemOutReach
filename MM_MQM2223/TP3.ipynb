{
  "cells": [
    {
      "cell_type": "markdown",
      "id": "d6bff32e-4b00-41b4-a79d-5efc6f28ec8e",
      "metadata": {
        "id": "d6bff32e-4b00-41b4-a79d-5efc6f28ec8e"
      },
      "source": [
        "# TP3 - Modelação de uma Reacção Química\n",
        "\n",
        "O trabalho da terceira aula prática é dedicado ao estudo de uma reacção química usando métodos de química quântica. \n",
        "\n"
      ]
    },
    {
      "cell_type": "markdown",
      "id": "0e30ff98-757d-46f0-b2c9-7998db252da4",
      "metadata": {
        "id": "0e30ff98-757d-46f0-b2c9-7998db252da4"
      },
      "source": [
        "## Preparação do Ambiente Python\n",
        "\n",
        "Este _notebook_ é usado como protocolo e folha de excercício deste trabalho é uma tecnologia que permite combinar texto formatado com código Python. Existem várias implementações desta tecnologia (ver TP2). No entanto, este trabalho prático requer o uso de um programa externo (`xtb`) e de um pacote externo do python (`pyscf`).  A configuração destes pacotes pode depender do ambiente usado, pelo que este trabalho foi desenhado para **correr apenas na plataforma Google Colab**. A Google Colab é uma implementação de cálculo na _cloud_ desenvolvida pela Google e disponível em https://colab.research.google.com/ . Possui algumas vantagens relativamente ao uso de notebooks da Jupyter: os cálculos correm numa máquina remota da Google, não há nececidade de instalar software no computador local (basta um browser recente) e é gratuito, para o nível de acesso mais básico.\n",
        "\n",
        "O ambiente oferecido pelo Google Colab ja inclui vários pacotes necessários para cálculo numérico, gráficos e tratamento de dados. Para este trabalho específico, apenas é necessário fazer a instalação do pacote `pyscf` para química quântica, com as extensões `semiempirical` (para hamiltonianos semi-empíricos) e `geomopt` (para optimização de geometrias). É também necessário modificar a variável `path` de forma a que o python consiga encontrar os pacotes instalados. \n",
        "\n",
        "Finalmente também é necessário instalar e configurar o `xtb`, incluíndo definir um par de funções necessário para que este corra a partir dos comandos do python."
      ]
    },
    {
      "cell_type": "code",
      "source": [
        "# install py3Dmol\n",
        "!pip install --user py3Dmol\n",
        "\n",
        "# install openbabel (only the software, not the python bindings)\n",
        "!apt-get install openbabel\n",
        "\n",
        "# install pyscf\n",
        "!pip install --user pyscf[semiempirical,geomopt]\n",
        "import sys\n",
        "sys.path.append('/root/.local/lib/python3.7/site-packages')\n",
        "\n",
        "# install XTB\n",
        "!wget -c https://github.com/grimme-lab/xtb/releases/download/v6.5.1/xtb-6.5.1-linux-x86_64.tar.xz\n",
        "!tar xf xtb-6.5.1-linux-x86_64.tar.xz\n",
        "!export PATH=/content/xtb-6.5.1/bin:${PATH}\n",
        "\n",
        "# aditional functions for xtb\n",
        "import subprocess\n",
        "def shell(cmd, shell=True):\n",
        "  \"runs a command in the linux shell, adapted from Jimmy Kromann.\"\n",
        "  if shell:\n",
        "    p = subprocess.Popen(cmd, shell=True, stdin=subprocess.PIPE, stdout=subprocess.PIPE, stderr=subprocess.PIPE)\n",
        "  else:\n",
        "    p = subprocess.Popen(cmd, shell=True, stdin=subprocess.PIPE, stdout=subprocess.PIPE, stderr=subprocess.PIPE)\n",
        "  output, err = p.communicate()\n",
        "  return output\n",
        "\n",
        "def run_xtb(args):\n",
        "  return shell(f\"ulimit -s unlimited; OMP_STACKSIZE=12G OMP_MAX_ACTIVE_LEVELS=1 /content/xtb-6.5.1/bin/xtb {args}\")\n"
      ],
      "metadata": {
        "id": "_4NMz-bzT2eh"
      },
      "id": "_4NMz-bzT2eh",
      "execution_count": null,
      "outputs": []
    },
    {
      "cell_type": "markdown",
      "id": "c431c084-4cd7-4c16-85c3-7aab9f0e1386",
      "metadata": {
        "id": "c431c084-4cd7-4c16-85c3-7aab9f0e1386"
      },
      "source": [
        "## Importar Pacotes e Carregar Funções Utilitárias\n",
        "\n",
        "Depois de configurar o seu ambiente python, deverá executar a célcula seguinte, de forma a carregar os pacotes necessários (instrução `import`), assim como definir algumas funções, classes e constantes usadas ao longo do trabalho."
      ]
    },
    {
      "cell_type": "code",
      "execution_count": null,
      "id": "e4c98306-4724-4617-a2b2-40c72b210a17",
      "metadata": {
        "id": "e4c98306-4724-4617-a2b2-40c72b210a17"
      },
      "outputs": [],
      "source": [
        "import time\n",
        "import numpy as np\n",
        "import pandas as pd\n",
        "import matplotlib.pyplot as plt\n",
        "import pyscf\n",
        "import py3Dmol\n",
        "\n",
        "atomic_symbols=['XX','H','He','Li','Be','B','C','N','O','F','Ne',\n",
        "                'Na','Mg','Al','Si','P','S','Cl','Ar']\n",
        "\n",
        "class Molecule():\n",
        "  def __init__(self,fn=None, name=None):\n",
        "    self.name='None'\n",
        "    self.symbols=list()\n",
        "    self.geo=np.array([])\n",
        "    if fn:\n",
        "      self.read_xyz(fn)\n",
        "    if name:\n",
        "      self.name=name\n",
        "\n",
        "  def natoms(self):\n",
        "      return len(self.symbols)\n",
        "  \n",
        "  def show(self, label=None): \n",
        "    p = py3Dmol.view()\n",
        "    p.addModel(self.write_xyz())\n",
        "    #p.setStyle({'stick':{}})\n",
        "    p.setStyle({'stick':{},'sphere':{'scale':0.3}})\n",
        "    p.setBackgroundColor('0xeeeeee')\n",
        "    if label == 'C':\n",
        "      for i,s in enumerate(self.symbols):\n",
        "        if s.upper().strip()=='C':\n",
        "          p.addLabel(f\"C{i+1}\",{'position': {'x':self.geo[i,0], 'y':self.geo[i,1], 'z':self.geo[i,2]}})\n",
        "    p.zoomTo()\n",
        "    p.show()\n",
        "\n",
        "  def read_xyz(self, fn):\n",
        "    \"Reads a XYZ file\"\n",
        "    with open(fn,'r') as f:\n",
        "      data = f.readlines()\n",
        "    natoms = int(data[0])\n",
        "    g = list()\n",
        "    for i in range(2,2+natoms):\n",
        "      l = data[i].split()\n",
        "      self.symbols.append(l[0].capitalize())\n",
        "      g.append(list(map(float,l[1:4])))\n",
        "    self.geo=np.array(g)\n",
        "\n",
        "  def centre_location(self):\n",
        "    \"returns the location of the geometrical centre as a vector\"\n",
        "    return self.geo.mean(axis=0)\n",
        "\n",
        "  def shift(self, displacement):\n",
        "    \"Displaces the molecule as a whole, given a 3D vector (np.array)\"\n",
        "    self.geo += displacement\n",
        "\n",
        "  def center(self):\n",
        "    \"Displaces the molecule so that its geometrical centre is at the origin.\"\n",
        "    self.shift(-self.centre_location())\n",
        "\n",
        "  def write_xyz(self,fn=None):\n",
        "    s = f\"{self.natoms()}\\n Created by Molecule Class\\n\"\n",
        "    for n in range(self.natoms()):\n",
        "        s += f\"{self.symbols[n]:3s}\"\n",
        "        for i in range(3):\n",
        "          s += f\" {self.geo[n,i]:16.6f}\"\n",
        "        s += '\\n'\n",
        "    if fn:\n",
        "      with open(fn,'w') as f:\n",
        "        f.write(s)\n",
        "    else:\n",
        "      return s\n",
        "\n",
        "def extract_geo(ifn, n, ofn):\n",
        "  \"\"\"Extrai a geometria n de um ficheiro do tipo xtb*.log (começando em 1) e \n",
        "  guarda essa geometria num ficheiro chamod ofn\"\"\"\n",
        "  with open(ifn,'r') as f:\n",
        "    data=f.readlines()\n",
        "  natoms = int(data[0])\n",
        "  start = (natoms+2)*(n-1)\n",
        "  end = start + natoms + 2\n",
        "  with open(ofn,'w') as f:\n",
        "    for line in data[start:end]:\n",
        "      f.write(line)\n",
        "\n",
        "def llm(fn1, fn2, nome, n=10, xtb_args='' ):\n",
        "  \"\"\"Corre o xtb de forma a obter o perfil da LLM entre dois estados,\n",
        "  guardados no ficheiro fn1, e fn2\"\"\"\n",
        "  e1 = Molecule(fn1)\n",
        "  e2 = Molecule(fn2)\n",
        "  energias = list()\n",
        "  for i,k in enumerate(np.linspace(0.0, 1.0, n)):\n",
        "    point = Molecule()\n",
        "    point.symbols=e1.symbols\n",
        "    point.name=f\"LMM point {n}\"\n",
        "    point.geo = (1.0-k)* e1.geo + k*e2.geo\n",
        "    point.write_xyz(f\"{nome}-lmm{i:03d}-guess.xyz\")\n",
        "    run_xtb(f\"{nome}-lmm{i:03d}-guess.xyz --scc --namespace {nome}-lmm{i:03d} {xtb_args} > {nome}-lmm{i:03d}.out\")\n",
        "    with open(f\"{nome}-lmm{i:03d}.out\", 'r') as f:\n",
        "      data = f.readlines()\n",
        "    for line in data:\n",
        "      if ' | TOTAL ENERGY ' in line:\n",
        "        energias.append(float(line.split()[-3]))\n",
        "  for i,e in enumerate(energias):\n",
        "    print(f\"{i:5d} {e:16.5f}\")\n",
        "  plt.plot(energias)\n",
        "  plt.show()\n",
        "\n",
        "def plot_trj_energy(fn):\n",
        "  data=open(fn,'r').readlines()\n",
        "  e=list()\n",
        "  for line in data:\n",
        "    if 'energy:' in line:\n",
        "      l=line.split()\n",
        "      for i,token in enumerate(l):\n",
        "        if token=='energy:':\n",
        "          e.append(float(l[i+1]))\n",
        "  e = np.array(e)\n",
        "  e = 2625.5*(e-e.min())\n",
        "  fig,ax = plt.subplots()\n",
        "  ax.scatter(np.arange(1,len(e)+1),e)\n",
        "  ax.set_xlabel(\"Passo (n)\")\n",
        "  ax.set_ylabel(\"Energia Relativa (kJ/mol)\")\n",
        "  plt.show()\n",
        "\n",
        "def animate_trj(fn):\n",
        "  data = open(fn,'r').readlines()\n",
        "  xyzview = py3Dmol.view(width=400,height=400)\n",
        "  xyzview.addModelsAsFrames(''.join(data),'xyz')\n",
        "  xyzview.setStyle({'stick':{},'sphere':{'scale':0.3}})\n",
        "  xyzview.setBackgroundColor('0xeeeeee')\n",
        "  xyzview.animate({'loop': 'forward'})\n",
        "  xyzview.zoomTo()\n",
        "  xyzview.show()\n",
        "\n",
        "def g98_animate_mode(fn,n_vib,scale=1.0):\n",
        "  data = open(fn,'r').readlines()\n",
        "  ZZ = list()\n",
        "  geo = list()\n",
        "  displ = list()\n",
        "  # ler a geometria\n",
        "  geo_start=100000000000000\n",
        "  geo_end = -1\n",
        "  for n,line in enumerate(data):\n",
        "    if 'Coordinates' in line:\n",
        "      geo_start = n+3\n",
        "    if (n>geo_start) and '--------' in line:\n",
        "      geo_end = n\n",
        "      break\n",
        "  for n in range(geo_start,geo_end):\n",
        "    l =  data[n].split()\n",
        "    ZZ.append(int(l[1]))\n",
        "    geo.append(l[-3:])\n",
        "  symbols = [atomic_symbols[z] for z in ZZ]\n",
        "  natoms = len(symbols)\n",
        "  vib_start = geo_end + 7\n",
        "  vib_step = 9 + natoms\n",
        "  for i in range(vib_start,len(data),vib_step):\n",
        "    if n_vib in list(map(int,data[i].split())):\n",
        "      v_ind = list(map(int,data[i].split())).index(n_vib)\n",
        "      v_start = i + 9\n",
        "      v_end = i + vib_step\n",
        "      for j in range(v_start,v_end):\n",
        "        l = data[j].split()\n",
        "        displ.append(list(map(float,l[2+(3*v_ind):5+(3*v_ind)])))\n",
        "      break\n",
        "  for n in range(natoms):\n",
        "    for j in range(3):\n",
        "      displ[n][j] *= scale\n",
        "  xyz=f\"{natoms}\\n* (null), Energy   -1000.0000000\\n\"\n",
        "  for n in range(natoms):\n",
        "    xyz += f\"{symbols[n]}\"\n",
        "    for j in range(3):\n",
        "      xyz += f\" {geo[n][j]}\"\n",
        "    for j in range(3):\n",
        "      xyz += f\" {displ[n][j]}\"\n",
        "    xyz += '\\n'\n",
        "  xyzview = py3Dmol.view(width=400,height=400)\n",
        "  xyzview.addModel(xyz,'xyz',{'vibrate': {'frames':10,'amplitude':1}})\n",
        "  xyzview.setStyle({'stick':{},'sphere':{'scale':0.3}})\n",
        "  xyzview.setBackgroundColor('0xeeeeee')\n",
        "  xyzview.animate({'loop': 'backAndForth'})\n",
        "  xyzview.zoomTo()\n",
        "  xyzview.show()\n",
        "\n",
        "def compile_reaction_data(r_fn, ts_fn, p_fn):\n",
        "  r={'E':0.0,'H':0.0,'G':0.0}\n",
        "  ts={'E':0.0,'H':0.0,'G':0.0,'Ivib':0.0}\n",
        "  p={'E':0.0,'H':0.0,'G':0.0}\n",
        "  # reactant\n",
        "  data=open(r_fn).readlines()\n",
        "  for line in data[-100:]:\n",
        "    if '| TOTAL ENERGY ' in line:\n",
        "      r['E']=float(line.split()[-3])\n",
        "    if '| TOTAL ENTHALPY' in line:\n",
        "      r['H']=float(line.split()[-3])\n",
        "    if 'TOTAL FREE ENERGY' in line:\n",
        "      r['G']=float(line.split()[-3])\n",
        "  # TS\n",
        "  data=open(ts_fn).readlines()\n",
        "  for line in data[-100:]:\n",
        "    if '| TOTAL ENERGY ' in line:\n",
        "      ts['E']=float(line.split()[-3])\n",
        "    if '| TOTAL ENTHALPY' in line:\n",
        "      ts['H']=float(line.split()[-3])\n",
        "    if 'TOTAL FREE ENERGY' in line:\n",
        "      ts['G']=float(line.split()[-3])\n",
        "  data = open(ts_fn.replace('.out','.vibspectrum'),'r').readlines()\n",
        "  for line in data[4:]:\n",
        "    try:\n",
        "      freq=float(line[24:38].strip())\n",
        "    except:\n",
        "      freq=1.0\n",
        "    if freq < -1.0:\n",
        "      ts['Ivib']=freq\n",
        "      break\n",
        "  # product\n",
        "  data=open(p_fn).readlines()\n",
        "  for line in data[-100:]:\n",
        "    if '| TOTAL ENERGY ' in line:\n",
        "      p['E']=float(line.split()[-3])\n",
        "    if '| TOTAL ENTHALPY' in line:\n",
        "      p['H']=float(line.split()[-3])\n",
        "    if 'TOTAL FREE ENERGY' in line:\n",
        "      p['G']=float(line.split()[-3])\n",
        "  reactant = Molecule(r_fn.replace(\".out\",'.xtbopt.xyz'))\n",
        "  reactant.show()\n",
        "  print(\"Reactant final geometry\")\n",
        "  g98_animate_mode(ts_fn.replace('.out','.g98.out'),1,1.0)\n",
        "  print(\"Animation of the Reaction Coord. at the TS\")\n",
        "  product = Molecule(p_fn.replace(\".out\",'.xtbopt.xyz'))\n",
        "  product.show()\n",
        "  print(\"Product final geometry\")\n",
        "  Eh2kjmol = 2625.5 # conversao Eh -> kJ/mol\n",
        "  de_d = (p['E']-r['E']) * Eh2kjmol\n",
        "  dh_d = (p['H']-r['H']) * Eh2kjmol\n",
        "  dg_d = (p['G']-r['G']) * Eh2kjmol\n",
        "  ea_d = (ts['E']-r['E']) * Eh2kjmol\n",
        "  ha_d = (ts['H']-r['H']) * Eh2kjmol\n",
        "  ga_d = (ts['G']-r['G']) * Eh2kjmol\n",
        "  de_i = (r['E']-p['E']) * Eh2kjmol\n",
        "  dh_i = (r['H']-p['H']) * Eh2kjmol\n",
        "  dg_i = (r['G']-p['G']) * Eh2kjmol\n",
        "  ea_i = (ts['E']-p['E']) * Eh2kjmol\n",
        "  ha_i = (ts['H']-p['H']) * Eh2kjmol\n",
        "  ga_i = (ts['G']-p['G']) * Eh2kjmol\n",
        "  print(f\"           {'Energy':^16s} {'Enthalpy':^16s} {'Gibbs Energy':^16s}\")\n",
        "  print(f\" Delta (D) {de_d:16.2f} {dh_d:16.2f} {dg_d:16.2f}\")\n",
        "  print(f\" Eact (D)  {ea_d:16.2f} {ha_d:16.2f} {ha_d:16.2f}\")\n",
        "  print(f\" Delta (I) {de_i:16.2f} {dh_i:16.2f} {dg_i:16.2f}\")\n",
        "  print(f\" Eact (I)  {ea_i:16.2f} {ha_i:16.2f} {ha_i:16.2f}\")\n",
        "\n",
        "  print(f\"Value of the imaginary frequency at TS: {ts['Ivib']:20.2f}\")\n"
      ]
    },
    {
      "cell_type": "markdown",
      "id": "fba84ab9-195a-4d0f-9d48-145f74007683",
      "metadata": {
        "id": "fba84ab9-195a-4d0f-9d48-145f74007683"
      },
      "source": [
        "# Reacção de Diels Alder\n",
        "\n",
        "A reacção de Diels Alder é a adição de um dieno conjugado a un dienófilo, levando à formação de um derivado de ciclohexeno. O arquétipo desta reacção é a adição de etileno (dienófilo) ao butadieno:\n",
        "\n",
        "![marvinjs-output.png](data:image/png;base64,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)\n",
        "\n",
        "Este trabalho estuda este mecanismo de adição usando um método de *Tight Binding* para a exploração inicial da superfície de energia potencial. As geometrias obtidas para os estados iniciais, finais e de transição são depois usadas para calculos mais refinados da energia electrónica, obtendo-se assim uma visão de como o balanço energético ($|delta E$) e a energia de activaçao ($E^\\ddagger$) variam com o nível do método de química quântica usado para tratar o sistema.\n",
        "\n",
        "Por fim, este procedimento é repetido para os sistemas:\n",
        "* 1-cloroetileno + butadieno\n",
        "* etileno + 1-cloro-butadieno\n",
        "* etileno + 2-cloro-butadieno\n",
        "\n",
        "Tendo em vista o estabelecimento de regas re reactividade baseadas na halogenação do dieno e dienófilo. A primeira parte do trabalho (etileno + butadieno) é fornecida como demonstração."
      ]
    },
    {
      "cell_type": "markdown",
      "source": [
        "## Sistema 1: Etileno + Butadieno\n",
        "\n",
        "O estudo desta reacção passa por varias fases, resumidas abaixo:\n",
        "1. Definição do estado inicial (ou final) do sistema.\n",
        "1. Execução de um cálculo de varrimento da superfície de energia potencial (PES) para determinação do estado final (ou inicial) e geometria plaussível do estado de transição.\n",
        "1. Cálculo do caminho de menor energia entre o estado final e inicial.\n",
        "1. Caracterização do TS (cálculo de frequências vibracionais e análise da coordenada de reacção).\n",
        "1. Caracterização dos estados inicial (reagentes) e final (produtos) através do cálculo de freuências vibracionais.\n",
        "1. Extracção de parâmetros termoquímicos.\n",
        "1. Cálculo de $\\Delta E$, $\\Delta H$, $\\Delta G$ e $E^\\ddagger$."
      ],
      "metadata": {
        "id": "T3zOQJi9lsJP"
      },
      "id": "T3zOQJi9lsJP"
    },
    {
      "cell_type": "markdown",
      "source": [
        "### Definição do estado inicial (ou final) do sistema\n",
        "\n",
        "Uma vez que o estado final do sistema é mais simples (uma só molécula), esta reacção vai ser modelada \"de trás para a frente\". Para isso, começamos pela representação SMILE do nosso produto (ciclohexeno), a qual é gravada num ficheiro com a extenção `.smi`. Depois, usamos o openbabel para converter de SMILES para XYZ, com geração das coordenadas 3D. Por fim, abrimos o ficheiro xyz formado, e inspeccionamos visualmente. Em alternativa, poderá fazer download do ficheiro `ciclohexeno.xyz` e usar outra ferramenta de visualização, como o VMD."
      ],
      "metadata": {
        "id": "FEfVVUtBmyrY"
      },
      "id": "FEfVVUtBmyrY"
    },
    {
      "cell_type": "code",
      "source": [
        "prod_smile = \"[CH2]1[CH2][CH]=[CH][CH2][CH2]1\"\n",
        "\n",
        "with open('ciclohexeno.smi','w') as f:\n",
        "  f.write(prod_smile+'\\n')\n",
        "\n",
        "! obabel ciclohexeno.smi -Ociclohexeno.xyz -h --gen3d\n",
        "\n",
        "chex_mol = Molecule('ciclohexeno.xyz')\n",
        "chex_mol.show(label='C')"
      ],
      "metadata": {
        "id": "KoiGQoHnnR3H"
      },
      "id": "KoiGQoHnnR3H",
      "execution_count": null,
      "outputs": []
    },
    {
      "cell_type": "markdown",
      "source": [
        "Nós desejamos quebrar as ligações C1-C4 e C11-C14, usando um cálculo de varrimento da superfície de energia potencial. Para isso temos que preparar um ficheiro de configuração para o programa xtb. Nesse ficheiro, o varrimento da PES ocorre em dois passos: primeiro criamos um constrangimento nas ligações que pretendemos manupular, usando o grupo `$constrain`. Só depois é que podemos definir a forma como pretendemos \"esticar\" as ligações em causa: neste caso, de 1.1 até 6.0 Å, em 60 passos.\n",
        "\n",
        "Finalmente corremos o xtb, usando as especificações da linha de comando, conforme explica o manual (https://xtb-docs.readthedocs.io/en/latest/setup.html)."
      ],
      "metadata": {
        "id": "iTO8728W9XF9"
      },
      "id": "iTO8728W9XF9"
    },
    {
      "cell_type": "code",
      "source": [
        "with open('scan_pes.conf','w') as f:\n",
        "  f.write(\"\"\"$cma\n",
        "$constrain\n",
        " force constant=3.0\n",
        " distance: 1, 4, auto\n",
        " distance: 11, 14, auto\n",
        "$scan\n",
        " mode = concerted\n",
        " 1: 1.3, 5.0, 60\n",
        " 2: 1.3, 5.0, 60\n",
        "$end\n",
        "\"\"\")\n",
        "\n",
        "start=time.time()\n",
        "run_xtb(\"ciclohexeno.xyz --opt --input scan_pes.conf --namespace scan_pes -a 0.1 --etemp 1500 > scan_pes.out\")\n",
        "print(f\"O cálculo demorou {time.time()-start:0.1f} segundos.\")"
      ],
      "metadata": {
        "id": "7XbaCE469sUJ"
      },
      "id": "7XbaCE469sUJ",
      "execution_count": null,
      "outputs": []
    },
    {
      "cell_type": "markdown",
      "source": [
        "No final do cálculo, o `xtb` gera uma série de ficheiros. Para este tipo de cálculo, os ficheiros mais importantes são o ficheiro terminado em `.out`, o qual contém todo o output dos cálculos, incluindo todas as propriedades calculadas a cada passo. Para além do ficheiro com o output, temos também o ficheiro terminado em `.xtbscan.log` o qual é um ficheiro em formato XYZ com as geometrias de menor energia (sujeitas ao constrangiemnto das ligações manipuladas) e a respectiva energia. Nas primeiras células deste _notebook_ definimos funções para animar esta trajéctória, assim como para fazer o gráfico da energia em função do passo."
      ],
      "metadata": {
        "id": "qF472q41rDFu"
      },
      "id": "qF472q41rDFu"
    },
    {
      "cell_type": "code",
      "source": [
        "animate_trj('/content/scan_pes.xtbscan.log')\n",
        "plot_trj_energy('/content/scan_pes.xtbscan.log')"
      ],
      "metadata": {
        "id": "QysXS4WLpJZX"
      },
      "id": "QysXS4WLpJZX",
      "execution_count": null,
      "outputs": []
    },
    {
      "cell_type": "markdown",
      "source": [
        "O gráfico permite verificar alguns problemas:\n",
        "1. O valor inicial das ligações (1.3 Å) é mais curto que a distância de equilibrio.\n",
        "1. O processo de quebra das ligações é exoenergético, pelo que a reacção que pretendemos estudar será exoenergética (com $ΔE≈280$ kJ/mol)\n",
        "1. O varrimento da PES não dá origem a uma superfície contínua.\n",
        "1. Os passos 10 e 20 estão seguramente próximos, mas em lados opostos do estado de transição.\n",
        "\n",
        "Tendo em conta este último resultado, vamos estimar o caminho de reacção entre estes dois pontos. Para isso, temos primeiro que isolar essses dois pontos (copiar as geometrias do ficheiro de trajéctória para ficheiros xyz só com as geometrias de interesse). Depois é necessário correr um cálculo do tipo `path` no xtb (de novo, é preciso criar um ficheiro com a configuração do cálculo). **Daqui para a frente vamos abordar a reacção no seu sentido original** ou seja, o ponto 20 será etiquetado como estado inicial (reagentes) e o ponto 10 como estado final (produto)."
      ],
      "metadata": {
        "id": "m7uBGvLAuFCp"
      },
      "id": "m7uBGvLAuFCp"
    },
    {
      "cell_type": "code",
      "source": [
        "extract_geo('/content/scan_pes.xtbscan.log',10,'final-guess.xyz')\n",
        "extract_geo('/content/scan_pes.xtbscan.log',20,'initial-guess.xyz')\n",
        "\n",
        "with open('path.conf','w') as f:\n",
        "  f.write(\"\"\"\n",
        "$path\n",
        " # number of runs for pathfinder\n",
        " nrun = 5\n",
        " # number of points on the path to optimize\n",
        " #nopt = 20\n",
        " npoint = 20\n",
        " # number of steps to optimize the points on the path\n",
        " anopt = 1\n",
        " # factor for RMSD criterium pushing away from the reactant structure\n",
        " kpull = -0.1\n",
        " # factor for RMSD criterium pulling towards the product structure\n",
        " kpush = 0.01\n",
        " # width of the RMSD criterium\n",
        " alp = 0.001\n",
        "$end\n",
        "\"\"\")\n",
        "\n",
        "start=time.time()\n",
        "run_xtb(\"initial-guess.xyz --path final-guess.xyz --input path.conf --namespace react1-path > react1-path.out\")\n",
        "print(f\"O cálculo demorou {time.time()-start:0.1f} segundos.\")"
      ],
      "metadata": {
        "id": "kldxXPABxBT9"
      },
      "id": "kldxXPABxBT9",
      "execution_count": null,
      "outputs": []
    },
    {
      "cell_type": "markdown",
      "source": [
        "Os cálculos do tipo `path`, quando bem sucedidos, geram uma série de ficheiros importantes:\n",
        "* Ficheiro `.out` contém o output do programa\n",
        "* Ficheiro `.xtbpath.xyz` contém a trajéctória de menor energia encontrada.\n",
        "* Ficheiro `.xtbpath_ts.xyz` contém a geometria do estado de transição.\n",
        "\n",
        "Podemos inspecionar a geometria do estado de transição e verificar que esta se encontra algures entre o estado final e o estado inicial.\n"
      ],
      "metadata": {
        "id": "xF9hz8IZyS4p"
      },
      "id": "xF9hz8IZyS4p"
    },
    {
      "cell_type": "code",
      "source": [
        "ts_mol = Molecule('react1-path.xtbpath_ts.xyz')\n",
        "ts_mol.show()"
      ],
      "metadata": {
        "id": "oF-fvomvzSZZ"
      },
      "id": "oF-fvomvzSZZ",
      "execution_count": null,
      "outputs": []
    },
    {
      "cell_type": "markdown",
      "source": [
        "No entanto, a inspecção visual do estado de transição é insuficiente para verificar a sua natureza. Um estado de transição deverá apresentar uma e só uma frequência vibracional negativa (imaginária). Para verificar isto devemos fazer um cálculo de frequências, o qual também permite estimar os valores da entalpia e função de Gibbs a 289.15 K."
      ],
      "metadata": {
        "id": "Ju-8mvHqza2L"
      },
      "id": "Ju-8mvHqza2L"
    },
    {
      "cell_type": "code",
      "source": [
        "start=time.time()\n",
        "run_xtb(\"react1-path.xtbpath_ts.xyz --hess --namespace react1-TS-hess > react1-TS-hess.out\")\n",
        "run_xtb(\"initial-guess.xyz --ohess --namespace react1-R-ohess > react1-R-ohess.out\")\n",
        "print(f\"O cálculo demorou {time.time()-start:0.1f} segundos.\")"
      ],
      "metadata": {
        "id": "xReFFpoNz0Gu"
      },
      "id": "xReFFpoNz0Gu",
      "execution_count": null,
      "outputs": []
    },
    {
      "cell_type": "markdown",
      "source": [
        "Os cálculos de freqências geram alguns ficheiros interessantes:\n",
        "* Ficheiros `.out`  contém o output principal do programa (incluindo os valores das propriedades termoquímicas).\n",
        "* Ficheiros `.g98.out` contém os dados das vibrações no formato do software Gaussian 98, o qual pode ser usado por vários pacotes de visualização, tais como o molden ou o avogadro.\n",
        "* Ficheiros `.charges` com a carga de Muliken de cada átomo no sistema\n",
        "* Ficheiros `.wbo` com a ordem de ligação de Widberg entre os átomos do sistema.\n",
        "* Fihcheiros `.vibspectrum` com o sumário do espectro de Infravermelho e Raman (números de onda, intensidades e aplicação das regras de selecção).\n",
        "\n",
        "No nosso caso, vamos usar uma função definida no início do _notebook_ para animar o modo de vibração correspondente à coordenada de reacção, a partir do ficheiro `g98.out`). Olhando para o conteúdo do ficheiro `react1-TS-hess.g98.out`, podemos ver que o modo vibracional com frequência assciada negativa (imaginária) é o modo número 1."
      ],
      "metadata": {
        "id": "vA7iTHWQ0R1I"
      },
      "id": "vA7iTHWQ0R1I"
    },
    {
      "cell_type": "code",
      "source": [
        "g98_animate_mode('/content/react1-TS-hess.g98.out',1, scale=1.0)"
      ],
      "metadata": {
        "id": "qKnsxEHh18OO"
      },
      "id": "qKnsxEHh18OO",
      "execution_count": null,
      "outputs": []
    },
    {
      "cell_type": "markdown",
      "source": [
        "Feita a verificação do movimento associado à coordenada de reacção, resta-nos optimizar a geometria dos reagentes e produtos, a partir dos pontos usados para fazer o path. Para este fim, poderíamos usar cálculos de optimização de geometria, os quais teriam que ser seguidos de um cálculo de frequências (para identificar as geoemtrias obtidas como verdadeiros mínimos da PES, e para calcular os parâmteros termoquímicos). No caso do software stb, estes dois tipos de cálculos podem ser combinados num único cálculo do tipo `ohess` (optimization + hessian)."
      ],
      "metadata": {
        "id": "y6KCeJ5S3aj2"
      },
      "id": "y6KCeJ5S3aj2"
    },
    {
      "cell_type": "code",
      "source": [
        "start=time.time()\n",
        "run_xtb(\"initial-guess.xyz --ohess --namespace react1-R-ohess > react1-R-ohess.out\")\n",
        "print(f\"O primeiro cálculo demorou {time.time()-start:0.1f} segundos.\")\n",
        "start=time.time()\n",
        "run_xtb(\"final-guess.xyz --ohess --namespace react1-P-ohess > react1-P-ohess.out\")\n",
        "print(f\"O segundo cálculo demorou {time.time()-start:0.1f} segundos.\")\n"
      ],
      "metadata": {
        "id": "0uKzkmhG27WY"
      },
      "id": "0uKzkmhG27WY",
      "execution_count": null,
      "outputs": []
    },
    {
      "cell_type": "markdown",
      "source": [
        "Para além dos ficheiros gerados durante o cálculo de frequências já mencionados acima. Os cálculos de optimização de geometria também geram outros ficheiros de interesse:\n",
        "* Ficheiros `.xtbopt.log` contêm a trajectória da optimização da geoemtria (i.e., todas as geometrias pelas quais o sistema passou até atingir um mínimo local da PES).\n",
        "* Ficheiros `xtbopt.xyz` contêm a geometria final encontrada.\n",
        "* Ficheiros `stbtopo.mol` contêm a geometria e topologia da finais em formado mol/sdf.\n",
        "\n",
        "Uma inspecção cuidada dos ficheiros `g98.out` do sistema com os reagentes revela uma frequência negativa de baixo valor absoluto (cerca de -43 cm$^{-1}$). Estas frequências imaginárias de baixo valor absoluto podem ter múltiplas causas. No caso em estudo, a PES em torno desta geoemtria é bastante plana (como pode ser verificado no gráfico da PES no final do varrimento da mesma) e possivelmente o uso de critérios relativamente relaxados para sinalizar a convergência da optimização da geometria.\n",
        "\n",
        "\n",
        "Não obstante este problema, podemos agora recolher os dados sobre a termoquímica da reacção de Diels-Alder. Para isto devemos pesquisar pelos valores absolutos da energia, entalpia e função de Gibbs para reagentes, produtos e TS, e depois calcular $$ \\Delta E = E_{Produtos} - E_{Reagentes}$$ e $$E_{Ativação} = E_{TS} - E_{Reagentes}$$\n",
        "A função `compile_reaction_data` permite fazer essa pesquisa automaticamente, imprimindo um relatório para o ecrãn. Para isto temos que lhe fornecer os nomes dos ficheiros de output dos cálculos feitos para reagentes, estado de transição e produtos (por esta ordem)."
      ],
      "metadata": {
        "id": "jwPNBS6u4ija"
      },
      "id": "jwPNBS6u4ija"
    },
    {
      "cell_type": "code",
      "source": [
        "compile_reaction_data(\"react1-R-ohess.out\",\n",
        "                      \"react1-TS-hess.out\",\n",
        "                      \"react1-P-ohess.out\")"
      ],
      "metadata": {
        "id": "a_jr2QXn6y72"
      },
      "id": "a_jr2QXn6y72",
      "execution_count": null,
      "outputs": []
    },
    {
      "cell_type": "markdown",
      "source": [
        "#### Refinamento das energias usando outros métodos.\n",
        "\n",
        "O método xTB é um método _tight binding_ bastante rápido, permitindo explorar facilmente a PES em sistemas relativamente complexos. No entanto, depois de encontradas aproximações aceitáteis às geometrias dos pontos de interesse, devemos tentar refinar o cálculo da energia electrónica usando métodos mais refinados. Alguns desses métodos estão disponíveis no pacote `pyscf` e o cálculo é exemplificado abaixo. Em primeiro lugar, devemos criar três objectos M com a geometria de cada um dos três sistemas de interesse. Depois, associamos cada uma dessas geometrias a uma base de funções e a um método de resolução da Equação de Schrödinger."
      ],
      "metadata": {
        "id": "r8f6XsEe-Kd-"
      },
      "id": "r8f6XsEe-Kd-"
    },
    {
      "cell_type": "code",
      "source": [
        "# Ler as geometrias de R, TS e P da react1.\n",
        "R = ''.join(open('react1-R-ohess.xtbopt.xyz','r').readlines()[2:])\n",
        "TS = ''.join(open('react1-TS-hess.xtbhess.xyz','r').readlines()[2:])\n",
        "P = ''.join(open('react1-P-ohess.xtbopt.xyz','r').readlines()[2:])\n",
        "\n",
        "# Exemplo de cálculo RHF/STO-3G\n",
        "# Reagente\n",
        "mol_R = pyscf.M(atom=R, basis='sto-3g') # compilar molecula e base de funções\n",
        "rhf_R = pyscf.scf.RHF(mol_R) # associar molecula/base ao método de cálculo\n",
        "start=time.time() \n",
        "rhf_R.kernel() # correr o cálculo\n",
        "print(f\"O cálculo RHF/STO-3G para o sistema inicial demorou {time.time()-start:0.1f} segundos.\")\n",
        "print(f\"Energia RHF/STO-3G do Reagente : {rhf_R.e_tot} Eh\")\n",
        "\n",
        "# TS \n",
        "mol_TS = pyscf.M(atom=TS, basis='sto-3g') # compilar molecula e base de funções\n",
        "rhf_TS = pyscf.scf.RHF(mol_TS) # associar molecula/base ao método de cálculo\n",
        "start=time.time() \n",
        "rhf_TS.kernel() # correr o cálculo\n",
        "print(f\"O cálculo RHF/STO-3G para o estado de transição demorou {time.time()-start:0.1f} segundos.\")\n",
        "print(f\"Energia RHF/STO-3G do Estado de Transição : {rhf_TS.e_tot} Eh\")\n",
        "\n",
        "# Produto\n",
        "mol_P = pyscf.M(atom=P, basis='sto-3g') # compilar molecula e base de funções\n",
        "rhf_P = pyscf.scf.RHF(mol_P) # associar molecula/base ao método de cálculo\n",
        "start=time.time() \n",
        "rhf_P.kernel() # correr o cálculo\n",
        "print(f\"O cálculo RHF/STO-3G para o sistema final demorou {time.time()-start:0.1f} segundos.\")\n",
        "print(f\"Energia RHF/STO-3G do Produto : {rhf_P.e_tot} Eh\")\n",
        "\n",
        "# Calculo de Delta E e Eact em kJ/mol\n",
        "print(f\"\\nDelta E (RHF/STO-3G) : {2625.5*(rhf_P.e_tot-rhf_R.e_tot):0.1f} kJ/mol\")\n",
        "print(f\"Eact (RHF/STO-3G) : {2625.5*(rhf_TS.e_tot-rhf_R.e_tot):0.1f} kJ/mol\")"
      ],
      "metadata": {
        "id": "TDfHlTtg_KPh"
      },
      "id": "TDfHlTtg_KPh",
      "execution_count": null,
      "outputs": []
    },
    {
      "cell_type": "markdown",
      "source": [
        "A base de funções STO-3G é considerada como muito limitada, pelo que vamos fazer o mesmo cálculo com uma base de funções mais flexível (ccPVDZ)."
      ],
      "metadata": {
        "id": "Z2GrXAW1Cks1"
      },
      "id": "Z2GrXAW1Cks1"
    },
    {
      "cell_type": "code",
      "source": [
        "# Ler as geometrias de R, TS e P da react1.\n",
        "R = ''.join(open('react1-R-ohess.xtbopt.xyz','r').readlines()[2:])\n",
        "TS = ''.join(open('react1-TS-hess.xtbhess.xyz','r').readlines()[2:])\n",
        "P = ''.join(open('react1-P-ohess.xtbopt.xyz','r').readlines()[2:])\n",
        "\n",
        "# Exemplo de cálculo RHF/ccPVDZ\n",
        "# Reagente\n",
        "mol_R = pyscf.M(atom=R, basis='ccpvdz') # compilar molecula e base de funções\n",
        "rhf_R = pyscf.scf.RHF(mol_R) # associar molecula/base ao método de cálculo\n",
        "start=time.time() \n",
        "rhf_R.kernel() # correr o cálculo\n",
        "print(f\"O cálculo RHF/ccPVDZ para o sistema inicial demorou {time.time()-start:0.1f} segundos.\")\n",
        "print(f\"Energia RHF/ccPVDZ do Reagente : {rhf_R.e_tot} Eh\")\n",
        "\n",
        "# TS \n",
        "mol_TS = pyscf.M(atom=TS, basis='ccpvdz') # compilar molecula e base de funções\n",
        "rhf_TS = pyscf.scf.RHF(mol_TS) # associar molecula/base ao método de cálculo\n",
        "start=time.time() \n",
        "rhf_TS.kernel() # correr o cálculo\n",
        "print(f\"O cálculo RHF/ccPVDZ para o estado de transição demorou {time.time()-start:0.1f} segundos.\")\n",
        "print(f\"Energia RHF/ccPVDZ do Estado de Transição : {rhf_TS.e_tot} Eh\")\n",
        "\n",
        "# Produto\n",
        "mol_P = pyscf.M(atom=P, basis='ccpvdz') # compilar molecula e base de funções\n",
        "rhf_P = pyscf.scf.RHF(mol_P) # associar molecula/base ao método de cálculo\n",
        "start=time.time() \n",
        "rhf_P.kernel() # correr o cálculo\n",
        "print(f\"O cálculo RHF/ccPVDZ para o sistema final demorou {time.time()-start:0.1f} segundos.\")\n",
        "print(f\"Energia RHF/ccPVDZ do Produto : {rhf_P.e_tot} Eh\")\n",
        "\n",
        "# Calculo de Delta E e Eact em kJ/mol\n",
        "print(f\"\\nDelta E (RHF/ccPVDZ) : {2625.5*(rhf_P.e_tot-rhf_R.e_tot):0.1f} kJ/mol\")\n",
        "print(f\"Eact (RHF/ccPVDZ) : {2625.5*(rhf_TS.e_tot-rhf_R.e_tot):0.1f} kJ/mol\")"
      ],
      "metadata": {
        "id": "JpiqEeWKC7uM"
      },
      "id": "JpiqEeWKC7uM",
      "execution_count": null,
      "outputs": []
    },
    {
      "cell_type": "markdown",
      "source": [
        "Finalmente devemos experimentar com um nível de teoria da Teoria do Funcional da Densidade (DFT). Neste exemplo, iremos usar o método B3LYP, em conjunto com a base de funções ccPVDZ (normalmente abreviado por B3LYP/ccPVDZ)."
      ],
      "metadata": {
        "id": "f67gW-9KEbdb"
      },
      "id": "f67gW-9KEbdb"
    },
    {
      "cell_type": "code",
      "source": [
        "# Ler as geometrias de R, TS e P da react1.\n",
        "R = ''.join(open('react1-R-ohess.xtbopt.xyz','r').readlines()[2:])\n",
        "TS = ''.join(open('react1-TS-hess.xtbhess.xyz','r').readlines()[2:])\n",
        "P = ''.join(open('react1-P-ohess.xtbopt.xyz','r').readlines()[2:])\n",
        "\n",
        "# Exemplo de cálculo B3LYP/ccPVDZ\n",
        "\n",
        "# Relativamente ao exemplo anterior, apenas mudamos RHF para RKS e acrescentamos \n",
        "# a definição do funcional de permuta-correlação (xc) pretendido.\n",
        "# de notar que o nome das variávels pode manter o \"rhf\" sem problemas\n",
        "\n",
        "# Reagente\n",
        "mol_R = pyscf.M(atom=R, basis='ccpvdz') # compilar molecula e base de funções\n",
        "rhf_R = pyscf.scf.RKS(mol_R) # associar molecula/base ao método de cálculo\n",
        "rhf_R.xc = 'b3lyp'\n",
        "start=time.time() \n",
        "rhf_R.kernel() # correr o cálculo\n",
        "print(f\"O cálculo RHF/ccPVDZ para o sistema inicial demorou {time.time()-start:0.1f} segundos.\")\n",
        "print(f\"Energia RHF/ccPVDZ do Reagente : {rhf_R.e_tot} Eh\")\n",
        "\n",
        "# TS \n",
        "mol_TS = pyscf.M(atom=TS, basis='ccpvdz') # compilar molecula e base de funções\n",
        "rhf_TS = pyscf.scf.RKS(mol_TS) # associar molecula/base ao método de cálculo\n",
        "rhf_TS.xc = 'b3lyp'\n",
        "start=time.time() \n",
        "rhf_TS.kernel() # correr o cálculo\n",
        "print(f\"O cálculo RHF/ccPVDZ para o estado de transição demorou {time.time()-start:0.1f} segundos.\")\n",
        "print(f\"Energia RHF/ccPVDZ do Estado de Transição : {rhf_TS.e_tot} Eh\")\n",
        "\n",
        "# Produto\n",
        "mol_P = pyscf.M(atom=P, basis='ccpvdz') # compilar molecula e base de funções\n",
        "rhf_P = pyscf.scf.RKS(mol_P) # associar molecula/base ao método de cálculo\n",
        "rhf_P.xc = 'b3lyp'\n",
        "start=time.time() \n",
        "rhf_P.kernel() # correr o cálculo\n",
        "print(f\"O cálculo RHF/ccPVDZ para o sistema final demorou {time.time()-start:0.1f} segundos.\")\n",
        "print(f\"Energia RHF/ccPVDZ do Produto : {rhf_P.e_tot} Eh\")\n",
        "\n",
        "# Calculo de Delta E e Eact em kJ/mol\n",
        "print(f\"\\nDelta E (B3LYP/ccPVDZ) : {2625.5*(rhf_P.e_tot-rhf_R.e_tot):0.1f} kJ/mol\")\n",
        "print(f\"Eact (B3LYP/ccPVDZ) : {2625.5*(rhf_TS.e_tot-rhf_R.e_tot):0.1f} kJ/mol\")"
      ],
      "metadata": {
        "id": "zxwyP9eNE1w7"
      },
      "id": "zxwyP9eNE1w7",
      "execution_count": null,
      "outputs": []
    },
    {
      "cell_type": "markdown",
      "id": "3a4ddaf0",
      "metadata": {
        "id": "3a4ddaf0"
      },
      "source": [
        "# Questões\n",
        "\n",
        "1. Depois de correr a demonstração para a reacção entre o etileno e o 1,3-butadieno, indique os valores de ΔE e $E_{act}$ obtidos por cada método. Considerando que a melhor estimativa para a barreira de activação desta reacção é de 92.1 kJ/mol (Lischka, H., Ventura, E. and Dallos, M. (2004), The Diels–Alder Reaction of Ethene and 1,3-Butadiene: An Extended Multireference ab initio Investigation. ChemPhysChem, 5: 1365-1371. https://doi.org/10.1002/cphc.200400104). Qual foi o método que ficou mais próximo deste valor?\n",
        "1. Repita a demonstração para o sistema 1-cloro-etileno +  1,3-butadieno, adaptando o código acima, e sabendo que o produto da reacção de Diels Alder para este sistema tem o SMILES: `[CH2]1[CH2][CH]=[CH][CH2][CH](Cl)1`. Qual á o valor estimado para $\\Delta E$ e $E_{act}$ pelo método B3LYP/cc-pVDZ?\n",
        "1. Repita a demonstração para o sistema etileno +  1-cloro-buta-1,3-dieno, adaptando o código acima, e sabendo que o produto da reacção de Diels Alder para este sistema tem o SMILES: `[CH2]1[CH2][CH]=[CH][CH](Cl)[CH2]1`. Qual á o valor estimado para $\\Delta E$ e $E_{act}$ pelo método B3LYP/cc-pVDZ?\n",
        "1. Repita a demonstração para o sistema etileno +  2-cloro-buta-1,3-dieno, adaptando o código acima, e sabendo que o produto da reacção de Diels Alder para este sistema tem o SMILES: `[CH2]1[CH2][CH]=[C](Cl)[CH2][CH2]1`. Qual á o valor estimado para $\\Delta E$ e $E_{act}$ pelo método B3LYP/cc-pVDZ?\n",
        "1. Considerando todos os resultados obtidos usando o método B3LYP/cc-pVDZ, o que infere sobre o efeito da introdução de um grupo electronegativo (no dieno ou no dienófilo) na cinética e termoquímica da reacção de Dields Alder?\n",
        "\n",
        "**NB** Na resolução das questoẽs 2 a 4, poderá criar novas células de código abaixo deste texto e copiar o código usado em cada estágio da demonstração da reacção 1, editando o SMILES do ponto de partida. Deverá anotar todos os valores calculados numa tabela ou folha de excel de forma a poder justificar as suas respostas."
      ]
    }
  ],
  "metadata": {
    "kernelspec": {
      "display_name": "Python 3 (ipykernel)",
      "language": "python",
      "name": "python3"
    },
    "language_info": {
      "codemirror_mode": {
        "name": "ipython",
        "version": 3
      },
      "file_extension": ".py",
      "mimetype": "text/x-python",
      "name": "python",
      "nbconvert_exporter": "python",
      "pygments_lexer": "ipython3",
      "version": "3.10.5"
    },
    "colab": {
      "provenance": [],
      "collapsed_sections": []
    }
  },
  "nbformat": 4,
  "nbformat_minor": 5
}
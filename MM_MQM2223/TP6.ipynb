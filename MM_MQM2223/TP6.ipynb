{
  "cells": [
    {
      "cell_type": "markdown",
      "id": "d6bff32e-4b00-41b4-a79d-5efc6f28ec8e",
      "metadata": {
        "id": "d6bff32e-4b00-41b4-a79d-5efc6f28ec8e"
      },
      "source": [
        "# TP6 - _Docking_ do 5-fluoracil ao DNA usando Algoritmos Genéticos\n",
        "\n",
        "O trabalho da sexta (e última) aula prática é dedicado ao estudo da agregação do 5-fluoracil (5-FU) a um fragmento de DNA. O 5-FU é um fármaco usado no tratemento do cancro, mas é ele prórpio também um agente carcinogénico, podendo interagir com o DNA de células saudáveis. Por outro lado, a interação de heterociclos com fragmentos individuais de DNA tem servido como inspiração para o desenvolvimento de (bio-)nanodispositivos capazes de transmitir energia entre diferentes partes de um circuito molecular. Deste modo, o estudo da agregação  um heterocíclo como o 5-FU ao DNA com diferentes sequências é interessante tanto sob o ponto de vista do estudo da acção carcinogénica do mesmo (e eventual desenvolvimento de variantes estruturais menos carcinogénicas) como sob o ponto de vista de novas formas de processamento da energia.\n",
        "\n",
        "Este trabalho expõe um protocolo mínimo de _docking_ molecular para encontrar agregados DNA-5-FU com uma molécula de 5-FU e uma cadeia de DNA com 12 resíduos com o padrão repetitivo ACG. A orientação relativa da molécula de 5-FU será optimizada usando algoritmos genéticos, e a energia de cada sistema proposto será levada a cabo usando o campo de forças GFN-FF, o qual inclui efeitos de polarização, e encontra-se implementado no software `xtb`, podendo reconstruir a topologia do sistema a partir das coordenadas dadas num ficheiro em formato `xyz`.\n",
        "\n"
      ]
    },
    {
      "cell_type": "markdown",
      "id": "0e30ff98-757d-46f0-b2c9-7998db252da4",
      "metadata": {
        "id": "0e30ff98-757d-46f0-b2c9-7998db252da4"
      },
      "source": [
        "## Preparação do Ambiente Python\n",
        "\n",
        "Este _notebook_ é usado como protocolo e folha de excercício deste trabalho é uma tecnologia que permite combinar texto formatado com código Python. Existem várias implementações desta tecnologia (ver TP2). No entanto, este trabalho prático requer o uso de um programa externo (`xtb`).  A configuração deste _software_ pode depender do ambiente usado, pelo que este trabalho foi desenhado para **correr apenas na plataforma Google Colab**. A Google Colab é uma implementação de cálculo na _cloud_ desenvolvida pela Google e disponível em https://colab.research.google.com/ . Possui algumas vantagens relativamente ao uso de notebooks da Jupyter: os cálculos correm numa máquina remota da Google, não há nececidade de instalar software no computador local (basta um browser recente) e é gratuito, para o nível de acesso mais básico.\n",
        "\n",
        "O ambiente oferecido pelo Google Colab ja inclui vários pacotes necessários para cálculo numérico, gráficos e tratamento de dados. Para este trabalho específico, apenas é necessário instalar e configurar o `xtb`, incluíndo definir um par de funções necessário para que este corra a partir dos comandos do python."
      ]
    },
    {
      "cell_type": "code",
      "source": [
        "# install py3Dmol\n",
        "!pip install --user py3Dmol\n",
        "import sys\n",
        "sys.path.append('/root/.local/lib/python3.7/site-packages')\n",
        "\n",
        "# install openbabel (only the software, not the python bindings)\n",
        "!apt-get install openbabel\n",
        "\n",
        "# install XTB\n",
        "!wget -c https://github.com/grimme-lab/xtb/releases/download/v6.5.1/xtb-6.5.1-linux-x86_64.tar.xz\n",
        "!tar xf xtb-6.5.1-linux-x86_64.tar.xz\n",
        "!export PATH=/content/xtb-6.5.1/bin:${PATH}\n",
        "\n",
        "# implementação dos algoritmos geneticos\n",
        "!wget https://raw.githubusercontent.com/teixeirafilipe/ChemOutReach/main/MM_MQM2223/ga.py\n",
        "\n",
        "# aditional functions for xtb\n",
        "import subprocess\n",
        "def shell(cmd, shell=True):\n",
        "  \"runs a command in the linux shell, adapted from Jimmy Kromann.\"\n",
        "  if shell:\n",
        "    p = subprocess.Popen(cmd, shell=True, stdin=subprocess.PIPE, stdout=subprocess.PIPE, stderr=subprocess.PIPE)\n",
        "  else:\n",
        "    p = subprocess.Popen(cmd, shell=True, stdin=subprocess.PIPE, stdout=subprocess.PIPE, stderr=subprocess.PIPE)\n",
        "  output, err = p.communicate()\n",
        "  return output\n",
        "\n",
        "def run_xtb(args):\n",
        "  return shell(f\"ulimit -s unlimited; OMP_STACKSIZE=12G OMP_MAX_ACTIVE_LEVELS=1 /content/xtb-6.5.1/bin/xtb {args}\")\n"
      ],
      "metadata": {
        "id": "_4NMz-bzT2eh"
      },
      "id": "_4NMz-bzT2eh",
      "execution_count": null,
      "outputs": []
    },
    {
      "cell_type": "markdown",
      "id": "c431c084-4cd7-4c16-85c3-7aab9f0e1386",
      "metadata": {
        "id": "c431c084-4cd7-4c16-85c3-7aab9f0e1386"
      },
      "source": [
        "## Importar Pacotes e Carregar Funções Utilitárias\n",
        "\n",
        "Depois de configurar o seu ambiente python, deverá executar a célcula seguinte, de forma a carregar os pacotes necessários (instrução `import`), assim como definir algumas funções, classes e constantes usadas ao longo do trabalho."
      ]
    },
    {
      "cell_type": "code",
      "execution_count": null,
      "id": "e4c98306-4724-4617-a2b2-40c72b210a17",
      "metadata": {
        "id": "e4c98306-4724-4617-a2b2-40c72b210a17"
      },
      "outputs": [],
      "source": [
        "import time\n",
        "import ga\n",
        "import numpy as np\n",
        "import pandas as pd\n",
        "import matplotlib.pyplot as plt\n",
        "import py3Dmol\n",
        "\n",
        "atomic_symbols=['XX','H','He','Li','Be','B','C','N','O','F','Ne',\n",
        "                'Na','Mg','Al','Si','P','S','Cl','Ar']\n",
        "\n",
        "class Molecule():\n",
        "  def __init__(self,fn=None, name=None):\n",
        "    self.name='None'\n",
        "    self.symbols=list()\n",
        "    self.geo=np.array([])\n",
        "    if fn:\n",
        "      self.read_xyz(fn)\n",
        "    if name:\n",
        "      self.name=name\n",
        "\n",
        "  def copy(self):\n",
        "    \"makes a copy of the Molecule\"\n",
        "    o = Molecule()\n",
        "    o.name = self.name\n",
        "    o.symbols = self.symbols.copy()\n",
        "    o.geo = self.geo.copy()\n",
        "    return o\n",
        "\n",
        "  def natoms(self):\n",
        "      return len(self.symbols)\n",
        "  \n",
        "  def get_mmff94_energy(self):\n",
        "    self.write_xyz('Molecule_mmff94.xyz')\n",
        "    r=shell(\"obenergy -ff mmff94 Molecule_gfnff.xyz\")\n",
        "    data=r.decode().split('\\n')\n",
        "    for line in data:\n",
        "      if 'TOTAL ENERGY =' in line:\n",
        "        return(4.18*float(line.split()[-2]))\n",
        "\n",
        "  def get_gnfff_energy(self):\n",
        "    self.write_xyz('Molecule_gfnff.xyz')\n",
        "    run_xtb(\"--gfnff Molecule_gfnff.xyz --scc > Molecule.out\")\n",
        "    data=open(\"Molecule.out\",'r').readlines()\n",
        "    for line in data:\n",
        "      if '| TOTAL ENERGY  ' in line:\n",
        "        return(float(line.split()[-3]))\n",
        "  \n",
        "  def show(self, label=None): \n",
        "    p = py3Dmol.view()\n",
        "    p.addModel(self.write_xyz())\n",
        "    #p.setStyle({'stick':{}})\n",
        "    p.setStyle({'stick':{},'sphere':{'scale':0.3}})\n",
        "    p.setBackgroundColor('0xeeeeee')\n",
        "    if label == 'C':\n",
        "      for i,s in enumerate(self.symbols):\n",
        "        if s.upper().strip()=='C':\n",
        "          p.addLabel(f\"C{i+1}\",{'position': {'x':self.geo[i,0], 'y':self.geo[i,1], 'z':self.geo[i,2]}})\n",
        "    p.zoomTo()\n",
        "    p.show()\n",
        "\n",
        "  def read_xyz(self, fn):\n",
        "    \"Reads a XYZ file\"\n",
        "    with open(fn,'r') as f:\n",
        "      data = f.readlines()\n",
        "    natoms = int(data[0])\n",
        "    g = list()\n",
        "    for i in range(2,2+natoms):\n",
        "      l = data[i].split()\n",
        "      self.symbols.append(l[0].capitalize())\n",
        "      g.append(list(map(float,l[1:4])))\n",
        "    self.geo=np.array(g)\n",
        "\n",
        "  def centre_location(self):\n",
        "    \"returns the location of the geometrical centre as a vector\"\n",
        "    return self.geo.mean(axis=0)\n",
        "\n",
        "  def shift(self, displacement):\n",
        "    \"Displaces the molecule as a whole, given a 3D vector (np.array)\"\n",
        "    self.geo += displacement\n",
        "\n",
        "  def center(self):\n",
        "    \"Displaces the molecule so that its geometrical centre is at the origin.\"\n",
        "    self.shift(-self.centre_location())\n",
        "\n",
        "  def write_xyz(self,fn=None, comment=''):\n",
        "    if comment:\n",
        "      s = f\"{self.natoms()}\\n{comment.strip()}\\n\"\n",
        "    else:\n",
        "      s = f\"{self.natoms()}\\n Created by Molecule Class\\n\"\n",
        "    for n in range(self.natoms()):\n",
        "        s += f\"{self.symbols[n]:3s}\"\n",
        "        for i in range(3):\n",
        "          s += f\" {self.geo[n,i]:16.6f}\"\n",
        "        s += '\\n'\n",
        "    if fn:\n",
        "      with open(fn,'w') as f:\n",
        "        f.write(s)\n",
        "    else:\n",
        "      return s\n",
        "\n",
        "  def orient(self, x, y, z, theta, phi, gamma, debug=False):\n",
        "    M = np.array([[ np.cos(phi),  0, np.sin(phi)],\n",
        "                  [           0,  1, 0],\n",
        "                  [-np.sin(phi),  0, np.cos(phi)]])\n",
        "    for n in range(self.natoms()):\n",
        "      self.geo[n] = np.matmul(M,self.geo[n])\n",
        "    M = np.array([[ 1, 0, 0],\n",
        "                  [ 0,  np.cos(theta), np.sin(theta)],\n",
        "                  [ 0, -np.sin(theta), np.cos(theta)]])\n",
        "    for n in range(self.natoms()):\n",
        "      self.geo[n] = np.matmul(M,self.geo[n])\n",
        "    M = np.array([[ np.cos(gamma), np.sin(gamma), 0],\n",
        "                  [-np.sin(gamma), np.cos(gamma), 0],\n",
        "                  [0 , 0, 1]])\n",
        "    for n in range(self.natoms()):\n",
        "      self.geo[n] = np.matmul(M,self.geo[n])\n",
        "    self.shift(np.array([x,y,z]))\n",
        "\n",
        "  def add_molecule(self,other):\n",
        "    if not isinstance(other,Molecule):\n",
        "      raise TypeError(\"Cannot add to a non-Molecule object.\")\n",
        "    original_natoms = self.natoms()\n",
        "    added_atoms = other.natoms()\n",
        "    if original_natoms == 0:\n",
        "        return other.copy()\n",
        "    if added_atoms == 0:\n",
        "        return self.copy()\n",
        "    o = self.copy()\n",
        "    for n in range(added_atoms):\n",
        "      o.symbols.append(other.symbols[n])\n",
        "    o.geo = np.concatenate((o.geo,other.geo))\n",
        "    return o\n",
        "\n",
        "  def __add__(self,other):\n",
        "    return(self.add_molecule(other))\n",
        "\n",
        "  def make_distance_matrix(self):\n",
        "    natoms, _ = self.geo.shape\n",
        "    o=np.zeros((natoms,natoms))\n",
        "    for i in range(natoms-1):\n",
        "        for j in range(i+1,natoms):\n",
        "            d=np.linalg.norm(self.geo[i,:]-self.geo[j,:])\n",
        "            o[i,j]=d\n",
        "            o[j,i]=d\n",
        "    return o\n",
        "  \n",
        "  def check_for_colisions(self,r=1.0):\n",
        "    natoms, _ = self.geo.shape\n",
        "    for i in range(natoms-1):\n",
        "      for j in range(i+1,natoms):\n",
        "          d=np.linalg.norm(self.geo[i,:]-self.geo[j,:])\n",
        "          if d<r:\n",
        "            return True\n",
        "    return False\n",
        "    \n",
        "def plot_trj_energy(fn):\n",
        "  data=open(fn,'r').readlines()\n",
        "  e=list()\n",
        "  for line in data:\n",
        "    if 'energy:' in line:\n",
        "      l=line.split()\n",
        "      for i,token in enumerate(l):\n",
        "        if token=='energy:':\n",
        "          e.append(float(l[i+1]))\n",
        "  e = np.array(e)\n",
        "  e = 2625.5*(e-e.min())\n",
        "  fig,ax = plt.subplots()\n",
        "  ax.scatter(np.arange(1,len(e)+1),e)\n",
        "  ax.set_xlabel(\"Passo (n)\")\n",
        "  ax.set_ylabel(\"Energia Relativa (kJ/mol)\")\n",
        "  plt.show()\n"
      ]
    },
    {
      "cell_type": "markdown",
      "source": [
        "## Estudo das Moléculas Individuais\n",
        "\n",
        "Começamos o trabalho por carregar as moléculas individuais (DNA e 5-FU) e estimar a energia delas. O valor E(DNA) + E(5-FU) é o valor base da energia do sistema, a partir do qual podemos estimar a energia de interacção entre o DNA e o 5-FU para os diversos agregados."
      ],
      "metadata": {
        "id": "gxR6mgXZzCBl"
      },
      "id": "gxR6mgXZzCBl"
    },
    {
      "cell_type": "code",
      "source": [
        "! wget https://raw.githubusercontent.com/teixeirafilipe/ChemOutReach/main/MM_MQM2223/5fu.xyz\n",
        "! wget https://raw.githubusercontent.com/teixeirafilipe/ChemOutReach/main/MM_MQM2223/ACG.xyz\n",
        "\n",
        "# Carregar a Molécula do 5-fu, centrar no espaço, visualizar e calcular a energia\n",
        "fu = Molecule('5fu.xyz')\n",
        "fu.center()\n",
        "fu.show()\n",
        "print(f\"A energia de uma molécula de 5-FU é: {fu.get_gnfff_energy()} Eh\")\n",
        "\n",
        "# Carregar a Molécula do DNA, centrar no espaço, visualizar e calcular a energia\n",
        "dna = Molecule('ACG.xyz')\n",
        "dna.center()\n",
        "dna.show()\n",
        "print(f\"A energia de um fragmento de DNA é: {dna.get_gnfff_energy()} Eh\")\n"
      ],
      "metadata": {
        "id": "dHWVNbUAz3PD"
      },
      "id": "dHWVNbUAz3PD",
      "execution_count": null,
      "outputs": []
    },
    {
      "cell_type": "markdown",
      "source": [
        "## _Docking_ Usando Algoritmos genéticos.\n",
        "\n",
        "Os estudos de docking presupõem normalmente uma conformação rígida das moléculas. Neste contexto, a molécula do DNA permenecerá imóvel no centro do sistema de coordenadas. Já  a molécula de 5-FU tem seis graus de liberdade possíveis:\n",
        "* 3 coordenadas espaciais (_xyz_) para o seu centro\n",
        "* 3 rotações ao longo dos eixos _xx_, _yy_ e _zz_ que permitem orientar a molécula no espaço\n",
        "\n",
        "Temos, portanto 6 coordenadas para cada molécula, fazendo um total de 60 coordenadas para optimizar. \n",
        "\n",
        "Um sistema deste tipo tem múltiplos mínimos locais da energia, pelo que um método simples de optimização de geometria iria convergir para o mínimo local mais próximo, não permitindo a devida exploração do espaço configuracional. Por outro lado, as Dinâmicas Moleculares iriam requerer a hidratação do DNA (a hélice B não é estável em vácuo). Teriam portanto que cobrir não só os processos de agregação das várias moléculas de 5-FU, mas também processos de deslocamento de água. Todos estes processos tomam lugar numa escala de tempo bastante longa, tornando o cálculo computacionalmente difícil. Finalmente, os métodos de energia livre avançados (metadinâmicas, Monte Carlo, Umbrela Sampling) também irão requerer pelo menos o constrangimento da cadeia de DNA. Para além disso, estes métodos iriam requerer um número elevado de iterações de forma a fazer uma boa amostragem da superfífice de energia livre, de tal modo a podermos encontrar algumas configurações interessantes.\n",
        "\n",
        "Nestes casos, o uso de algoritmos genéticos pode ser uma alternativa viável. A teoria-base dos algoritmos genéticos pode ser resumida em poucas linhas:\n",
        "* Cada possível solução para o problema encontra-se codificada no genoma de um \"Indivíduo\"\n",
        "* Vários \"Individuos\" existem numa população.\n",
        "* Em cada iteração, acontecem os seguintes eventos na população:\n",
        "  * Os indivíduos são ordenados pela excelência do seu genoma (neste caso, quanto mais baixa a energia do sistema, melhor)\n",
        "  * Os melhores indivídios são escolhidos para reprodução... os restantes morrem para dar lugar a novos individuos (soluções).\n",
        "  * De entre os \"sobreviventes\", quanto melhor a qualidade do seu genoma, maiores as suas probabilidades de \"acasalar\" com outro indivíduo.\n",
        "  * Selecionamos pares de indivíduos para acasalar... isto traduz-se na re-composição dos seus genomas num novo indivíduo\n",
        "  * Aquando da criação de um novo indivíduo, pode occorrer uma mutação (alteração aleatória do seu genoma)\n",
        "  * Os novos individuos são avaliados, e uma nova iteração pode começar\n",
        "\n",
        "\n",
        "As duas ideias fundamentais por detraís dos Algoritmos Genéticos são:\n",
        "1. **A solução óptima do problema pode ser aproximada a partir do cruzamento de soluções menos optimizadas**\n",
        "1. **As mutações que ocorrem numa população são uma oportunidade para o sistema explorar soluções alternativas de adaptação ao meio (soluções do problema)**\n",
        "\n",
        "No caso do nosso problema de _docking_ o genoma de cada indivíduo é uma sequência de números reais que indicam os 6 graus de liberdade da molécula do 5-FU ($x,y,z,\\theta,\\phi,\\gamma$). A nossa função de avaliação vai ter que tratar de vários processos:\n",
        "1. Criar o sistema a partir das moléculas individuais do DNA e 5-FU (transladando e re-orientando a mesma)\n",
        "1. Chamar o xtb para calcular a energia do sistema.\n",
        "1. Devolver o valor da energia à função que chama.\n",
        "\n",
        "A cada passo, vamos também querer guardar a melhor solução, para depois podermos reconstruir a trajectória do melhor complexo 5-FU-DNA.\n",
        "\n",
        "Também criamos uma função de acasalamento em que os genes são alternadamente selecionados de cada progenitor, e uma função de mutação que permuta as posições de dois alelos no genoma do novo individuo."
      ],
      "metadata": {
        "id": "4qLc5C4B2IeI"
      },
      "id": "4qLc5C4B2IeI"
    },
    {
      "cell_type": "code",
      "source": [
        "def evaluate_xtb(v, view=False):\n",
        "  dx, dy, dz, theta, phi, gamma = v # extrair coordenadas de v\n",
        "  theta = theta%(2*np.pi)\n",
        "  phi = phi%(2*np.pi)\n",
        "  gamma = gamma%(2*np.pi)\n",
        "  # fazemos uma copia do 5fu, e re-orientamos\n",
        "  new_fu = fu.copy()\n",
        "  new_fu.orient(dx,dy,dz,theta,phi,gamma)\n",
        "  # adicionamos a copia do 5fu ao DNA\n",
        "  system = dna + new_fu\n",
        "  if view:\n",
        "    system.show()\n",
        "  # verificamos colisões\n",
        "  #if system.check_for_colisions(r=0.8):\n",
        "  #  return 0.0\n",
        "  #else:\n",
        "    # calculamos a energia\n",
        "  return system.get_gnfff_energy()\n",
        "\n",
        "def evaluate_mmff94(colv):\n",
        "  with open('Molecule_mmff94.xyz','w') as f:\n",
        "    failed=list()\n",
        "    for iv,v in enumerate(colv):\n",
        "      dx, dy, dz, theta, phi, gamma = v # extrair coordenadas de v\n",
        "      theta = theta%(2*np.pi)\n",
        "      phi = phi%(2*np.pi)\n",
        "      gamma = gamma%(2*np.pi)\n",
        "      # fazemos uma copia do 5fu, e re-orientamos\n",
        "      new_fu = fu.copy()\n",
        "      new_fu.orient(dx,dy,dz,theta,phi,gamma)\n",
        "      # adicionamos a copia do 5fu ao DNA\n",
        "      system = dna + new_fu\n",
        "      if system.check_for_colisions(r=0.7):\n",
        "        failed.append(iv)\n",
        "      f.write(system.write_xyz())\n",
        "  r=shell(\"obenergy -ff MMFF94 Molecule_mmff94.xyz | grep 'TOTAL ENERGY ='\")\n",
        "  data=r.decode().split('\\n')\n",
        "  o=np.zeros(len(colv))\n",
        "  shift=0\n",
        "  count=0\n",
        "  for line in data:\n",
        "    if 'TOTAL ENERGY =' in line:\n",
        "      if count+shift in failed:\n",
        "        shift+=1\n",
        "      o[count+shift]=4.184*float(line.split()[-2])\n",
        "      count += 1\n",
        "  return o\n",
        "\n",
        "\n",
        "def cross(p1,p2):\n",
        "  # combinação alternada de dois genomas, \n",
        "  # com incorporação de 10% de cada um dos progenitores\n",
        "  new_genome=list()\n",
        "  for i in range(len(p1)):\n",
        "    if i%2 == 0:\n",
        "      new_genome.append(p1[i])\n",
        "    else:\n",
        "      new_genome.append(p2[i])\n",
        "  new_genome = 0.8*np.array(new_genome)+0.1*np.array(p1)+0.1*np.array(p2)\n",
        "  return ga.Individual(new_genome)\n",
        "\n",
        "def mutate(p, rng):\n",
        "  # permuta de dois alelos com introdução de um pouco de ruído\n",
        "  i1 = rng.integers(len(p))\n",
        "  i2 = i1\n",
        "  while(i2==i1):\n",
        "    i2 = rng.integers(len(p))\n",
        "  tmp=p[i1]\n",
        "  p[i1]=p[i2]*rng.normal(1.0,0.05)\n",
        "  p[i2]=tmp*rng.normal(1.0,0.05)\n",
        "  return p\n"
      ],
      "metadata": {
        "id": "Ts_fe0sh9SZc"
      },
      "id": "Ts_fe0sh9SZc",
      "execution_count": null,
      "outputs": []
    },
    {
      "cell_type": "markdown",
      "source": [
        "Agora temos que decidir os parâmetros do algoritmo genético (GA). Em primeiro lugar temos que decidir a _pool_ de onde vamos gerar os primeiros genomas. No nosso caso, queremos que os angulos possam cobrir o máximo de amplitude de 0 a 360 e que as distância sejam ligeiramente superiores a 30 Å, de forma a podermos cobrir toda uma esfera em torno do nosso fragemnto de DNA. Uma vez que tivemos o cuidado de converter os ângulos para o domínio entre 0 e 2π (ver função acima), podemos estar tranquilos quanto à possibilidade de ter valores demasiado grandes para estes. Assim, a nossa _pool_ é uma amostra de números reais, entre -30 e 30.\n",
        "\n",
        "As nossas que implementam o algoritmo genético (incluindo acasalamento e mutação) já estão disponíveis no pacote `ga.py`, pelo que resta definir o nº de individuos na população, a fracção de mortes em cada iteração e a probabilidade de ocorrerem mutações."
      ],
      "metadata": {
        "id": "d3hmAY504c2a"
      },
      "id": "d3hmAY504c2a"
    },
    {
      "cell_type": "code",
      "source": [
        "\n",
        "n_individuos = 20\n",
        "n_genes = 6\n",
        "pool = np.linspace(-30,30,17)\n",
        "death_ratio = 0.3\n",
        "mutation_prob = 0.1\n",
        "n_iterações = 75\n",
        "\n",
        "start=time.time()\n",
        "pop = ga.Population(n_individuos, n_genes, pool, \n",
        "                    score_func= evaluate_xtb, cross_func= cross, \n",
        "                    mut_func= mutate, death_ratio= death_ratio,\n",
        "                    mut_prob= mutation_prob, collective_eval=False, random_state=42)\n",
        "print(f\"Criar a população inicial demorou {time.time()-start:0.1f} segundos\")"
      ],
      "metadata": {
        "id": "swUUw9A51tVI"
      },
      "id": "swUUw9A51tVI",
      "execution_count": null,
      "outputs": []
    },
    {
      "cell_type": "markdown",
      "source": [
        "Agora, podemos fazer as iterações, e gravar o melhor indivíduo em cada iteração (mais tarde podemos recuperar a geometria correspondente, pelo que assim poupamos memória no computador)."
      ],
      "metadata": {
        "id": "vExPAITW_Zxk"
      },
      "id": "vExPAITW_Zxk"
    },
    {
      "cell_type": "code",
      "source": [
        "history=list()\n",
        "av_scores=list()\n",
        "sd_scores=list()\n",
        "history.append(pop[0]) # guardamos o melhor individuo a cada iter.\n",
        "scores=[i.score for i in pop]\n",
        "av_scores.append(np.mean(scores)) # média dos scores\n",
        "sd_scores.append(np.std(scores)) # desvio-padrão dos scores\n",
        "\n",
        "print(f\"Energia da melhor configuração da população inicial: {evaluate_xtb(pop[0],view=True):0.6f}\")\n",
        "start=time.time()\n",
        "for n in range(n_iterações):\n",
        "  try:\n",
        "    pop._iterate()\n",
        "  except ValueError:\n",
        "    print(\"Population Stagnated\")\n",
        "    break\n",
        "  history.append(pop[0])\n",
        "  scores=[i.score for i in pop]\n",
        "  av_scores.append(np.mean(scores))\n",
        "  sd_scores.append(np.std(scores))\n",
        "  print(f\"Iter {n+1} best_score= {pop[0].score} pop_av= {np.mean(scores)} pop_sd= {np.std(scores)}\")\n",
        "print(f\"{n_iterações} iterações do GA demoraram {time.time()-start:0.1f} segundos.\")\n",
        "print(f\"Energia da melhor configuração da população final: {evaluate_xtb(pop[0],view=True):0.6f}\")\n"
      ],
      "metadata": {
        "id": "oRQf1tKm_Zf2"
      },
      "id": "oRQf1tKm_Zf2",
      "execution_count": null,
      "outputs": []
    },
    {
      "cell_type": "markdown",
      "source": [
        "Finalmente, criamos o ficheiro `xyz` com as melhores geometrias a cada iteração, e aproveitamos para fazer uma análise da média da evolução das energias com o nº de iterações."
      ],
      "metadata": {
        "id": "NtujG9aJ9SCP"
      },
      "id": "NtujG9aJ9SCP"
    },
    {
      "cell_type": "code",
      "source": [
        "with open('ga_history.trj','w') as f:\n",
        "  for n,v in enumerate(history):\n",
        "    dx, dy, dz, theta, phi, gamma = v \n",
        "    theta = theta%(2*np.pi)\n",
        "    phi = phi%(2*np.pi)\n",
        "    gamma = gamma%(2*np.pi)\n",
        "    new_fu = fu.copy()\n",
        "    new_fu.orient(dx,dy,dz,theta,phi,gamma)\n",
        "    system = dna + new_fu\n",
        "    f.write(system.write_xyz(comment=f\"Iter {n+1} energy= {v.score}\"))\n",
        "\n",
        "import pandas as pd\n",
        "pd.DataFrame({'Iteration':np.arange(len(history)),\n",
        "              'Best_score':[i.score for i in history],\n",
        "              'Av_score':av_scores,\n",
        "              'Std_score':sd_scores}).to_csv('ga_history.csv', index=False)\n"
      ],
      "metadata": {
        "id": "c_g2KSawOEtd"
      },
      "id": "c_g2KSawOEtd",
      "execution_count": null,
      "outputs": []
    },
    {
      "cell_type": "markdown",
      "source": [
        "Finalmente, fazemos um zip (`TP6.zip`) de todos os ficheiros que podemos precisar para a resolução das questões (para além dos dados calculados neste _notebook_)."
      ],
      "metadata": {
        "id": "OZH7zj9MWclx"
      },
      "id": "OZH7zj9MWclx"
    },
    {
      "cell_type": "code",
      "source": [
        "! zip TP6.zip 5fu.xyz ACG.xyz ga_history.* "
      ],
      "metadata": {
        "id": "fBAV4NZ3Wnbq"
      },
      "id": "fBAV4NZ3Wnbq",
      "execution_count": null,
      "outputs": []
    },
    {
      "cell_type": "markdown",
      "id": "3a4ddaf0",
      "metadata": {
        "id": "3a4ddaf0"
      },
      "source": [
        "# Questões\n",
        "\n",
        "1. Indique a energia-base do sistema DNA+ 10 (5-FU).\n",
        "1. Como caracteriza o sistema 5-FU-DNA antes no ponto inicial da pesquisa?\n",
        "1. Como caracteriza o sistema 5-FU-DNA no final da pesquisa?\n",
        "1. Estime a energia de interacção 5-FU-DNA em kJ/mol."
      ]
    }
  ],
  "metadata": {
    "kernelspec": {
      "display_name": "Python 3 (ipykernel)",
      "language": "python",
      "name": "python3"
    },
    "language_info": {
      "codemirror_mode": {
        "name": "ipython",
        "version": 3
      },
      "file_extension": ".py",
      "mimetype": "text/x-python",
      "name": "python",
      "nbconvert_exporter": "python",
      "pygments_lexer": "ipython3",
      "version": "3.10.5"
    },
    "colab": {
      "provenance": [],
      "collapsed_sections": []
    }
  },
  "nbformat": 4,
  "nbformat_minor": 5
}